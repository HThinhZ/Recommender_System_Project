{
 "cells": [
  {
   "cell_type": "markdown",
   "metadata": {},
   "source": [
    "# TIỀN XỬ LÝ VÀ KHÁM PHÁ DỮ LIỆU"
   ]
  },
  {
   "cell_type": "markdown",
   "metadata": {},
   "source": [
    "## 📂 IMPORT THƯ VIỆN CẦN THIẾT"
   ]
  },
  {
   "cell_type": "code",
   "execution_count": 1,
   "metadata": {},
   "outputs": [],
   "source": [
    "import pandas as pd\n",
    "import matplotlib.pyplot as plt\n",
    "import seaborn as sns\n",
    "import numpy as np"
   ]
  },
  {
   "cell_type": "markdown",
   "metadata": {},
   "source": [
    "---"
   ]
  },
  {
   "cell_type": "markdown",
   "metadata": {},
   "source": [
    "## 📂 KHÁM PHÁ DỮ LIỆU "
   ]
  },
  {
   "cell_type": "markdown",
   "metadata": {},
   "source": [
    "### 1. Đọc dữ liệu từ file csv vào dataframe"
   ]
  },
  {
   "cell_type": "code",
   "execution_count": 2,
   "metadata": {},
   "outputs": [
    {
     "data": {
      "text/html": [
       "<div>\n",
       "<style scoped>\n",
       "    .dataframe tbody tr th:only-of-type {\n",
       "        vertical-align: middle;\n",
       "    }\n",
       "\n",
       "    .dataframe tbody tr th {\n",
       "        vertical-align: top;\n",
       "    }\n",
       "\n",
       "    .dataframe thead th {\n",
       "        text-align: right;\n",
       "    }\n",
       "</style>\n",
       "<table border=\"1\" class=\"dataframe\">\n",
       "  <thead>\n",
       "    <tr style=\"text-align: right;\">\n",
       "      <th></th>\n",
       "      <th>user_id</th>\n",
       "      <th>user_name</th>\n",
       "      <th>member_since</th>\n",
       "    </tr>\n",
       "  </thead>\n",
       "  <tbody>\n",
       "    <tr>\n",
       "      <th>0</th>\n",
       "      <td>ur0032412</td>\n",
       "      <td>Buckywunder</td>\n",
       "      <td>January 2000</td>\n",
       "    </tr>\n",
       "    <tr>\n",
       "      <th>1</th>\n",
       "      <td>ur0033913</td>\n",
       "      <td>Sylviastel</td>\n",
       "      <td>January 2001</td>\n",
       "    </tr>\n",
       "    <tr>\n",
       "      <th>2</th>\n",
       "      <td>ur0035229</td>\n",
       "      <td>Spleen</td>\n",
       "      <td>January 2001</td>\n",
       "    </tr>\n",
       "    <tr>\n",
       "      <th>3</th>\n",
       "      <td>ur0043337</td>\n",
       "      <td>Dave-79</td>\n",
       "      <td>September 2001</td>\n",
       "    </tr>\n",
       "    <tr>\n",
       "      <th>4</th>\n",
       "      <td>ur0058605</td>\n",
       "      <td>Dan-56</td>\n",
       "      <td>March 1999</td>\n",
       "    </tr>\n",
       "    <tr>\n",
       "      <th>5</th>\n",
       "      <td>ur0064529</td>\n",
       "      <td>dalton2</td>\n",
       "      <td>July 2000</td>\n",
       "    </tr>\n",
       "    <tr>\n",
       "      <th>6</th>\n",
       "      <td>ur0068069</td>\n",
       "      <td>Nuncio</td>\n",
       "      <td>March 1999</td>\n",
       "    </tr>\n",
       "    <tr>\n",
       "      <th>7</th>\n",
       "      <td>ur0068788</td>\n",
       "      <td>Boyo-2</td>\n",
       "      <td>March 2000</td>\n",
       "    </tr>\n",
       "    <tr>\n",
       "      <th>8</th>\n",
       "      <td>ur0075285</td>\n",
       "      <td>KFL</td>\n",
       "      <td>February 1999</td>\n",
       "    </tr>\n",
       "    <tr>\n",
       "      <th>9</th>\n",
       "      <td>ur0078412</td>\n",
       "      <td>Neve_Fan</td>\n",
       "      <td>December 2001</td>\n",
       "    </tr>\n",
       "  </tbody>\n",
       "</table>\n",
       "</div>"
      ],
      "text/plain": [
       "     user_id    user_name    member_since\n",
       "0  ur0032412  Buckywunder    January 2000\n",
       "1  ur0033913   Sylviastel    January 2001\n",
       "2  ur0035229       Spleen    January 2001\n",
       "3  ur0043337      Dave-79  September 2001\n",
       "4  ur0058605       Dan-56      March 1999\n",
       "5  ur0064529      dalton2       July 2000\n",
       "6  ur0068069       Nuncio      March 1999\n",
       "7  ur0068788       Boyo-2      March 2000\n",
       "8  ur0075285          KFL   February 1999\n",
       "9  ur0078412     Neve_Fan   December 2001"
      ]
     },
     "execution_count": 2,
     "metadata": {},
     "output_type": "execute_result"
    }
   ],
   "source": [
    "df_users = pd.read_csv('data/users_info.csv')\n",
    "df_users.head(10)"
   ]
  },
  {
   "cell_type": "code",
   "execution_count": 3,
   "metadata": {},
   "outputs": [
    {
     "data": {
      "text/html": [
       "<div>\n",
       "<style scoped>\n",
       "    .dataframe tbody tr th:only-of-type {\n",
       "        vertical-align: middle;\n",
       "    }\n",
       "\n",
       "    .dataframe tbody tr th {\n",
       "        vertical-align: top;\n",
       "    }\n",
       "\n",
       "    .dataframe thead th {\n",
       "        text-align: right;\n",
       "    }\n",
       "</style>\n",
       "<table border=\"1\" class=\"dataframe\">\n",
       "  <thead>\n",
       "    <tr style=\"text-align: right;\">\n",
       "      <th></th>\n",
       "      <th>user_id</th>\n",
       "      <th>movie_id</th>\n",
       "      <th>user_rating</th>\n",
       "    </tr>\n",
       "  </thead>\n",
       "  <tbody>\n",
       "    <tr>\n",
       "      <th>0</th>\n",
       "      <td>ur1174211</td>\n",
       "      <td>tt0012349</td>\n",
       "      <td>NaN</td>\n",
       "    </tr>\n",
       "    <tr>\n",
       "      <th>1</th>\n",
       "      <td>ur4103165</td>\n",
       "      <td>tt0012349</td>\n",
       "      <td>9.0</td>\n",
       "    </tr>\n",
       "    <tr>\n",
       "      <th>2</th>\n",
       "      <td>ur4445210</td>\n",
       "      <td>tt0012349</td>\n",
       "      <td>9.0</td>\n",
       "    </tr>\n",
       "    <tr>\n",
       "      <th>3</th>\n",
       "      <td>ur1888886</td>\n",
       "      <td>tt0012349</td>\n",
       "      <td>9.0</td>\n",
       "    </tr>\n",
       "    <tr>\n",
       "      <th>4</th>\n",
       "      <td>ur0679729</td>\n",
       "      <td>tt0012349</td>\n",
       "      <td>NaN</td>\n",
       "    </tr>\n",
       "    <tr>\n",
       "      <th>5</th>\n",
       "      <td>ur0853359</td>\n",
       "      <td>tt0012349</td>\n",
       "      <td>10.0</td>\n",
       "    </tr>\n",
       "    <tr>\n",
       "      <th>6</th>\n",
       "      <td>ur15148330</td>\n",
       "      <td>tt0012349</td>\n",
       "      <td>8.0</td>\n",
       "    </tr>\n",
       "    <tr>\n",
       "      <th>7</th>\n",
       "      <td>ur2483625</td>\n",
       "      <td>tt0012349</td>\n",
       "      <td>9.0</td>\n",
       "    </tr>\n",
       "    <tr>\n",
       "      <th>8</th>\n",
       "      <td>ur9972457</td>\n",
       "      <td>tt0012349</td>\n",
       "      <td>8.0</td>\n",
       "    </tr>\n",
       "    <tr>\n",
       "      <th>9</th>\n",
       "      <td>ur0453068</td>\n",
       "      <td>tt0012349</td>\n",
       "      <td>10.0</td>\n",
       "    </tr>\n",
       "  </tbody>\n",
       "</table>\n",
       "</div>"
      ],
      "text/plain": [
       "      user_id   movie_id  user_rating\n",
       "0   ur1174211  tt0012349          NaN\n",
       "1   ur4103165  tt0012349          9.0\n",
       "2   ur4445210  tt0012349          9.0\n",
       "3   ur1888886  tt0012349          9.0\n",
       "4   ur0679729  tt0012349          NaN\n",
       "5   ur0853359  tt0012349         10.0\n",
       "6  ur15148330  tt0012349          8.0\n",
       "7   ur2483625  tt0012349          9.0\n",
       "8   ur9972457  tt0012349          8.0\n",
       "9   ur0453068  tt0012349         10.0"
      ]
     },
     "execution_count": 3,
     "metadata": {},
     "output_type": "execute_result"
    }
   ],
   "source": [
    "df_rating = pd.read_csv('data/users_rating.csv')\n",
    "df_rating.head(10)"
   ]
  },
  {
   "cell_type": "markdown",
   "metadata": {},
   "source": [
    "### 2. Dữ liệu gồm bao nhiêu dòng và bao nhiêu cột?"
   ]
  },
  {
   "cell_type": "code",
   "execution_count": 4,
   "metadata": {},
   "outputs": [
    {
     "name": "stdout",
     "output_type": "stream",
     "text": [
      "USERS DATASET\n",
      "Số dòng của dữ liệu:  579\n",
      "Số cột của dữ liệu:  3\n",
      "RATING DATASET\n",
      "Số dòng của dữ liệu:  99802\n",
      "Số cột của dữ liệu:  3\n"
     ]
    }
   ],
   "source": [
    "#=======================================USERS===============================================\n",
    "print('USERS DATASET')\n",
    "num_rows_users = df_users.shape[0]\n",
    "num_cols_users = df_users.shape[1]\n",
    "print('Số dòng của dữ liệu: ', num_rows_users)\n",
    "print('Số cột của dữ liệu: ', num_cols_users)\n",
    "\n",
    "#=======================================RATINGS=============================================\n",
    "print('RATING DATASET')\n",
    "num_rows_rating = df_rating.shape[0]\n",
    "num_cols_rating = df_rating.shape[1]\n",
    "print('Số dòng của dữ liệu: ', num_rows_rating)\n",
    "print('Số cột của dữ liệu: ', num_cols_rating)"
   ]
  },
  {
   "cell_type": "markdown",
   "metadata": {},
   "source": [
    "### 3. Mỗi dòng có ý nghĩa gì? Có vấn đề các dòng có ý nghĩa khác nhau không?"
   ]
  },
  {
   "cell_type": "markdown",
   "metadata": {},
   "source": [
    "Theo quan sát sơ bộ về bộ dữ liệu:\n",
    "- Bộ dữ liệu thông tin người dùng: mỗi dòng cho biết các thông tin liên quan đến người dùng và thời gian tham gia vào hệ thống.\n",
    "- Bộ dữ liệu đánh giá phim: mỗi dòng cho biết thông tin liên quan đến người dùng, bộ phim, và điểm đánh giá của người dùng với bộ phim tương ứng. \n",
    "\n",
    "Có vẻ không có dòng nào không phù hợp."
   ]
  },
  {
   "cell_type": "markdown",
   "metadata": {},
   "source": [
    "### 4. Dữ liệu có các dòng bị lặp không? "
   ]
  },
  {
   "cell_type": "code",
   "execution_count": 5,
   "metadata": {},
   "outputs": [
    {
     "name": "stdout",
     "output_type": "stream",
     "text": [
      "USERS DATASET\n",
      "Dữ liệu không bị lặp!\n",
      "RATING DATASET\n",
      "Dữ liệu không bị lặp!\n"
     ]
    }
   ],
   "source": [
    "def check_duplicated(data):\n",
    "    check = data.duplicated().sum()\n",
    "    if check == 0:\n",
    "        print('Dữ liệu không bị lặp!')\n",
    "    else:\n",
    "        print('Có dòng bị lặp, kiểm tra lại!')\n",
    "\n",
    "#=======================================USERS===============================================\n",
    "print('USERS DATASET')\n",
    "check_duplicated(df_users)\n",
    "\n",
    "#=======================================RATINGS=============================================\n",
    "print('RATING DATASET')\n",
    "check_duplicated(df_rating)"
   ]
  },
  {
   "cell_type": "markdown",
   "metadata": {},
   "source": [
    "### 5. Mỗi cột có ý nghĩa gì?"
   ]
  },
  {
   "cell_type": "markdown",
   "metadata": {},
   "source": [
    "- Bộ dữ liệu thông tin người dùng: \n",
    "    - **user_id**: id của người dùng.\n",
    "    - **user_name**: tên của người dùng.\n",
    "    - **member_since**: Tháng và năm tham gia.\n",
    "- Bộ dữ liệu đánh giá phim:\n",
    "    - **user_id**: id của người dùng.\n",
    "    - **movie_id**: id của bộ phim.\n",
    "    - **user_rating**: điểm đánh giá của người dùng cho bộ phim tương ứng. Điểm này sẽ giao động trong khoảng thừ 1 - 10 điểm."
   ]
  },
  {
   "cell_type": "markdown",
   "metadata": {},
   "source": [
    "### 6. Mỗi cột hiện đang có kiểu dữ liệu gì? Có cột nào có kiểu dữ liệu chưa phù hợp để có thể xử lý tiếp không?"
   ]
  },
  {
   "cell_type": "code",
   "execution_count": 6,
   "metadata": {},
   "outputs": [
    {
     "name": "stdout",
     "output_type": "stream",
     "text": [
      "USERS DATASET\n"
     ]
    },
    {
     "data": {
      "text/plain": [
       "user_id         object\n",
       "user_name       object\n",
       "member_since    object\n",
       "dtype: object"
      ]
     },
     "execution_count": 6,
     "metadata": {},
     "output_type": "execute_result"
    }
   ],
   "source": [
    "#=======================================USERS===============================================\n",
    "print('USERS DATASET')\n",
    "col_dtypes_users = pd.Series(df_users.dtypes)\n",
    "col_dtypes_users"
   ]
  },
  {
   "cell_type": "code",
   "execution_count": 7,
   "metadata": {},
   "outputs": [
    {
     "name": "stdout",
     "output_type": "stream",
     "text": [
      "RATING DATASET\n"
     ]
    },
    {
     "data": {
      "text/plain": [
       "user_id         object\n",
       "movie_id        object\n",
       "user_rating    float64\n",
       "dtype: object"
      ]
     },
     "execution_count": 7,
     "metadata": {},
     "output_type": "execute_result"
    }
   ],
   "source": [
    "#=======================================RATINGS=============================================\n",
    "print('RATING DATASET')\n",
    "col_dtypes_rating = pd.Series(df_rating.dtypes)\n",
    "col_dtypes_rating"
   ]
  },
  {
   "cell_type": "markdown",
   "metadata": {},
   "source": [
    "#### 🔎 Tìm hiểu về các cột có kiểu object"
   ]
  },
  {
   "cell_type": "code",
   "execution_count": 8,
   "metadata": {},
   "outputs": [],
   "source": [
    "def object_dtype(s):\n",
    "    dtypes = set()\n",
    "    s.apply(lambda x : dtypes.add(type(x)))\n",
    "    return dtypes"
   ]
  },
  {
   "cell_type": "code",
   "execution_count": 9,
   "metadata": {},
   "outputs": [
    {
     "name": "stdout",
     "output_type": "stream",
     "text": [
      "USERS DATASET\n"
     ]
    },
    {
     "data": {
      "text/plain": [
       "user_id         {<class 'str'>}\n",
       "user_name       {<class 'str'>}\n",
       "member_since    {<class 'str'>}\n",
       "dtype: object"
      ]
     },
     "execution_count": 9,
     "metadata": {},
     "output_type": "execute_result"
    }
   ],
   "source": [
    "#=======================================USERS===============================================\n",
    "print('USERS DATASET')\n",
    "list_object_users= list(col_dtypes_users.loc[col_dtypes_users.values == object].index)\n",
    "list_type_users = []\n",
    "for i in list_object_users:\n",
    "    list_type_users.insert(len(list_type_users), object_dtype(df_users[i]))\n",
    "type_object_users = pd.Series(list_type_users,list_object_users)\n",
    "type_object_users"
   ]
  },
  {
   "cell_type": "code",
   "execution_count": 10,
   "metadata": {},
   "outputs": [
    {
     "name": "stdout",
     "output_type": "stream",
     "text": [
      "RATING DATASET\n"
     ]
    },
    {
     "data": {
      "text/plain": [
       "user_id     {<class 'str'>}\n",
       "movie_id    {<class 'str'>}\n",
       "dtype: object"
      ]
     },
     "execution_count": 10,
     "metadata": {},
     "output_type": "execute_result"
    }
   ],
   "source": [
    "#=======================================RATINGS=============================================\n",
    "print('RATING DATASET')\n",
    "list_object_rating= list(col_dtypes_rating.loc[col_dtypes_rating.values == object].index)\n",
    "list_type_rating = []\n",
    "for i in list_object_rating:\n",
    "    list_type_rating.insert(len(list_type_rating), object_dtype(df_rating[i]))\n",
    "type_object_rating = pd.Series(list_type_rating,list_object_rating)\n",
    "type_object_rating"
   ]
  },
  {
   "cell_type": "markdown",
   "metadata": {},
   "source": [
    "💡 **Ta thấy rằng**: Nên đưa cột `member_since` về dạng `datetime` để tiếp tục khám phá thêm ở cột này."
   ]
  },
  {
   "cell_type": "markdown",
   "metadata": {},
   "source": [
    "---"
   ]
  },
  {
   "cell_type": "markdown",
   "metadata": {},
   "source": [
    "<h2> 📂 TIỀN XỬ LÝ DỮ LIỆU </h2>"
   ]
  },
  {
   "cell_type": "markdown",
   "metadata": {},
   "source": [
    "### Chuyển dtype các cột **member_since** về `datetime`"
   ]
  },
  {
   "cell_type": "code",
   "execution_count": 11,
   "metadata": {},
   "outputs": [
    {
     "name": "stderr",
     "output_type": "stream",
     "text": [
      "C:\\Users\\admin\\AppData\\Local\\Temp\\ipykernel_7092\\4168177047.py:1: UserWarning: Could not infer format, so each element will be parsed individually, falling back to `dateutil`. To ensure parsing is consistent and as-expected, please specify a format.\n",
      "  df_users['member_since'] = pd.to_datetime(df_users['member_since']).dt.to_period('M');\n"
     ]
    }
   ],
   "source": [
    "df_users['member_since'] = pd.to_datetime(df_users['member_since']).dt.to_period('M');"
   ]
  },
  {
   "cell_type": "markdown",
   "metadata": {},
   "source": [
    "---"
   ]
  },
  {
   "cell_type": "markdown",
   "metadata": {},
   "source": [
    "<h2> 📂 QUAY LẠI BƯỚC KHÁM PHÁ DỮ LIỆU </h2>"
   ]
  },
  {
   "cell_type": "markdown",
   "metadata": {},
   "source": [
    "### ✈️ 7. Với mỗi cột có kiểu dữ liệu dạng numeric, ta tìm hiểu sự phân bố các giá trị."
   ]
  },
  {
   "cell_type": "markdown",
   "metadata": {},
   "source": [
    "🔎 Hiện tại có các cột là `member_since` trong dataframe thông tin người dùng và cột `user_rating` trong dataframe thông tin đánh giá phim thuộc nhóm `Numeric`. Với mỗi cột ta sẽ tính tỉ lệ % giá trị thiếu (từ 0 đến 100), min, max. Sau đó lưu kết quả vào dataframe có 6 dòng là `\"missing_ratio\", \"min\", \"lower_quartile\", \"median\", \"upper_quartile\", \"max\"` và có tên cột là các cột thuộc nhóm `Numeric` "
   ]
  },
  {
   "cell_type": "code",
   "execution_count": 12,
   "metadata": {},
   "outputs": [],
   "source": [
    "row_info = [\"missing_ratio\", \"min\", \"lower_quartile\", \"median\", \"upper_quartile\", \"max\"]\n",
    "\n",
    "def find_data(col_name, df):\n",
    "    missing_ratios = (df[col_name].isna().sum() / len(df) * 100)\n",
    "    min_value = df[col_name].min()\n",
    "    median = df[col_name].median()\n",
    "    lower_quartile = df[col_name].quantile(q = 0.25, interpolation = 'lower')\n",
    "    upper_quartile = df[col_name].quantile(q = 0.75, interpolation = 'higher')\n",
    "    max_value = df[col_name].max()\n",
    "    return missing_ratios, min_value, lower_quartile,median,upper_quartile, max_value"
   ]
  },
  {
   "cell_type": "code",
   "execution_count": 13,
   "metadata": {},
   "outputs": [
    {
     "name": "stdout",
     "output_type": "stream",
     "text": [
      "USERS DATASET\n"
     ]
    },
    {
     "data": {
      "text/html": [
       "<div>\n",
       "<style scoped>\n",
       "    .dataframe tbody tr th:only-of-type {\n",
       "        vertical-align: middle;\n",
       "    }\n",
       "\n",
       "    .dataframe tbody tr th {\n",
       "        vertical-align: top;\n",
       "    }\n",
       "\n",
       "    .dataframe thead th {\n",
       "        text-align: right;\n",
       "    }\n",
       "</style>\n",
       "<table border=\"1\" class=\"dataframe\">\n",
       "  <thead>\n",
       "    <tr style=\"text-align: right;\">\n",
       "      <th></th>\n",
       "      <th>member_since</th>\n",
       "    </tr>\n",
       "  </thead>\n",
       "  <tbody>\n",
       "    <tr>\n",
       "      <th>missing_ratio</th>\n",
       "      <td>0.0</td>\n",
       "    </tr>\n",
       "    <tr>\n",
       "      <th>min</th>\n",
       "      <td>1999-02</td>\n",
       "    </tr>\n",
       "    <tr>\n",
       "      <th>lower_quartile</th>\n",
       "      <td>2003-06</td>\n",
       "    </tr>\n",
       "    <tr>\n",
       "      <th>median</th>\n",
       "      <td>2007-06</td>\n",
       "    </tr>\n",
       "    <tr>\n",
       "      <th>upper_quartile</th>\n",
       "      <td>2015-08</td>\n",
       "    </tr>\n",
       "    <tr>\n",
       "      <th>max</th>\n",
       "      <td>2023-11</td>\n",
       "    </tr>\n",
       "  </tbody>\n",
       "</table>\n",
       "</div>"
      ],
      "text/plain": [
       "               member_since\n",
       "missing_ratio           0.0\n",
       "min                 1999-02\n",
       "lower_quartile      2003-06\n",
       "median              2007-06\n",
       "upper_quartile      2015-08\n",
       "max                 2023-11"
      ]
     },
     "execution_count": 13,
     "metadata": {},
     "output_type": "execute_result"
    }
   ],
   "source": [
    "#=======================================USERS===============================================\n",
    "print('USERS DATASET')\n",
    "col_info_users = ['member_since']\n",
    "nume_col_profiles_df_users = pd.DataFrame(columns = col_info_users, index = row_info)\n",
    "for name in col_info_users:\n",
    "    nume_col_profiles_df_users[name] = find_data(name, df_users)\n",
    "nume_col_profiles_df_users"
   ]
  },
  {
   "cell_type": "code",
   "execution_count": 14,
   "metadata": {},
   "outputs": [
    {
     "name": "stdout",
     "output_type": "stream",
     "text": [
      "RATING DATASET\n"
     ]
    },
    {
     "data": {
      "text/html": [
       "<div>\n",
       "<style scoped>\n",
       "    .dataframe tbody tr th:only-of-type {\n",
       "        vertical-align: middle;\n",
       "    }\n",
       "\n",
       "    .dataframe tbody tr th {\n",
       "        vertical-align: top;\n",
       "    }\n",
       "\n",
       "    .dataframe thead th {\n",
       "        text-align: right;\n",
       "    }\n",
       "</style>\n",
       "<table border=\"1\" class=\"dataframe\">\n",
       "  <thead>\n",
       "    <tr style=\"text-align: right;\">\n",
       "      <th></th>\n",
       "      <th>user_rating</th>\n",
       "    </tr>\n",
       "  </thead>\n",
       "  <tbody>\n",
       "    <tr>\n",
       "      <th>missing_ratio</th>\n",
       "      <td>9.346506</td>\n",
       "    </tr>\n",
       "    <tr>\n",
       "      <th>min</th>\n",
       "      <td>1.000000</td>\n",
       "    </tr>\n",
       "    <tr>\n",
       "      <th>lower_quartile</th>\n",
       "      <td>6.000000</td>\n",
       "    </tr>\n",
       "    <tr>\n",
       "      <th>median</th>\n",
       "      <td>8.000000</td>\n",
       "    </tr>\n",
       "    <tr>\n",
       "      <th>upper_quartile</th>\n",
       "      <td>9.000000</td>\n",
       "    </tr>\n",
       "    <tr>\n",
       "      <th>max</th>\n",
       "      <td>10.000000</td>\n",
       "    </tr>\n",
       "  </tbody>\n",
       "</table>\n",
       "</div>"
      ],
      "text/plain": [
       "                user_rating\n",
       "missing_ratio      9.346506\n",
       "min                1.000000\n",
       "lower_quartile     6.000000\n",
       "median             8.000000\n",
       "upper_quartile     9.000000\n",
       "max               10.000000"
      ]
     },
     "execution_count": 14,
     "metadata": {},
     "output_type": "execute_result"
    }
   ],
   "source": [
    "#=======================================RATINGS=============================================\n",
    "print('RATING DATASET')\n",
    "col_info_rating = ['user_rating']\n",
    "nume_col_profiles_df_rating = pd.DataFrame(columns = col_info_rating, index = row_info)\n",
    "for name in col_info_rating:\n",
    "    nume_col_profiles_df_rating[name] = find_data(name, df_rating)\n",
    "nume_col_profiles_df_rating"
   ]
  },
  {
   "cell_type": "markdown",
   "metadata": {},
   "source": [
    "💡 **Ta thấy rằng**: Cột `user_rating` có hơn 9% dữ liệu bị thiếu. Ta sẽ tiến hành lấp đầy các dữ liệu thiếu này bằng giá trị trung bình của cột `user_rating`."
   ]
  },
  {
   "cell_type": "markdown",
   "metadata": {},
   "source": [
    "---"
   ]
  },
  {
   "cell_type": "markdown",
   "metadata": {},
   "source": [
    "### Xử lý giá trị thiếu trong cột `user_rating` của dữ liệu **rating**"
   ]
  },
  {
   "cell_type": "code",
   "execution_count": 15,
   "metadata": {},
   "outputs": [],
   "source": [
    "mean_value = int(df_rating['user_rating'].mean())\n",
    "df_rating['user_rating'].fillna(value = mean_value, inplace = True)"
   ]
  },
  {
   "cell_type": "markdown",
   "metadata": {},
   "source": [
    "---"
   ]
  },
  {
   "cell_type": "markdown",
   "metadata": {},
   "source": [
    "### 8. Với mỗi cột có kiểu dữ liệu dạng categorical, ta tìm hiểu sự phân bố các giá trị."
   ]
  },
  {
   "cell_type": "markdown",
   "metadata": {},
   "source": [
    "🔎 Ngoài các cột có dữ liệu thuộc nhóm `Numeric` đã nêu ở trên ta xét các cột còn lại.\n",
    "Với mỗi cột `categorical`, ta thực hiện tính % giá trị thiếu(từ 0 - 100), số lượng giá trị khác nhau(không xét giá trị thiếu), list/array các giá trị khác nhau(không xét giá trị thiếu) và lưu kết quả vào dataframe có 3 dòng là `\"missing_ratio\", \"num_diff_vals\", \"diff_vals\"`; và có các cột là các cột dữ liệu thuộc nhóm categorical."
   ]
  },
  {
   "cell_type": "code",
   "execution_count": 16,
   "metadata": {},
   "outputs": [],
   "source": [
    "row_names = [\"missing_ratio\", \"num_diff_vals\", \"diff_vals\"]\n",
    "\n",
    "def info_col(col_name,df):\n",
    "    missing_ratios = df[col_name].isna().sum()/len(df)*100\n",
    "    num_diff = df[col_name].dropna().nunique()\n",
    "    diff_value = list(df[col_name].dropna().unique())\n",
    "    return missing_ratios, num_diff, diff_value"
   ]
  },
  {
   "cell_type": "code",
   "execution_count": 17,
   "metadata": {},
   "outputs": [
    {
     "name": "stdout",
     "output_type": "stream",
     "text": [
      "USERS DATASET\n"
     ]
    },
    {
     "data": {
      "text/html": [
       "<div>\n",
       "<style scoped>\n",
       "    .dataframe tbody tr th:only-of-type {\n",
       "        vertical-align: middle;\n",
       "    }\n",
       "\n",
       "    .dataframe tbody tr th {\n",
       "        vertical-align: top;\n",
       "    }\n",
       "\n",
       "    .dataframe thead th {\n",
       "        text-align: right;\n",
       "    }\n",
       "</style>\n",
       "<table border=\"1\" class=\"dataframe\">\n",
       "  <thead>\n",
       "    <tr style=\"text-align: right;\">\n",
       "      <th></th>\n",
       "      <th>user_id</th>\n",
       "      <th>user_name</th>\n",
       "    </tr>\n",
       "  </thead>\n",
       "  <tbody>\n",
       "    <tr>\n",
       "      <th>missing_ratio</th>\n",
       "      <td>0.0</td>\n",
       "      <td>0.0</td>\n",
       "    </tr>\n",
       "    <tr>\n",
       "      <th>num_diff_vals</th>\n",
       "      <td>579</td>\n",
       "      <td>579</td>\n",
       "    </tr>\n",
       "    <tr>\n",
       "      <th>diff_vals</th>\n",
       "      <td>[ur0032412, ur0033913, ur0035229, ur0043337, u...</td>\n",
       "      <td>[Buckywunder, Sylviastel, Spleen, Dave-79, Dan...</td>\n",
       "    </tr>\n",
       "  </tbody>\n",
       "</table>\n",
       "</div>"
      ],
      "text/plain": [
       "                                                         user_id  \\\n",
       "missing_ratio                                                0.0   \n",
       "num_diff_vals                                                579   \n",
       "diff_vals      [ur0032412, ur0033913, ur0035229, ur0043337, u...   \n",
       "\n",
       "                                                       user_name  \n",
       "missing_ratio                                                0.0  \n",
       "num_diff_vals                                                579  \n",
       "diff_vals      [Buckywunder, Sylviastel, Spleen, Dave-79, Dan...  "
      ]
     },
     "execution_count": 17,
     "metadata": {},
     "output_type": "execute_result"
    }
   ],
   "source": [
    "#=======================================USERS===============================================\n",
    "print('USERS DATASET')\n",
    "col_names_users = ['user_id', 'user_name']\n",
    "cate_col_profiles_df_users = pd.DataFrame(columns=col_names_users,index=row_names)\n",
    "\n",
    "for name in col_names_users:\n",
    "    cate_col_profiles_df_users[name] = info_col(name, df_users)\n",
    "cate_col_profiles_df_users"
   ]
  },
  {
   "cell_type": "code",
   "execution_count": 18,
   "metadata": {},
   "outputs": [
    {
     "name": "stdout",
     "output_type": "stream",
     "text": [
      "RATING DATASET\n"
     ]
    },
    {
     "data": {
      "text/html": [
       "<div>\n",
       "<style scoped>\n",
       "    .dataframe tbody tr th:only-of-type {\n",
       "        vertical-align: middle;\n",
       "    }\n",
       "\n",
       "    .dataframe tbody tr th {\n",
       "        vertical-align: top;\n",
       "    }\n",
       "\n",
       "    .dataframe thead th {\n",
       "        text-align: right;\n",
       "    }\n",
       "</style>\n",
       "<table border=\"1\" class=\"dataframe\">\n",
       "  <thead>\n",
       "    <tr style=\"text-align: right;\">\n",
       "      <th></th>\n",
       "      <th>user_id</th>\n",
       "      <th>movie_id</th>\n",
       "    </tr>\n",
       "  </thead>\n",
       "  <tbody>\n",
       "    <tr>\n",
       "      <th>missing_ratio</th>\n",
       "      <td>0.0</td>\n",
       "      <td>0.0</td>\n",
       "    </tr>\n",
       "    <tr>\n",
       "      <th>num_diff_vals</th>\n",
       "      <td>22418</td>\n",
       "      <td>19516</td>\n",
       "    </tr>\n",
       "    <tr>\n",
       "      <th>diff_vals</th>\n",
       "      <td>[ur1174211, ur4103165, ur4445210, ur1888886, u...</td>\n",
       "      <td>[tt0012349, tt0015324, tt0015864, tt0017136, t...</td>\n",
       "    </tr>\n",
       "  </tbody>\n",
       "</table>\n",
       "</div>"
      ],
      "text/plain": [
       "                                                         user_id  \\\n",
       "missing_ratio                                                0.0   \n",
       "num_diff_vals                                              22418   \n",
       "diff_vals      [ur1174211, ur4103165, ur4445210, ur1888886, u...   \n",
       "\n",
       "                                                        movie_id  \n",
       "missing_ratio                                                0.0  \n",
       "num_diff_vals                                              19516  \n",
       "diff_vals      [tt0012349, tt0015324, tt0015864, tt0017136, t...  "
      ]
     },
     "execution_count": 18,
     "metadata": {},
     "output_type": "execute_result"
    }
   ],
   "source": [
    "#=======================================RATINGS=============================================\n",
    "print('RATING DATASET')\n",
    "col_names_rating = ['user_id', 'movie_id']\n",
    "cate_col_profiles_df_rating = pd.DataFrame(columns=col_names_rating,index=row_names)\n",
    "\n",
    "for name in col_names_rating:\n",
    "    cate_col_profiles_df_rating[name] = info_col(name, df_rating)\n",
    "cate_col_profiles_df_rating"
   ]
  },
  {
   "cell_type": "markdown",
   "metadata": {},
   "source": [
    "---"
   ]
  },
  {
   "cell_type": "markdown",
   "metadata": {},
   "source": [
    "### 9. Sau khi khám phá & tiền xử lý dữ liệu xong, ta sẽ xuất ra một file .csv khác để phục vụ cho các bước tiếp theo.\n"
   ]
  },
  {
   "cell_type": "code",
   "execution_count": 19,
   "metadata": {},
   "outputs": [],
   "source": [
    "df_users.to_csv('data/users_infor_explored.csv', index = False)  "
   ]
  },
  {
   "cell_type": "code",
   "execution_count": 20,
   "metadata": {},
   "outputs": [],
   "source": [
    "df_rating.to_csv('data/users_rating_explored.csv', index = False)  "
   ]
  }
 ],
 "metadata": {
  "kernelspec": {
   "display_name": "Python 3",
   "language": "python",
   "name": "python3"
  },
  "language_info": {
   "codemirror_mode": {
    "name": "ipython",
    "version": 3
   },
   "file_extension": ".py",
   "mimetype": "text/x-python",
   "name": "python",
   "nbconvert_exporter": "python",
   "pygments_lexer": "ipython3",
   "version": "3.12.0"
  }
 },
 "nbformat": 4,
 "nbformat_minor": 2
}
