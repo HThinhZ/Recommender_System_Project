{
 "cells": [
  {
   "cell_type": "markdown",
   "metadata": {},
   "source": [
    "## **Task 4: Visualize Data**\n",
    "<hr/>"
   ]
  },
  {
   "cell_type": "markdown",
   "metadata": {},
   "source": [
    "### **0. Import & Install libraries**"
   ]
  },
  {
   "cell_type": "code",
   "execution_count": 1,
   "metadata": {},
   "outputs": [],
   "source": [
    "# Install libraries"
   ]
  },
  {
   "cell_type": "code",
   "execution_count": 2,
   "metadata": {},
   "outputs": [],
   "source": [
    "# Import libraries\n",
    "from pymongo.mongo_client import MongoClient\n",
    "from pymongo.server_api import ServerApi\n",
    "import pandas as pd\n",
    "from itertools import combinations\n",
    "## Visualizing\n",
    "import seaborn as sns\n",
    "import matplotlib.pyplot as plt\n",
    "import plotly.express as px\n",
    "import plotly.graph_objects as go\n",
    "plt.style.use('fivethirtyeight')"
   ]
  },
  {
   "cell_type": "markdown",
   "metadata": {},
   "source": [
    "<hr/>\n",
    "\n",
    "### **1. Kết nối và lấy data từ Local MongoDB**"
   ]
  },
  {
   "cell_type": "code",
   "execution_count": 3,
   "metadata": {},
   "outputs": [],
   "source": [
    "client = MongoClient('mongodb://localhost:27017/')\n",
    "db = client['T2_PreprocessedData']"
   ]
  },
  {
   "cell_type": "code",
   "execution_count": 4,
   "metadata": {},
   "outputs": [
    {
     "data": {
      "text/html": [
       "<div>\n",
       "<style scoped>\n",
       "    .dataframe tbody tr th:only-of-type {\n",
       "        vertical-align: middle;\n",
       "    }\n",
       "\n",
       "    .dataframe tbody tr th {\n",
       "        vertical-align: top;\n",
       "    }\n",
       "\n",
       "    .dataframe thead th {\n",
       "        text-align: right;\n",
       "    }\n",
       "</style>\n",
       "<table border=\"1\" class=\"dataframe\">\n",
       "  <thead>\n",
       "    <tr style=\"text-align: right;\">\n",
       "      <th></th>\n",
       "      <th>user_id</th>\n",
       "      <th>user_name</th>\n",
       "      <th>member_since</th>\n",
       "    </tr>\n",
       "  </thead>\n",
       "  <tbody>\n",
       "    <tr>\n",
       "      <th>0</th>\n",
       "      <td>ur0028288</td>\n",
       "      <td>merrywood</td>\n",
       "      <td>2000-11-01</td>\n",
       "    </tr>\n",
       "    <tr>\n",
       "      <th>1</th>\n",
       "      <td>ur0032412</td>\n",
       "      <td>Buckywunder</td>\n",
       "      <td>2000-01-01</td>\n",
       "    </tr>\n",
       "    <tr>\n",
       "      <th>2</th>\n",
       "      <td>ur0033913</td>\n",
       "      <td>Sylviastel</td>\n",
       "      <td>2001-01-01</td>\n",
       "    </tr>\n",
       "    <tr>\n",
       "      <th>3</th>\n",
       "      <td>ur0035229</td>\n",
       "      <td>Spleen</td>\n",
       "      <td>2001-01-01</td>\n",
       "    </tr>\n",
       "    <tr>\n",
       "      <th>4</th>\n",
       "      <td>ur0035641</td>\n",
       "      <td>pk-2</td>\n",
       "      <td>2001-02-01</td>\n",
       "    </tr>\n",
       "  </tbody>\n",
       "</table>\n",
       "</div>"
      ],
      "text/plain": [
       "     user_id    user_name member_since\n",
       "0  ur0028288    merrywood   2000-11-01\n",
       "1  ur0032412  Buckywunder   2000-01-01\n",
       "2  ur0033913   Sylviastel   2001-01-01\n",
       "3  ur0035229       Spleen   2001-01-01\n",
       "4  ur0035641         pk-2   2001-02-01"
      ]
     },
     "execution_count": 4,
     "metadata": {},
     "output_type": "execute_result"
    }
   ],
   "source": [
    "# Users Infor\n",
    "collection = db['Users_Infor']\n",
    "cursor = collection.find()\n",
    "data_list = list(cursor)\n",
    "\n",
    "ui_df = pd.DataFrame(data_list, index = None)\n",
    "ui_df = ui_df.drop('_id', axis=1, errors='ignore')\n",
    "ui_df.head()"
   ]
  },
  {
   "cell_type": "code",
   "execution_count": 5,
   "metadata": {},
   "outputs": [
    {
     "data": {
      "text/html": [
       "<div>\n",
       "<style scoped>\n",
       "    .dataframe tbody tr th:only-of-type {\n",
       "        vertical-align: middle;\n",
       "    }\n",
       "\n",
       "    .dataframe tbody tr th {\n",
       "        vertical-align: top;\n",
       "    }\n",
       "\n",
       "    .dataframe thead th {\n",
       "        text-align: right;\n",
       "    }\n",
       "</style>\n",
       "<table border=\"1\" class=\"dataframe\">\n",
       "  <thead>\n",
       "    <tr style=\"text-align: right;\">\n",
       "      <th></th>\n",
       "      <th>movie_id</th>\n",
       "      <th>title</th>\n",
       "      <th>introduction</th>\n",
       "      <th>runtimeSeconds</th>\n",
       "      <th>genre</th>\n",
       "      <th>releaseDate</th>\n",
       "      <th>releaseLocation</th>\n",
       "      <th>actors</th>\n",
       "      <th>directors</th>\n",
       "      <th>totalRatings</th>\n",
       "      <th>ratingStar</th>\n",
       "      <th>totalAwards</th>\n",
       "      <th>totalNominations</th>\n",
       "    </tr>\n",
       "  </thead>\n",
       "  <tbody>\n",
       "    <tr>\n",
       "      <th>0</th>\n",
       "      <td>tt0012349</td>\n",
       "      <td>The Kid</td>\n",
       "      <td>The Tramp cares for an abandoned child, but ev...</td>\n",
       "      <td>4080</td>\n",
       "      <td>['Comedy', 'Drama', 'Family']</td>\n",
       "      <td>1921-02-06</td>\n",
       "      <td>United States</td>\n",
       "      <td>['Charles Chaplin', 'Edna Purviance', 'Jackie ...</td>\n",
       "      <td>['Charles Chaplin']</td>\n",
       "      <td>134289.0</td>\n",
       "      <td>8.2</td>\n",
       "      <td>2</td>\n",
       "      <td>0</td>\n",
       "    </tr>\n",
       "    <tr>\n",
       "      <th>1</th>\n",
       "      <td>tt0015864</td>\n",
       "      <td>The Gold Rush</td>\n",
       "      <td>A prospector goes to the Klondike during the 1...</td>\n",
       "      <td>5700</td>\n",
       "      <td>['Adventure', 'Comedy', 'Drama', 'Romance', 'W...</td>\n",
       "      <td>1925-08-16</td>\n",
       "      <td>United States</td>\n",
       "      <td>['Charles Chaplin', 'Mack Swain', 'Tom Murray']</td>\n",
       "      <td>['Charles Chaplin']</td>\n",
       "      <td>118269.0</td>\n",
       "      <td>8.1</td>\n",
       "      <td>5</td>\n",
       "      <td>3</td>\n",
       "    </tr>\n",
       "    <tr>\n",
       "      <th>2</th>\n",
       "      <td>tt0017136</td>\n",
       "      <td>Metropolis</td>\n",
       "      <td>In a futuristic city sharply divided between t...</td>\n",
       "      <td>9180</td>\n",
       "      <td>['Drama', 'Sci-Fi']</td>\n",
       "      <td>1927-03-13</td>\n",
       "      <td>United States</td>\n",
       "      <td>['Brigitte Helm', 'Alfred Abel', 'Gustav Fröhl...</td>\n",
       "      <td>['Fritz Lang']</td>\n",
       "      <td>184863.0</td>\n",
       "      <td>8.3</td>\n",
       "      <td>6</td>\n",
       "      <td>6</td>\n",
       "    </tr>\n",
       "    <tr>\n",
       "      <th>3</th>\n",
       "      <td>tt0017925</td>\n",
       "      <td>The General</td>\n",
       "      <td>After being rejected by the Confederate milita...</td>\n",
       "      <td>4680</td>\n",
       "      <td>['Action', 'Adventure', 'Comedy', 'Drama', 'War']</td>\n",
       "      <td>1927-01-02</td>\n",
       "      <td>United States</td>\n",
       "      <td>['Buster Keaton', 'Marion Mack', 'Glen Cavender']</td>\n",
       "      <td>['Clyde Bruckman', 'Buster Keaton']</td>\n",
       "      <td>97815.0</td>\n",
       "      <td>8.1</td>\n",
       "      <td>2</td>\n",
       "      <td>1</td>\n",
       "    </tr>\n",
       "    <tr>\n",
       "      <th>4</th>\n",
       "      <td>tt0019109</td>\n",
       "      <td>Lonesome</td>\n",
       "      <td>Two lonely people in the big city meet and enj...</td>\n",
       "      <td>4140</td>\n",
       "      <td>['Comedy', 'Drama', 'Romance']</td>\n",
       "      <td>1928-11-22</td>\n",
       "      <td>Hungary</td>\n",
       "      <td>['Barbara Kent', 'Glenn Tryon', 'Fay Holderness']</td>\n",
       "      <td>['Pál Fejös']</td>\n",
       "      <td>2586.0</td>\n",
       "      <td>7.8</td>\n",
       "      <td>1</td>\n",
       "      <td>0</td>\n",
       "    </tr>\n",
       "  </tbody>\n",
       "</table>\n",
       "</div>"
      ],
      "text/plain": [
       "    movie_id          title  \\\n",
       "0  tt0012349        The Kid   \n",
       "1  tt0015864  The Gold Rush   \n",
       "2  tt0017136     Metropolis   \n",
       "3  tt0017925    The General   \n",
       "4  tt0019109       Lonesome   \n",
       "\n",
       "                                        introduction  runtimeSeconds  \\\n",
       "0  The Tramp cares for an abandoned child, but ev...            4080   \n",
       "1  A prospector goes to the Klondike during the 1...            5700   \n",
       "2  In a futuristic city sharply divided between t...            9180   \n",
       "3  After being rejected by the Confederate milita...            4680   \n",
       "4  Two lonely people in the big city meet and enj...            4140   \n",
       "\n",
       "                                               genre releaseDate  \\\n",
       "0                      ['Comedy', 'Drama', 'Family']  1921-02-06   \n",
       "1  ['Adventure', 'Comedy', 'Drama', 'Romance', 'W...  1925-08-16   \n",
       "2                                ['Drama', 'Sci-Fi']  1927-03-13   \n",
       "3  ['Action', 'Adventure', 'Comedy', 'Drama', 'War']  1927-01-02   \n",
       "4                     ['Comedy', 'Drama', 'Romance']  1928-11-22   \n",
       "\n",
       "  releaseLocation                                             actors  \\\n",
       "0   United States  ['Charles Chaplin', 'Edna Purviance', 'Jackie ...   \n",
       "1   United States    ['Charles Chaplin', 'Mack Swain', 'Tom Murray']   \n",
       "2   United States  ['Brigitte Helm', 'Alfred Abel', 'Gustav Fröhl...   \n",
       "3   United States  ['Buster Keaton', 'Marion Mack', 'Glen Cavender']   \n",
       "4         Hungary  ['Barbara Kent', 'Glenn Tryon', 'Fay Holderness']   \n",
       "\n",
       "                             directors  totalRatings  ratingStar  totalAwards  \\\n",
       "0                  ['Charles Chaplin']      134289.0         8.2            2   \n",
       "1                  ['Charles Chaplin']      118269.0         8.1            5   \n",
       "2                       ['Fritz Lang']      184863.0         8.3            6   \n",
       "3  ['Clyde Bruckman', 'Buster Keaton']       97815.0         8.1            2   \n",
       "4                        ['Pál Fejös']        2586.0         7.8            1   \n",
       "\n",
       "   totalNominations  \n",
       "0                 0  \n",
       "1                 3  \n",
       "2                 6  \n",
       "3                 1  \n",
       "4                 0  "
      ]
     },
     "execution_count": 5,
     "metadata": {},
     "output_type": "execute_result"
    }
   ],
   "source": [
    "# Movies Infor\n",
    "collection = db['Movies_Infor']\n",
    "cursor = collection.find()\n",
    "data_list = list(cursor)\n",
    "\n",
    "mi_df = pd.DataFrame(data_list, index = None)\n",
    "mi_df = mi_df.drop('_id', axis=1, errors='ignore')\n",
    "mi_df.head()"
   ]
  },
  {
   "cell_type": "code",
   "execution_count": 6,
   "metadata": {},
   "outputs": [
    {
     "data": {
      "text/html": [
       "<div>\n",
       "<style scoped>\n",
       "    .dataframe tbody tr th:only-of-type {\n",
       "        vertical-align: middle;\n",
       "    }\n",
       "\n",
       "    .dataframe tbody tr th {\n",
       "        vertical-align: top;\n",
       "    }\n",
       "\n",
       "    .dataframe thead th {\n",
       "        text-align: right;\n",
       "    }\n",
       "</style>\n",
       "<table border=\"1\" class=\"dataframe\">\n",
       "  <thead>\n",
       "    <tr style=\"text-align: right;\">\n",
       "      <th></th>\n",
       "      <th>user_id</th>\n",
       "      <th>movie_id</th>\n",
       "      <th>user_rating</th>\n",
       "    </tr>\n",
       "  </thead>\n",
       "  <tbody>\n",
       "    <tr>\n",
       "      <th>0</th>\n",
       "      <td>ur0028288</td>\n",
       "      <td>tt2392830</td>\n",
       "      <td>8.0</td>\n",
       "    </tr>\n",
       "    <tr>\n",
       "      <th>1</th>\n",
       "      <td>ur0028288</td>\n",
       "      <td>tt4635282</td>\n",
       "      <td>6.0</td>\n",
       "    </tr>\n",
       "    <tr>\n",
       "      <th>2</th>\n",
       "      <td>ur0028288</td>\n",
       "      <td>tt0470752</td>\n",
       "      <td>9.0</td>\n",
       "    </tr>\n",
       "    <tr>\n",
       "      <th>3</th>\n",
       "      <td>ur0028288</td>\n",
       "      <td>tt3681794</td>\n",
       "      <td>6.0</td>\n",
       "    </tr>\n",
       "    <tr>\n",
       "      <th>4</th>\n",
       "      <td>ur0028288</td>\n",
       "      <td>tt0063442</td>\n",
       "      <td>9.0</td>\n",
       "    </tr>\n",
       "  </tbody>\n",
       "</table>\n",
       "</div>"
      ],
      "text/plain": [
       "     user_id   movie_id  user_rating\n",
       "0  ur0028288  tt2392830          8.0\n",
       "1  ur0028288  tt4635282          6.0\n",
       "2  ur0028288  tt0470752          9.0\n",
       "3  ur0028288  tt3681794          6.0\n",
       "4  ur0028288  tt0063442          9.0"
      ]
     },
     "execution_count": 6,
     "metadata": {},
     "output_type": "execute_result"
    }
   ],
   "source": [
    "# Ratings\n",
    "collection = db['Ratings']\n",
    "cursor = collection.find()\n",
    "data_list = list(cursor)\n",
    "\n",
    "r_df = pd.DataFrame(data_list, index = None)\n",
    "r_df = r_df.drop('_id', axis=1, errors='ignore')\n",
    "r_df.head()"
   ]
  },
  {
   "cell_type": "markdown",
   "metadata": {},
   "source": [
    "<hr/>\n",
    "\n",
    "### **2. Tiền xử lý dữ liệu**"
   ]
  },
  {
   "cell_type": "code",
   "execution_count": 7,
   "metadata": {},
   "outputs": [],
   "source": [
    "mi_df['genre'] = mi_df['genre'].apply(eval)"
   ]
  },
  {
   "cell_type": "markdown",
   "metadata": {},
   "source": [
    "<hr/>\n",
    "\n",
    "### **3. Trực quan hóa dữ liệu (Thống kê)**"
   ]
  },
  {
   "cell_type": "code",
   "execution_count": 8,
   "metadata": {},
   "outputs": [
    {
     "data": {
      "text/html": [
       "<div>\n",
       "<style scoped>\n",
       "    .dataframe tbody tr th:only-of-type {\n",
       "        vertical-align: middle;\n",
       "    }\n",
       "\n",
       "    .dataframe tbody tr th {\n",
       "        vertical-align: top;\n",
       "    }\n",
       "\n",
       "    .dataframe thead th {\n",
       "        text-align: right;\n",
       "    }\n",
       "</style>\n",
       "<table border=\"1\" class=\"dataframe\">\n",
       "  <thead>\n",
       "    <tr style=\"text-align: right;\">\n",
       "      <th></th>\n",
       "      <th>movie_id</th>\n",
       "      <th>title</th>\n",
       "      <th>introduction</th>\n",
       "      <th>runtimeSeconds</th>\n",
       "      <th>genre</th>\n",
       "      <th>releaseDate</th>\n",
       "      <th>releaseLocation</th>\n",
       "      <th>actors</th>\n",
       "      <th>directors</th>\n",
       "      <th>totalRatings</th>\n",
       "      <th>ratingStar</th>\n",
       "      <th>totalAwards</th>\n",
       "      <th>totalNominations</th>\n",
       "    </tr>\n",
       "  </thead>\n",
       "  <tbody>\n",
       "    <tr>\n",
       "      <th>0</th>\n",
       "      <td>tt0012349</td>\n",
       "      <td>The Kid</td>\n",
       "      <td>The Tramp cares for an abandoned child, but ev...</td>\n",
       "      <td>4080</td>\n",
       "      <td>[Comedy, Drama, Family]</td>\n",
       "      <td>1921-02-06</td>\n",
       "      <td>United States</td>\n",
       "      <td>['Charles Chaplin', 'Edna Purviance', 'Jackie ...</td>\n",
       "      <td>['Charles Chaplin']</td>\n",
       "      <td>134289.0</td>\n",
       "      <td>8.2</td>\n",
       "      <td>2</td>\n",
       "      <td>0</td>\n",
       "    </tr>\n",
       "    <tr>\n",
       "      <th>1</th>\n",
       "      <td>tt0015864</td>\n",
       "      <td>The Gold Rush</td>\n",
       "      <td>A prospector goes to the Klondike during the 1...</td>\n",
       "      <td>5700</td>\n",
       "      <td>[Adventure, Comedy, Drama, Romance, Western]</td>\n",
       "      <td>1925-08-16</td>\n",
       "      <td>United States</td>\n",
       "      <td>['Charles Chaplin', 'Mack Swain', 'Tom Murray']</td>\n",
       "      <td>['Charles Chaplin']</td>\n",
       "      <td>118269.0</td>\n",
       "      <td>8.1</td>\n",
       "      <td>5</td>\n",
       "      <td>3</td>\n",
       "    </tr>\n",
       "    <tr>\n",
       "      <th>2</th>\n",
       "      <td>tt0017136</td>\n",
       "      <td>Metropolis</td>\n",
       "      <td>In a futuristic city sharply divided between t...</td>\n",
       "      <td>9180</td>\n",
       "      <td>[Drama, Sci-Fi]</td>\n",
       "      <td>1927-03-13</td>\n",
       "      <td>United States</td>\n",
       "      <td>['Brigitte Helm', 'Alfred Abel', 'Gustav Fröhl...</td>\n",
       "      <td>['Fritz Lang']</td>\n",
       "      <td>184863.0</td>\n",
       "      <td>8.3</td>\n",
       "      <td>6</td>\n",
       "      <td>6</td>\n",
       "    </tr>\n",
       "    <tr>\n",
       "      <th>3</th>\n",
       "      <td>tt0017925</td>\n",
       "      <td>The General</td>\n",
       "      <td>After being rejected by the Confederate milita...</td>\n",
       "      <td>4680</td>\n",
       "      <td>[Action, Adventure, Comedy, Drama, War]</td>\n",
       "      <td>1927-01-02</td>\n",
       "      <td>United States</td>\n",
       "      <td>['Buster Keaton', 'Marion Mack', 'Glen Cavender']</td>\n",
       "      <td>['Clyde Bruckman', 'Buster Keaton']</td>\n",
       "      <td>97815.0</td>\n",
       "      <td>8.1</td>\n",
       "      <td>2</td>\n",
       "      <td>1</td>\n",
       "    </tr>\n",
       "    <tr>\n",
       "      <th>4</th>\n",
       "      <td>tt0019109</td>\n",
       "      <td>Lonesome</td>\n",
       "      <td>Two lonely people in the big city meet and enj...</td>\n",
       "      <td>4140</td>\n",
       "      <td>[Comedy, Drama, Romance]</td>\n",
       "      <td>1928-11-22</td>\n",
       "      <td>Hungary</td>\n",
       "      <td>['Barbara Kent', 'Glenn Tryon', 'Fay Holderness']</td>\n",
       "      <td>['Pál Fejös']</td>\n",
       "      <td>2586.0</td>\n",
       "      <td>7.8</td>\n",
       "      <td>1</td>\n",
       "      <td>0</td>\n",
       "    </tr>\n",
       "  </tbody>\n",
       "</table>\n",
       "</div>"
      ],
      "text/plain": [
       "    movie_id          title  \\\n",
       "0  tt0012349        The Kid   \n",
       "1  tt0015864  The Gold Rush   \n",
       "2  tt0017136     Metropolis   \n",
       "3  tt0017925    The General   \n",
       "4  tt0019109       Lonesome   \n",
       "\n",
       "                                        introduction  runtimeSeconds  \\\n",
       "0  The Tramp cares for an abandoned child, but ev...            4080   \n",
       "1  A prospector goes to the Klondike during the 1...            5700   \n",
       "2  In a futuristic city sharply divided between t...            9180   \n",
       "3  After being rejected by the Confederate milita...            4680   \n",
       "4  Two lonely people in the big city meet and enj...            4140   \n",
       "\n",
       "                                          genre releaseDate releaseLocation  \\\n",
       "0                       [Comedy, Drama, Family]  1921-02-06   United States   \n",
       "1  [Adventure, Comedy, Drama, Romance, Western]  1925-08-16   United States   \n",
       "2                               [Drama, Sci-Fi]  1927-03-13   United States   \n",
       "3       [Action, Adventure, Comedy, Drama, War]  1927-01-02   United States   \n",
       "4                      [Comedy, Drama, Romance]  1928-11-22         Hungary   \n",
       "\n",
       "                                              actors  \\\n",
       "0  ['Charles Chaplin', 'Edna Purviance', 'Jackie ...   \n",
       "1    ['Charles Chaplin', 'Mack Swain', 'Tom Murray']   \n",
       "2  ['Brigitte Helm', 'Alfred Abel', 'Gustav Fröhl...   \n",
       "3  ['Buster Keaton', 'Marion Mack', 'Glen Cavender']   \n",
       "4  ['Barbara Kent', 'Glenn Tryon', 'Fay Holderness']   \n",
       "\n",
       "                             directors  totalRatings  ratingStar  totalAwards  \\\n",
       "0                  ['Charles Chaplin']      134289.0         8.2            2   \n",
       "1                  ['Charles Chaplin']      118269.0         8.1            5   \n",
       "2                       ['Fritz Lang']      184863.0         8.3            6   \n",
       "3  ['Clyde Bruckman', 'Buster Keaton']       97815.0         8.1            2   \n",
       "4                        ['Pál Fejös']        2586.0         7.8            1   \n",
       "\n",
       "   totalNominations  \n",
       "0                 0  \n",
       "1                 3  \n",
       "2                 6  \n",
       "3                 1  \n",
       "4                 0  "
      ]
     },
     "execution_count": 8,
     "metadata": {},
     "output_type": "execute_result"
    }
   ],
   "source": [
    "mi_df.head()"
   ]
  },
  {
   "cell_type": "markdown",
   "metadata": {},
   "source": [
    "#### **3.1. Thống kê: Số lượng phim theo từng thể loại:**"
   ]
  },
  {
   "cell_type": "markdown",
   "metadata": {},
   "source": [
    "##### **1 thể loại:**  "
   ]
  },
  {
   "cell_type": "code",
   "execution_count": 9,
   "metadata": {},
   "outputs": [],
   "source": [
    "nf_genre1_df = mi_df.copy()"
   ]
  },
  {
   "cell_type": "code",
   "execution_count": 10,
   "metadata": {},
   "outputs": [
    {
     "data": {
      "text/html": [
       "<div>\n",
       "<style scoped>\n",
       "    .dataframe tbody tr th:only-of-type {\n",
       "        vertical-align: middle;\n",
       "    }\n",
       "\n",
       "    .dataframe tbody tr th {\n",
       "        vertical-align: top;\n",
       "    }\n",
       "\n",
       "    .dataframe thead th {\n",
       "        text-align: right;\n",
       "    }\n",
       "</style>\n",
       "<table border=\"1\" class=\"dataframe\">\n",
       "  <thead>\n",
       "    <tr style=\"text-align: right;\">\n",
       "      <th></th>\n",
       "      <th>movie_id</th>\n",
       "      <th>title</th>\n",
       "      <th>introduction</th>\n",
       "      <th>runtimeSeconds</th>\n",
       "      <th>genre</th>\n",
       "      <th>releaseDate</th>\n",
       "      <th>releaseLocation</th>\n",
       "      <th>actors</th>\n",
       "      <th>directors</th>\n",
       "      <th>totalRatings</th>\n",
       "      <th>ratingStar</th>\n",
       "      <th>totalAwards</th>\n",
       "      <th>totalNominations</th>\n",
       "    </tr>\n",
       "  </thead>\n",
       "  <tbody>\n",
       "    <tr>\n",
       "      <th>0</th>\n",
       "      <td>tt0012349</td>\n",
       "      <td>The Kid</td>\n",
       "      <td>The Tramp cares for an abandoned child, but ev...</td>\n",
       "      <td>4080</td>\n",
       "      <td>Comedy</td>\n",
       "      <td>1921-02-06</td>\n",
       "      <td>United States</td>\n",
       "      <td>['Charles Chaplin', 'Edna Purviance', 'Jackie ...</td>\n",
       "      <td>['Charles Chaplin']</td>\n",
       "      <td>134289.0</td>\n",
       "      <td>8.2</td>\n",
       "      <td>2</td>\n",
       "      <td>0</td>\n",
       "    </tr>\n",
       "    <tr>\n",
       "      <th>0</th>\n",
       "      <td>tt0012349</td>\n",
       "      <td>The Kid</td>\n",
       "      <td>The Tramp cares for an abandoned child, but ev...</td>\n",
       "      <td>4080</td>\n",
       "      <td>Drama</td>\n",
       "      <td>1921-02-06</td>\n",
       "      <td>United States</td>\n",
       "      <td>['Charles Chaplin', 'Edna Purviance', 'Jackie ...</td>\n",
       "      <td>['Charles Chaplin']</td>\n",
       "      <td>134289.0</td>\n",
       "      <td>8.2</td>\n",
       "      <td>2</td>\n",
       "      <td>0</td>\n",
       "    </tr>\n",
       "    <tr>\n",
       "      <th>0</th>\n",
       "      <td>tt0012349</td>\n",
       "      <td>The Kid</td>\n",
       "      <td>The Tramp cares for an abandoned child, but ev...</td>\n",
       "      <td>4080</td>\n",
       "      <td>Family</td>\n",
       "      <td>1921-02-06</td>\n",
       "      <td>United States</td>\n",
       "      <td>['Charles Chaplin', 'Edna Purviance', 'Jackie ...</td>\n",
       "      <td>['Charles Chaplin']</td>\n",
       "      <td>134289.0</td>\n",
       "      <td>8.2</td>\n",
       "      <td>2</td>\n",
       "      <td>0</td>\n",
       "    </tr>\n",
       "    <tr>\n",
       "      <th>1</th>\n",
       "      <td>tt0015864</td>\n",
       "      <td>The Gold Rush</td>\n",
       "      <td>A prospector goes to the Klondike during the 1...</td>\n",
       "      <td>5700</td>\n",
       "      <td>Adventure</td>\n",
       "      <td>1925-08-16</td>\n",
       "      <td>United States</td>\n",
       "      <td>['Charles Chaplin', 'Mack Swain', 'Tom Murray']</td>\n",
       "      <td>['Charles Chaplin']</td>\n",
       "      <td>118269.0</td>\n",
       "      <td>8.1</td>\n",
       "      <td>5</td>\n",
       "      <td>3</td>\n",
       "    </tr>\n",
       "    <tr>\n",
       "      <th>1</th>\n",
       "      <td>tt0015864</td>\n",
       "      <td>The Gold Rush</td>\n",
       "      <td>A prospector goes to the Klondike during the 1...</td>\n",
       "      <td>5700</td>\n",
       "      <td>Comedy</td>\n",
       "      <td>1925-08-16</td>\n",
       "      <td>United States</td>\n",
       "      <td>['Charles Chaplin', 'Mack Swain', 'Tom Murray']</td>\n",
       "      <td>['Charles Chaplin']</td>\n",
       "      <td>118269.0</td>\n",
       "      <td>8.1</td>\n",
       "      <td>5</td>\n",
       "      <td>3</td>\n",
       "    </tr>\n",
       "  </tbody>\n",
       "</table>\n",
       "</div>"
      ],
      "text/plain": [
       "    movie_id          title  \\\n",
       "0  tt0012349        The Kid   \n",
       "0  tt0012349        The Kid   \n",
       "0  tt0012349        The Kid   \n",
       "1  tt0015864  The Gold Rush   \n",
       "1  tt0015864  The Gold Rush   \n",
       "\n",
       "                                        introduction  runtimeSeconds  \\\n",
       "0  The Tramp cares for an abandoned child, but ev...            4080   \n",
       "0  The Tramp cares for an abandoned child, but ev...            4080   \n",
       "0  The Tramp cares for an abandoned child, but ev...            4080   \n",
       "1  A prospector goes to the Klondike during the 1...            5700   \n",
       "1  A prospector goes to the Klondike during the 1...            5700   \n",
       "\n",
       "       genre releaseDate releaseLocation  \\\n",
       "0     Comedy  1921-02-06   United States   \n",
       "0      Drama  1921-02-06   United States   \n",
       "0     Family  1921-02-06   United States   \n",
       "1  Adventure  1925-08-16   United States   \n",
       "1     Comedy  1925-08-16   United States   \n",
       "\n",
       "                                              actors            directors  \\\n",
       "0  ['Charles Chaplin', 'Edna Purviance', 'Jackie ...  ['Charles Chaplin']   \n",
       "0  ['Charles Chaplin', 'Edna Purviance', 'Jackie ...  ['Charles Chaplin']   \n",
       "0  ['Charles Chaplin', 'Edna Purviance', 'Jackie ...  ['Charles Chaplin']   \n",
       "1    ['Charles Chaplin', 'Mack Swain', 'Tom Murray']  ['Charles Chaplin']   \n",
       "1    ['Charles Chaplin', 'Mack Swain', 'Tom Murray']  ['Charles Chaplin']   \n",
       "\n",
       "   totalRatings  ratingStar  totalAwards  totalNominations  \n",
       "0      134289.0         8.2            2                 0  \n",
       "0      134289.0         8.2            2                 0  \n",
       "0      134289.0         8.2            2                 0  \n",
       "1      118269.0         8.1            5                 3  \n",
       "1      118269.0         8.1            5                 3  "
      ]
     },
     "execution_count": 10,
     "metadata": {},
     "output_type": "execute_result"
    }
   ],
   "source": [
    "nf_genre1_df = nf_genre1_df.explode('genre')\n",
    "nf_genre1_df.head()"
   ]
  },
  {
   "cell_type": "code",
   "execution_count": 11,
   "metadata": {},
   "outputs": [
    {
     "data": {
      "text/html": [
       "<div>\n",
       "<style scoped>\n",
       "    .dataframe tbody tr th:only-of-type {\n",
       "        vertical-align: middle;\n",
       "    }\n",
       "\n",
       "    .dataframe tbody tr th {\n",
       "        vertical-align: top;\n",
       "    }\n",
       "\n",
       "    .dataframe thead th {\n",
       "        text-align: right;\n",
       "    }\n",
       "</style>\n",
       "<table border=\"1\" class=\"dataframe\">\n",
       "  <thead>\n",
       "    <tr style=\"text-align: right;\">\n",
       "      <th></th>\n",
       "      <th>genre</th>\n",
       "      <th>num_film</th>\n",
       "    </tr>\n",
       "  </thead>\n",
       "  <tbody>\n",
       "    <tr>\n",
       "      <th>0</th>\n",
       "      <td>Drama</td>\n",
       "      <td>1860</td>\n",
       "    </tr>\n",
       "    <tr>\n",
       "      <th>1</th>\n",
       "      <td>Thriller</td>\n",
       "      <td>1024</td>\n",
       "    </tr>\n",
       "    <tr>\n",
       "      <th>2</th>\n",
       "      <td>Comedy</td>\n",
       "      <td>995</td>\n",
       "    </tr>\n",
       "    <tr>\n",
       "      <th>3</th>\n",
       "      <td>Action</td>\n",
       "      <td>854</td>\n",
       "    </tr>\n",
       "    <tr>\n",
       "      <th>4</th>\n",
       "      <td>Adventure</td>\n",
       "      <td>734</td>\n",
       "    </tr>\n",
       "    <tr>\n",
       "      <th>5</th>\n",
       "      <td>Crime</td>\n",
       "      <td>659</td>\n",
       "    </tr>\n",
       "    <tr>\n",
       "      <th>6</th>\n",
       "      <td>Mystery</td>\n",
       "      <td>557</td>\n",
       "    </tr>\n",
       "    <tr>\n",
       "      <th>7</th>\n",
       "      <td>Sci-Fi</td>\n",
       "      <td>556</td>\n",
       "    </tr>\n",
       "    <tr>\n",
       "      <th>8</th>\n",
       "      <td>Romance</td>\n",
       "      <td>545</td>\n",
       "    </tr>\n",
       "    <tr>\n",
       "      <th>9</th>\n",
       "      <td>Horror</td>\n",
       "      <td>489</td>\n",
       "    </tr>\n",
       "    <tr>\n",
       "      <th>10</th>\n",
       "      <td>Fantasy</td>\n",
       "      <td>480</td>\n",
       "    </tr>\n",
       "    <tr>\n",
       "      <th>11</th>\n",
       "      <td>Family</td>\n",
       "      <td>365</td>\n",
       "    </tr>\n",
       "    <tr>\n",
       "      <th>12</th>\n",
       "      <td>Animation</td>\n",
       "      <td>287</td>\n",
       "    </tr>\n",
       "    <tr>\n",
       "      <th>13</th>\n",
       "      <td>Biography</td>\n",
       "      <td>196</td>\n",
       "    </tr>\n",
       "    <tr>\n",
       "      <th>14</th>\n",
       "      <td>War</td>\n",
       "      <td>166</td>\n",
       "    </tr>\n",
       "    <tr>\n",
       "      <th>15</th>\n",
       "      <td>History</td>\n",
       "      <td>136</td>\n",
       "    </tr>\n",
       "    <tr>\n",
       "      <th>16</th>\n",
       "      <td>Western</td>\n",
       "      <td>112</td>\n",
       "    </tr>\n",
       "    <tr>\n",
       "      <th>17</th>\n",
       "      <td>Short</td>\n",
       "      <td>105</td>\n",
       "    </tr>\n",
       "    <tr>\n",
       "      <th>18</th>\n",
       "      <td>Musical</td>\n",
       "      <td>102</td>\n",
       "    </tr>\n",
       "    <tr>\n",
       "      <th>19</th>\n",
       "      <td>Documentary</td>\n",
       "      <td>90</td>\n",
       "    </tr>\n",
       "    <tr>\n",
       "      <th>20</th>\n",
       "      <td>Music</td>\n",
       "      <td>89</td>\n",
       "    </tr>\n",
       "    <tr>\n",
       "      <th>21</th>\n",
       "      <td>Sport</td>\n",
       "      <td>78</td>\n",
       "    </tr>\n",
       "    <tr>\n",
       "      <th>22</th>\n",
       "      <td>Film-Noir</td>\n",
       "      <td>73</td>\n",
       "    </tr>\n",
       "    <tr>\n",
       "      <th>23</th>\n",
       "      <td>Reality-TV</td>\n",
       "      <td>3</td>\n",
       "    </tr>\n",
       "    <tr>\n",
       "      <th>24</th>\n",
       "      <td>Game-Show</td>\n",
       "      <td>3</td>\n",
       "    </tr>\n",
       "    <tr>\n",
       "      <th>25</th>\n",
       "      <td>News</td>\n",
       "      <td>3</td>\n",
       "    </tr>\n",
       "    <tr>\n",
       "      <th>26</th>\n",
       "      <td>Talk-Show</td>\n",
       "      <td>2</td>\n",
       "    </tr>\n",
       "  </tbody>\n",
       "</table>\n",
       "</div>"
      ],
      "text/plain": [
       "          genre  num_film\n",
       "0         Drama      1860\n",
       "1      Thriller      1024\n",
       "2        Comedy       995\n",
       "3        Action       854\n",
       "4     Adventure       734\n",
       "5         Crime       659\n",
       "6       Mystery       557\n",
       "7        Sci-Fi       556\n",
       "8       Romance       545\n",
       "9        Horror       489\n",
       "10      Fantasy       480\n",
       "11       Family       365\n",
       "12    Animation       287\n",
       "13    Biography       196\n",
       "14          War       166\n",
       "15      History       136\n",
       "16      Western       112\n",
       "17        Short       105\n",
       "18      Musical       102\n",
       "19  Documentary        90\n",
       "20        Music        89\n",
       "21        Sport        78\n",
       "22    Film-Noir        73\n",
       "23   Reality-TV         3\n",
       "24    Game-Show         3\n",
       "25         News         3\n",
       "26    Talk-Show         2"
      ]
     },
     "execution_count": 11,
     "metadata": {},
     "output_type": "execute_result"
    }
   ],
   "source": [
    "genre1_nfilm = nf_genre1_df['genre'].value_counts()\n",
    "genre1_nfilm_df = pd.DataFrame({'genre': genre1_nfilm.index, 'num_film': genre1_nfilm.values})\n",
    "genre1_nfilm_df"
   ]
  },
  {
   "cell_type": "code",
   "execution_count": 12,
   "metadata": {},
   "outputs": [
    {
     "data": {
      "image/png": "[encoded data removed]",
      "text/plain": [
       "<Figure size 1440x576 with 1 Axes>"
      ]
     },
     "metadata": {},
     "output_type": "display_data"
    }
   ],
   "source": [
    "# Plotting Matplotlib\n",
    "plt.figure(figsize=(20, 8))\n",
    "plt.bar(genre1_nfilm_df['genre'], genre1_nfilm_df['num_film'], color='skyblue')\n",
    "plt.xticks(rotation=45, ha='right')\n",
    "plt.xlabel('Genre',fontsize = 16)\n",
    "plt.ylabel('Number of films',fontsize = 16)\n",
    "plt.title('Statistic about number of films of each \"1 genre\"')\n",
    "plt.show()"
   ]
  },
  {
   "cell_type": "markdown",
   "metadata": {},
   "source": [
    "##### **2 thể loại (Top 10):**"
   ]
  },
  {
   "cell_type": "code",
   "execution_count": 13,
   "metadata": {},
   "outputs": [],
   "source": [
    "nf_genre2_df = mi_df.copy()"
   ]
  },
  {
   "cell_type": "code",
   "execution_count": 14,
   "metadata": {},
   "outputs": [
    {
     "data": {
      "text/html": [
       "<div>\n",
       "<style scoped>\n",
       "    .dataframe tbody tr th:only-of-type {\n",
       "        vertical-align: middle;\n",
       "    }\n",
       "\n",
       "    .dataframe tbody tr th {\n",
       "        vertical-align: top;\n",
       "    }\n",
       "\n",
       "    .dataframe thead th {\n",
       "        text-align: right;\n",
       "    }\n",
       "</style>\n",
       "<table border=\"1\" class=\"dataframe\">\n",
       "  <thead>\n",
       "    <tr style=\"text-align: right;\">\n",
       "      <th></th>\n",
       "      <th>2genres</th>\n",
       "      <th>num_film</th>\n",
       "    </tr>\n",
       "  </thead>\n",
       "  <tbody>\n",
       "    <tr>\n",
       "      <th>0</th>\n",
       "      <td>('Drama', 'Thriller')</td>\n",
       "      <td>552</td>\n",
       "    </tr>\n",
       "    <tr>\n",
       "      <th>1</th>\n",
       "      <td>('Crime', 'Drama')</td>\n",
       "      <td>452</td>\n",
       "    </tr>\n",
       "    <tr>\n",
       "      <th>2</th>\n",
       "      <td>('Action', 'Adventure')</td>\n",
       "      <td>415</td>\n",
       "    </tr>\n",
       "    <tr>\n",
       "      <th>3</th>\n",
       "      <td>('Action', 'Thriller')</td>\n",
       "      <td>402</td>\n",
       "    </tr>\n",
       "    <tr>\n",
       "      <th>4</th>\n",
       "      <td>('Drama', 'Romance')</td>\n",
       "      <td>393</td>\n",
       "    </tr>\n",
       "    <tr>\n",
       "      <th>5</th>\n",
       "      <td>('Crime', 'Thriller')</td>\n",
       "      <td>389</td>\n",
       "    </tr>\n",
       "    <tr>\n",
       "      <th>6</th>\n",
       "      <td>('Comedy', 'Drama')</td>\n",
       "      <td>374</td>\n",
       "    </tr>\n",
       "    <tr>\n",
       "      <th>7</th>\n",
       "      <td>('Mystery', 'Thriller')</td>\n",
       "      <td>348</td>\n",
       "    </tr>\n",
       "    <tr>\n",
       "      <th>8</th>\n",
       "      <td>('Drama', 'Mystery')</td>\n",
       "      <td>343</td>\n",
       "    </tr>\n",
       "    <tr>\n",
       "      <th>9</th>\n",
       "      <td>('Action', 'Sci-Fi')</td>\n",
       "      <td>321</td>\n",
       "    </tr>\n",
       "  </tbody>\n",
       "</table>\n",
       "</div>"
      ],
      "text/plain": [
       "                   2genres  num_film\n",
       "0    ('Drama', 'Thriller')       552\n",
       "1       ('Crime', 'Drama')       452\n",
       "2  ('Action', 'Adventure')       415\n",
       "3   ('Action', 'Thriller')       402\n",
       "4     ('Drama', 'Romance')       393\n",
       "5    ('Crime', 'Thriller')       389\n",
       "6      ('Comedy', 'Drama')       374\n",
       "7  ('Mystery', 'Thriller')       348\n",
       "8     ('Drama', 'Mystery')       343\n",
       "9     ('Action', 'Sci-Fi')       321"
      ]
     },
     "execution_count": 14,
     "metadata": {},
     "output_type": "execute_result"
    }
   ],
   "source": [
    "# Create combinations of two elements from the list\n",
    "nf_genre2_df['2genres'] = nf_genre2_df['genre'].apply(lambda x: list(combinations(x, 2)))\n",
    "\n",
    "nf_genre2_df = nf_genre2_df.explode('2genres')\n",
    "nf_genre2_df = nf_genre2_df['2genres'].value_counts()[:10]\n",
    "nf_genre2_df = pd.DataFrame({'2genres': nf_genre2_df.index, 'num_film': nf_genre2_df.values})\n",
    "nf_genre2_df['2genres'] = nf_genre2_df['2genres'].astype(str)\n",
    "nf_genre2_df"
   ]
  },
  {
   "cell_type": "code",
   "execution_count": 15,
   "metadata": {},
   "outputs": [
    {
     "data": {
      "image/png": "[encoded data removed]",
      "text/plain": [
       "<Figure size 1440x576 with 1 Axes>"
      ]
     },
     "metadata": {},
     "output_type": "display_data"
    }
   ],
   "source": [
    "# Plotting Matplotlib\n",
    "plt.figure(figsize=(20, 8))\n",
    "plt.bar(nf_genre2_df['2genres'], nf_genre2_df['num_film'], color='skyblue')\n",
    "plt.xticks(rotation=45, ha='right')\n",
    "plt.xlabel('2 Genres',fontsize = 16)\n",
    "plt.ylabel('Number of films',fontsize = 16)\n",
    "plt.title('Statistic about number of films of each top 10 \"genre 2\"')\n",
    "plt.show()"
   ]
  },
  {
   "cell_type": "markdown",
   "metadata": {},
   "source": [
    "##### **3 thể loại (Top 10):**"
   ]
  },
  {
   "cell_type": "code",
   "execution_count": 16,
   "metadata": {},
   "outputs": [],
   "source": [
    "nf_genre3_df = mi_df.copy()"
   ]
  },
  {
   "cell_type": "code",
   "execution_count": 17,
   "metadata": {},
   "outputs": [
    {
     "data": {
      "text/html": [
       "<div>\n",
       "<style scoped>\n",
       "    .dataframe tbody tr th:only-of-type {\n",
       "        vertical-align: middle;\n",
       "    }\n",
       "\n",
       "    .dataframe tbody tr th {\n",
       "        vertical-align: top;\n",
       "    }\n",
       "\n",
       "    .dataframe thead th {\n",
       "        text-align: right;\n",
       "    }\n",
       "</style>\n",
       "<table border=\"1\" class=\"dataframe\">\n",
       "  <thead>\n",
       "    <tr style=\"text-align: right;\">\n",
       "      <th></th>\n",
       "      <th>3genres</th>\n",
       "      <th>num_film</th>\n",
       "    </tr>\n",
       "  </thead>\n",
       "  <tbody>\n",
       "    <tr>\n",
       "      <th>0</th>\n",
       "      <td>('Crime', 'Drama', 'Thriller')</td>\n",
       "      <td>264</td>\n",
       "    </tr>\n",
       "    <tr>\n",
       "      <th>1</th>\n",
       "      <td>('Action', 'Adventure', 'Sci-Fi')</td>\n",
       "      <td>215</td>\n",
       "    </tr>\n",
       "    <tr>\n",
       "      <th>2</th>\n",
       "      <td>('Drama', 'Mystery', 'Thriller')</td>\n",
       "      <td>213</td>\n",
       "    </tr>\n",
       "    <tr>\n",
       "      <th>3</th>\n",
       "      <td>('Action', 'Crime', 'Thriller')</td>\n",
       "      <td>157</td>\n",
       "    </tr>\n",
       "    <tr>\n",
       "      <th>4</th>\n",
       "      <td>('Action', 'Drama', 'Thriller')</td>\n",
       "      <td>150</td>\n",
       "    </tr>\n",
       "    <tr>\n",
       "      <th>5</th>\n",
       "      <td>('Action', 'Adventure', 'Fantasy')</td>\n",
       "      <td>147</td>\n",
       "    </tr>\n",
       "    <tr>\n",
       "      <th>6</th>\n",
       "      <td>('Adventure', 'Comedy', 'Family')</td>\n",
       "      <td>147</td>\n",
       "    </tr>\n",
       "    <tr>\n",
       "      <th>7</th>\n",
       "      <td>('Adventure', 'Family', 'Fantasy')</td>\n",
       "      <td>144</td>\n",
       "    </tr>\n",
       "    <tr>\n",
       "      <th>8</th>\n",
       "      <td>('Animation', 'Comedy', 'Family')</td>\n",
       "      <td>144</td>\n",
       "    </tr>\n",
       "    <tr>\n",
       "      <th>9</th>\n",
       "      <td>('Animation', 'Adventure', 'Family')</td>\n",
       "      <td>142</td>\n",
       "    </tr>\n",
       "  </tbody>\n",
       "</table>\n",
       "</div>"
      ],
      "text/plain": [
       "                                3genres  num_film\n",
       "0        ('Crime', 'Drama', 'Thriller')       264\n",
       "1     ('Action', 'Adventure', 'Sci-Fi')       215\n",
       "2      ('Drama', 'Mystery', 'Thriller')       213\n",
       "3       ('Action', 'Crime', 'Thriller')       157\n",
       "4       ('Action', 'Drama', 'Thriller')       150\n",
       "5    ('Action', 'Adventure', 'Fantasy')       147\n",
       "6     ('Adventure', 'Comedy', 'Family')       147\n",
       "7    ('Adventure', 'Family', 'Fantasy')       144\n",
       "8     ('Animation', 'Comedy', 'Family')       144\n",
       "9  ('Animation', 'Adventure', 'Family')       142"
      ]
     },
     "execution_count": 17,
     "metadata": {},
     "output_type": "execute_result"
    }
   ],
   "source": [
    "# Create combinations of two elements from the list\n",
    "nf_genre3_df['3genres'] = nf_genre3_df['genre'].apply(lambda x: list(combinations(x, 3)))\n",
    "\n",
    "nf_genre3_df = nf_genre3_df.explode('3genres')\n",
    "nf_genre3_df = nf_genre3_df['3genres'].value_counts()[:10]\n",
    "nf_genre3_df = pd.DataFrame({'3genres': nf_genre3_df.index, 'num_film': nf_genre3_df.values})\n",
    "nf_genre3_df['3genres'] = nf_genre3_df['3genres'].astype(str)\n",
    "nf_genre3_df"
   ]
  },
  {
   "cell_type": "code",
   "execution_count": 18,
   "metadata": {},
   "outputs": [
    {
     "data": {
      "image/png": "[encoded data removed]",
      "text/plain": [
       "<Figure size 1440x576 with 1 Axes>"
      ]
     },
     "metadata": {},
     "output_type": "display_data"
    }
   ],
   "source": [
    "# Plotting Matplotlib\n",
    "plt.figure(figsize=(20, 8))\n",
    "plt.bar(nf_genre3_df['3genres'], nf_genre3_df['num_film'], color='skyblue')\n",
    "plt.xticks(rotation=45, ha='right')\n",
    "plt.xlabel('2 Genres',fontsize = 16)\n",
    "plt.ylabel('Number of films',fontsize = 16)\n",
    "plt.title('Statistic about number of films of each top 10 \"genre 3\"')\n",
    "plt.show()"
   ]
  },
  {
   "cell_type": "markdown",
   "metadata": {},
   "source": [
    "#### **3.2. Thống kê: Số lượng giải thưởng + đề cử theo từng thể loại:**"
   ]
  },
  {
   "cell_type": "markdown",
   "metadata": {},
   "source": [
    "##### **1 thể loại:**  "
   ]
  },
  {
   "cell_type": "code",
   "execution_count": 19,
   "metadata": {},
   "outputs": [],
   "source": [
    "tan_genre1_df = mi_df.copy()"
   ]
  },
  {
   "cell_type": "code",
   "execution_count": 20,
   "metadata": {},
   "outputs": [
    {
     "data": {
      "text/html": [
       "<div>\n",
       "<style scoped>\n",
       "    .dataframe tbody tr th:only-of-type {\n",
       "        vertical-align: middle;\n",
       "    }\n",
       "\n",
       "    .dataframe tbody tr th {\n",
       "        vertical-align: top;\n",
       "    }\n",
       "\n",
       "    .dataframe thead th {\n",
       "        text-align: right;\n",
       "    }\n",
       "</style>\n",
       "<table border=\"1\" class=\"dataframe\">\n",
       "  <thead>\n",
       "    <tr style=\"text-align: right;\">\n",
       "      <th></th>\n",
       "      <th>movie_id</th>\n",
       "      <th>title</th>\n",
       "      <th>introduction</th>\n",
       "      <th>runtimeSeconds</th>\n",
       "      <th>genre</th>\n",
       "      <th>releaseDate</th>\n",
       "      <th>releaseLocation</th>\n",
       "      <th>actors</th>\n",
       "      <th>directors</th>\n",
       "      <th>totalRatings</th>\n",
       "      <th>ratingStar</th>\n",
       "      <th>totalAwards</th>\n",
       "      <th>totalNominations</th>\n",
       "    </tr>\n",
       "  </thead>\n",
       "  <tbody>\n",
       "    <tr>\n",
       "      <th>0</th>\n",
       "      <td>tt0012349</td>\n",
       "      <td>The Kid</td>\n",
       "      <td>The Tramp cares for an abandoned child, but ev...</td>\n",
       "      <td>4080</td>\n",
       "      <td>Comedy</td>\n",
       "      <td>1921-02-06</td>\n",
       "      <td>United States</td>\n",
       "      <td>['Charles Chaplin', 'Edna Purviance', 'Jackie ...</td>\n",
       "      <td>['Charles Chaplin']</td>\n",
       "      <td>134289.0</td>\n",
       "      <td>8.2</td>\n",
       "      <td>2</td>\n",
       "      <td>0</td>\n",
       "    </tr>\n",
       "    <tr>\n",
       "      <th>0</th>\n",
       "      <td>tt0012349</td>\n",
       "      <td>The Kid</td>\n",
       "      <td>The Tramp cares for an abandoned child, but ev...</td>\n",
       "      <td>4080</td>\n",
       "      <td>Drama</td>\n",
       "      <td>1921-02-06</td>\n",
       "      <td>United States</td>\n",
       "      <td>['Charles Chaplin', 'Edna Purviance', 'Jackie ...</td>\n",
       "      <td>['Charles Chaplin']</td>\n",
       "      <td>134289.0</td>\n",
       "      <td>8.2</td>\n",
       "      <td>2</td>\n",
       "      <td>0</td>\n",
       "    </tr>\n",
       "    <tr>\n",
       "      <th>0</th>\n",
       "      <td>tt0012349</td>\n",
       "      <td>The Kid</td>\n",
       "      <td>The Tramp cares for an abandoned child, but ev...</td>\n",
       "      <td>4080</td>\n",
       "      <td>Family</td>\n",
       "      <td>1921-02-06</td>\n",
       "      <td>United States</td>\n",
       "      <td>['Charles Chaplin', 'Edna Purviance', 'Jackie ...</td>\n",
       "      <td>['Charles Chaplin']</td>\n",
       "      <td>134289.0</td>\n",
       "      <td>8.2</td>\n",
       "      <td>2</td>\n",
       "      <td>0</td>\n",
       "    </tr>\n",
       "    <tr>\n",
       "      <th>1</th>\n",
       "      <td>tt0015864</td>\n",
       "      <td>The Gold Rush</td>\n",
       "      <td>A prospector goes to the Klondike during the 1...</td>\n",
       "      <td>5700</td>\n",
       "      <td>Adventure</td>\n",
       "      <td>1925-08-16</td>\n",
       "      <td>United States</td>\n",
       "      <td>['Charles Chaplin', 'Mack Swain', 'Tom Murray']</td>\n",
       "      <td>['Charles Chaplin']</td>\n",
       "      <td>118269.0</td>\n",
       "      <td>8.1</td>\n",
       "      <td>5</td>\n",
       "      <td>3</td>\n",
       "    </tr>\n",
       "    <tr>\n",
       "      <th>1</th>\n",
       "      <td>tt0015864</td>\n",
       "      <td>The Gold Rush</td>\n",
       "      <td>A prospector goes to the Klondike during the 1...</td>\n",
       "      <td>5700</td>\n",
       "      <td>Comedy</td>\n",
       "      <td>1925-08-16</td>\n",
       "      <td>United States</td>\n",
       "      <td>['Charles Chaplin', 'Mack Swain', 'Tom Murray']</td>\n",
       "      <td>['Charles Chaplin']</td>\n",
       "      <td>118269.0</td>\n",
       "      <td>8.1</td>\n",
       "      <td>5</td>\n",
       "      <td>3</td>\n",
       "    </tr>\n",
       "  </tbody>\n",
       "</table>\n",
       "</div>"
      ],
      "text/plain": [
       "    movie_id          title  \\\n",
       "0  tt0012349        The Kid   \n",
       "0  tt0012349        The Kid   \n",
       "0  tt0012349        The Kid   \n",
       "1  tt0015864  The Gold Rush   \n",
       "1  tt0015864  The Gold Rush   \n",
       "\n",
       "                                        introduction  runtimeSeconds  \\\n",
       "0  The Tramp cares for an abandoned child, but ev...            4080   \n",
       "0  The Tramp cares for an abandoned child, but ev...            4080   \n",
       "0  The Tramp cares for an abandoned child, but ev...            4080   \n",
       "1  A prospector goes to the Klondike during the 1...            5700   \n",
       "1  A prospector goes to the Klondike during the 1...            5700   \n",
       "\n",
       "       genre releaseDate releaseLocation  \\\n",
       "0     Comedy  1921-02-06   United States   \n",
       "0      Drama  1921-02-06   United States   \n",
       "0     Family  1921-02-06   United States   \n",
       "1  Adventure  1925-08-16   United States   \n",
       "1     Comedy  1925-08-16   United States   \n",
       "\n",
       "                                              actors            directors  \\\n",
       "0  ['Charles Chaplin', 'Edna Purviance', 'Jackie ...  ['Charles Chaplin']   \n",
       "0  ['Charles Chaplin', 'Edna Purviance', 'Jackie ...  ['Charles Chaplin']   \n",
       "0  ['Charles Chaplin', 'Edna Purviance', 'Jackie ...  ['Charles Chaplin']   \n",
       "1    ['Charles Chaplin', 'Mack Swain', 'Tom Murray']  ['Charles Chaplin']   \n",
       "1    ['Charles Chaplin', 'Mack Swain', 'Tom Murray']  ['Charles Chaplin']   \n",
       "\n",
       "   totalRatings  ratingStar  totalAwards  totalNominations  \n",
       "0      134289.0         8.2            2                 0  \n",
       "0      134289.0         8.2            2                 0  \n",
       "0      134289.0         8.2            2                 0  \n",
       "1      118269.0         8.1            5                 3  \n",
       "1      118269.0         8.1            5                 3  "
      ]
     },
     "execution_count": 20,
     "metadata": {},
     "output_type": "execute_result"
    }
   ],
   "source": [
    "tan_genre1_df = tan_genre1_df.explode('genre')\n",
    "tan_genre1_df.head()"
   ]
  },
  {
   "cell_type": "code",
   "execution_count": 21,
   "metadata": {},
   "outputs": [],
   "source": [
    "tan_genre1_df['totalAN'] = tan_genre1_df['totalAwards'] + tan_genre1_df['totalNominations']"
   ]
  },
  {
   "cell_type": "code",
   "execution_count": 22,
   "metadata": {},
   "outputs": [
    {
     "data": {
      "text/html": [
       "<div>\n",
       "<style scoped>\n",
       "    .dataframe tbody tr th:only-of-type {\n",
       "        vertical-align: middle;\n",
       "    }\n",
       "\n",
       "    .dataframe tbody tr th {\n",
       "        vertical-align: top;\n",
       "    }\n",
       "\n",
       "    .dataframe thead th {\n",
       "        text-align: right;\n",
       "    }\n",
       "</style>\n",
       "<table border=\"1\" class=\"dataframe\">\n",
       "  <thead>\n",
       "    <tr style=\"text-align: right;\">\n",
       "      <th></th>\n",
       "      <th>totalAN</th>\n",
       "      <th>totalAwards</th>\n",
       "      <th>totalNominations</th>\n",
       "    </tr>\n",
       "    <tr>\n",
       "      <th>genre</th>\n",
       "      <th></th>\n",
       "      <th></th>\n",
       "      <th></th>\n",
       "    </tr>\n",
       "  </thead>\n",
       "  <tbody>\n",
       "    <tr>\n",
       "      <th>Drama</th>\n",
       "      <td>81889</td>\n",
       "      <td>27854</td>\n",
       "      <td>54035</td>\n",
       "    </tr>\n",
       "    <tr>\n",
       "      <th>Thriller</th>\n",
       "      <td>29712</td>\n",
       "      <td>9502</td>\n",
       "      <td>20210</td>\n",
       "    </tr>\n",
       "    <tr>\n",
       "      <th>Adventure</th>\n",
       "      <td>27865</td>\n",
       "      <td>9251</td>\n",
       "      <td>18614</td>\n",
       "    </tr>\n",
       "    <tr>\n",
       "      <th>Comedy</th>\n",
       "      <td>27547</td>\n",
       "      <td>8910</td>\n",
       "      <td>18637</td>\n",
       "    </tr>\n",
       "    <tr>\n",
       "      <th>Action</th>\n",
       "      <td>26469</td>\n",
       "      <td>8387</td>\n",
       "      <td>18082</td>\n",
       "    </tr>\n",
       "    <tr>\n",
       "      <th>Sci-Fi</th>\n",
       "      <td>20638</td>\n",
       "      <td>6245</td>\n",
       "      <td>14393</td>\n",
       "    </tr>\n",
       "    <tr>\n",
       "      <th>Romance</th>\n",
       "      <td>19749</td>\n",
       "      <td>6710</td>\n",
       "      <td>13039</td>\n",
       "    </tr>\n",
       "    <tr>\n",
       "      <th>Crime</th>\n",
       "      <td>18938</td>\n",
       "      <td>5920</td>\n",
       "      <td>13018</td>\n",
       "    </tr>\n",
       "    <tr>\n",
       "      <th>Fantasy</th>\n",
       "      <td>18386</td>\n",
       "      <td>6097</td>\n",
       "      <td>12289</td>\n",
       "    </tr>\n",
       "    <tr>\n",
       "      <th>Mystery</th>\n",
       "      <td>15782</td>\n",
       "      <td>4655</td>\n",
       "      <td>11127</td>\n",
       "    </tr>\n",
       "  </tbody>\n",
       "</table>\n",
       "</div>"
      ],
      "text/plain": [
       "           totalAN  totalAwards  totalNominations\n",
       "genre                                            \n",
       "Drama        81889        27854             54035\n",
       "Thriller     29712         9502             20210\n",
       "Adventure    27865         9251             18614\n",
       "Comedy       27547         8910             18637\n",
       "Action       26469         8387             18082\n",
       "Sci-Fi       20638         6245             14393\n",
       "Romance      19749         6710             13039\n",
       "Crime        18938         5920             13018\n",
       "Fantasy      18386         6097             12289\n",
       "Mystery      15782         4655             11127"
      ]
     },
     "execution_count": 22,
     "metadata": {},
     "output_type": "execute_result"
    }
   ],
   "source": [
    "tan_genre1 = tan_genre1_df.groupby('genre')[['totalAN', 'totalAwards','totalNominations']].sum().sort_values(by='totalAN', ascending=False)[:10]\n",
    "tan_genre1"
   ]
  },
  {
   "cell_type": "code",
   "execution_count": 23,
   "metadata": {},
   "outputs": [
    {
     "data": {
      "application/vnd.plotly.v1+json": {
       "config": {
        "plotlyServerURL": "https://plot.ly"
       },
       "data": [
        {
         "name": "totalNominations",
         "type": "bar",
         "x": [
          "Drama",
          "Thriller",
          "Adventure",
          "Comedy",
          "Action",
          "Sci-Fi",
          "Romance",
          "Crime",
          "Fantasy",
          "Mystery"
         ],
         "y": [
          54035,
          20210,
          18614,
          18637,
          18082,
          14393,
          13039,
          13018,
          12289,
          11127
         ]
        },
        {
         "name": "totalAwards",
         "type": "bar",
         "x": [
          "Drama",
          "Thriller",
          "Adventure",
          "Comedy",
          "Action",
          "Sci-Fi",
          "Romance",
          "Crime",
          "Fantasy",
          "Mystery"
         ],
         "y": [
          27854,
          9502,
          9251,
          8910,
          8387,
          6245,
          6710,
          5920,
          6097,
          4655
         ]
        }
       ],
       "layout": {
        "barmode": "stack",
        "template": {
         "data": {
          "bar": [
           {
            "error_x": {
             "color": "#2a3f5f"
            },
            "error_y": {
             "color": "#2a3f5f"
            },
            "marker": {
             "line": {
              "color": "#E5ECF6",
              "width": 0.5
             },
             "pattern": {
              "fillmode": "overlay",
              "size": 10,
              "solidity": 0.2
             }
            },
            "type": "bar"
           }
          ],
          "barpolar": [
           {
            "marker": {
             "line": {
              "color": "#E5ECF6",
              "width": 0.5
             },
             "pattern": {
              "fillmode": "overlay",
              "size": 10,
              "solidity": 0.2
             }
            },
            "type": "barpolar"
           }
          ],
          "carpet": [
           {
            "aaxis": {
             "endlinecolor": "#2a3f5f",
             "gridcolor": "white",
             "linecolor": "white",
             "minorgridcolor": "white",
             "startlinecolor": "#2a3f5f"
            },
            "baxis": {
             "endlinecolor": "#2a3f5f",
             "gridcolor": "white",
             "linecolor": "white",
             "minorgridcolor": "white",
             "startlinecolor": "#2a3f5f"
            },
            "type": "carpet"
           }
          ],
          "choropleth": [
           {
            "colorbar": {
             "outlinewidth": 0,
             "ticks": ""
            },
            "type": "choropleth"
           }
          ],
          "contour": [
           {
            "colorbar": {
             "outlinewidth": 0,
             "ticks": ""
            },
            "colorscale": [
             [
              0,
              "#0d0887"
             ],
             [
              0.1111111111111111,
              "#46039f"
             ],
             [
              0.2222222222222222,
              "#7201a8"
             ],
             [
              0.3333333333333333,
              "#9c179e"
             ],
             [
              0.4444444444444444,
              "#bd3786"
             ],
             [
              0.5555555555555556,
              "#d8576b"
             ],
             [
              0.6666666666666666,
              "#ed7953"
             ],
             [
              0.7777777777777778,
              "#fb9f3a"
             ],
             [
              0.8888888888888888,
              "#fdca26"
             ],
             [
              1,
              "#f0f921"
             ]
            ],
            "type": "contour"
           }
          ],
          "contourcarpet": [
           {
            "colorbar": {
             "outlinewidth": 0,
             "ticks": ""
            },
            "type": "contourcarpet"
           }
          ],
          "heatmap": [
           {
            "colorbar": {
             "outlinewidth": 0,
             "ticks": ""
            },
            "colorscale": [
             [
              0,
              "#0d0887"
             ],
             [
              0.1111111111111111,
              "#46039f"
             ],
             [
              0.2222222222222222,
              "#7201a8"
             ],
             [
              0.3333333333333333,
              "#9c179e"
             ],
             [
              0.4444444444444444,
              "#bd3786"
             ],
             [
              0.5555555555555556,
              "#d8576b"
             ],
             [
              0.6666666666666666,
              "#ed7953"
             ],
             [
              0.7777777777777778,
              "#fb9f3a"
             ],
             [
              0.8888888888888888,
              "#fdca26"
             ],
             [
              1,
              "#f0f921"
             ]
            ],
            "type": "heatmap"
           }
          ],
          "heatmapgl": [
           {
            "colorbar": {
             "outlinewidth": 0,
             "ticks": ""
            },
            "colorscale": [
             [
              0,
              "#0d0887"
             ],
             [
              0.1111111111111111,
              "#46039f"
             ],
             [
              0.2222222222222222,
              "#7201a8"
             ],
             [
              0.3333333333333333,
              "#9c179e"
             ],
             [
              0.4444444444444444,
              "#bd3786"
             ],
             [
              0.5555555555555556,
              "#d8576b"
             ],
             [
              0.6666666666666666,
              "#ed7953"
             ],
             [
              0.7777777777777778,
              "#fb9f3a"
             ],
             [
              0.8888888888888888,
              "#fdca26"
             ],
             [
              1,
              "#f0f921"
             ]
            ],
            "type": "heatmapgl"
           }
          ],
          "histogram": [
           {
            "marker": {
             "pattern": {
              "fillmode": "overlay",
              "size": 10,
              "solidity": 0.2
             }
            },
            "type": "histogram"
           }
          ],
          "histogram2d": [
           {
            "colorbar": {
             "outlinewidth": 0,
             "ticks": ""
            },
            "colorscale": [
             [
              0,
              "#0d0887"
             ],
             [
              0.1111111111111111,
              "#46039f"
             ],
             [
              0.2222222222222222,
              "#7201a8"
             ],
             [
              0.3333333333333333,
              "#9c179e"
             ],
             [
              0.4444444444444444,
              "#bd3786"
             ],
             [
              0.5555555555555556,
              "#d8576b"
             ],
             [
              0.6666666666666666,
              "#ed7953"
             ],
             [
              0.7777777777777778,
              "#fb9f3a"
             ],
             [
              0.8888888888888888,
              "#fdca26"
             ],
             [
              1,
              "#f0f921"
             ]
            ],
            "type": "histogram2d"
           }
          ],
          "histogram2dcontour": [
           {
            "colorbar": {
             "outlinewidth": 0,
             "ticks": ""
            },
            "colorscale": [
             [
              0,
              "#0d0887"
             ],
             [
              0.1111111111111111,
              "#46039f"
             ],
             [
              0.2222222222222222,
              "#7201a8"
             ],
             [
              0.3333333333333333,
              "#9c179e"
             ],
             [
              0.4444444444444444,
              "#bd3786"
             ],
             [
              0.5555555555555556,
              "#d8576b"
             ],
             [
              0.6666666666666666,
              "#ed7953"
             ],
             [
              0.7777777777777778,
              "#fb9f3a"
             ],
             [
              0.8888888888888888,
              "#fdca26"
             ],
             [
              1,
              "#f0f921"
             ]
            ],
            "type": "histogram2dcontour"
           }
          ],
          "mesh3d": [
           {
            "colorbar": {
             "outlinewidth": 0,
             "ticks": ""
            },
            "type": "mesh3d"
           }
          ],
          "parcoords": [
           {
            "line": {
             "colorbar": {
              "outlinewidth": 0,
              "ticks": ""
             }
            },
            "type": "parcoords"
           }
          ],
          "pie": [
           {
            "automargin": true,
            "type": "pie"
           }
          ],
          "scatter": [
           {
            "marker": {
             "colorbar": {
              "outlinewidth": 0,
              "ticks": ""
             }
            },
            "type": "scatter"
           }
          ],
          "scatter3d": [
           {
            "line": {
             "colorbar": {
              "outlinewidth": 0,
              "ticks": ""
             }
            },
            "marker": {
             "colorbar": {
              "outlinewidth": 0,
              "ticks": ""
             }
            },
            "type": "scatter3d"
           }
          ],
          "scattercarpet": [
           {
            "marker": {
             "colorbar": {
              "outlinewidth": 0,
              "ticks": ""
             }
            },
            "type": "scattercarpet"
           }
          ],
          "scattergeo": [
           {
            "marker": {
             "colorbar": {
              "outlinewidth": 0,
              "ticks": ""
             }
            },
            "type": "scattergeo"
           }
          ],
          "scattergl": [
           {
            "marker": {
             "colorbar": {
              "outlinewidth": 0,
              "ticks": ""
             }
            },
            "type": "scattergl"
           }
          ],
          "scattermapbox": [
           {
            "marker": {
             "colorbar": {
              "outlinewidth": 0,
              "ticks": ""
             }
            },
            "type": "scattermapbox"
           }
          ],
          "scatterpolar": [
           {
            "marker": {
             "colorbar": {
              "outlinewidth": 0,
              "ticks": ""
             }
            },
            "type": "scatterpolar"
           }
          ],
          "scatterpolargl": [
           {
            "marker": {
             "colorbar": {
              "outlinewidth": 0,
              "ticks": ""
             }
            },
            "type": "scatterpolargl"
           }
          ],
          "scatterternary": [
           {
            "marker": {
             "colorbar": {
              "outlinewidth": 0,
              "ticks": ""
             }
            },
            "type": "scatterternary"
           }
          ],
          "surface": [
           {
            "colorbar": {
             "outlinewidth": 0,
             "ticks": ""
            },
            "colorscale": [
             [
              0,
              "#0d0887"
             ],
             [
              0.1111111111111111,
              "#46039f"
             ],
             [
              0.2222222222222222,
              "#7201a8"
             ],
             [
              0.3333333333333333,
              "#9c179e"
             ],
             [
              0.4444444444444444,
              "#bd3786"
             ],
             [
              0.5555555555555556,
              "#d8576b"
             ],
             [
              0.6666666666666666,
              "#ed7953"
             ],
             [
              0.7777777777777778,
              "#fb9f3a"
             ],
             [
              0.8888888888888888,
              "#fdca26"
             ],
             [
              1,
              "#f0f921"
             ]
            ],
            "type": "surface"
           }
          ],
          "table": [
           {
            "cells": {
             "fill": {
              "color": "#EBF0F8"
             },
             "line": {
              "color": "white"
             }
            },
            "header": {
             "fill": {
              "color": "#C8D4E3"
             },
             "line": {
              "color": "white"
             }
            },
            "type": "table"
           }
          ]
         },
         "layout": {
          "annotationdefaults": {
           "arrowcolor": "#2a3f5f",
           "arrowhead": 0,
           "arrowwidth": 1
          },
          "autotypenumbers": "strict",
          "coloraxis": {
           "colorbar": {
            "outlinewidth": 0,
            "ticks": ""
           }
          },
          "colorscale": {
           "diverging": [
            [
             0,
             "#8e0152"
            ],
            [
             0.1,
             "#c51b7d"
            ],
            [
             0.2,
             "#de77ae"
            ],
            [
             0.3,
             "#f1b6da"
            ],
            [
             0.4,
             "#fde0ef"
            ],
            [
             0.5,
             "#f7f7f7"
            ],
            [
             0.6,
             "#e6f5d0"
            ],
            [
             0.7,
             "#b8e186"
            ],
            [
             0.8,
             "#7fbc41"
            ],
            [
             0.9,
             "#4d9221"
            ],
            [
             1,
             "#276419"
            ]
           ],
           "sequential": [
            [
             0,
             "#0d0887"
            ],
            [
             0.1111111111111111,
             "#46039f"
            ],
            [
             0.2222222222222222,
             "#7201a8"
            ],
            [
             0.3333333333333333,
             "#9c179e"
            ],
            [
             0.4444444444444444,
             "#bd3786"
            ],
            [
             0.5555555555555556,
             "#d8576b"
            ],
            [
             0.6666666666666666,
             "#ed7953"
            ],
            [
             0.7777777777777778,
             "#fb9f3a"
            ],
            [
             0.8888888888888888,
             "#fdca26"
            ],
            [
             1,
             "#f0f921"
            ]
           ],
           "sequentialminus": [
            [
             0,
             "#0d0887"
            ],
            [
             0.1111111111111111,
             "#46039f"
            ],
            [
             0.2222222222222222,
             "#7201a8"
            ],
            [
             0.3333333333333333,
             "#9c179e"
            ],
            [
             0.4444444444444444,
             "#bd3786"
            ],
            [
             0.5555555555555556,
             "#d8576b"
            ],
            [
             0.6666666666666666,
             "#ed7953"
            ],
            [
             0.7777777777777778,
             "#fb9f3a"
            ],
            [
             0.8888888888888888,
             "#fdca26"
            ],
            [
             1,
             "#f0f921"
            ]
           ]
          },
          "colorway": [
           "#636efa",
           "#EF553B",
           "#00cc96",
           "#ab63fa",
           "#FFA15A",
           "#19d3f3",
           "#FF6692",
           "#B6E880",
           "#FF97FF",
           "#FECB52"
          ],
          "font": {
           "color": "#2a3f5f"
          },
          "geo": {
           "bgcolor": "white",
           "lakecolor": "white",
           "landcolor": "#E5ECF6",
           "showlakes": true,
           "showland": true,
           "subunitcolor": "white"
          },
          "hoverlabel": {
           "align": "left"
          },
          "hovermode": "closest",
          "mapbox": {
           "style": "light"
          },
          "paper_bgcolor": "white",
          "plot_bgcolor": "#E5ECF6",
          "polar": {
           "angularaxis": {
            "gridcolor": "white",
            "linecolor": "white",
            "ticks": ""
           },
           "bgcolor": "#E5ECF6",
           "radialaxis": {
            "gridcolor": "white",
            "linecolor": "white",
            "ticks": ""
           }
          },
          "scene": {
           "xaxis": {
            "backgroundcolor": "#E5ECF6",
            "gridcolor": "white",
            "gridwidth": 2,
            "linecolor": "white",
            "showbackground": true,
            "ticks": "",
            "zerolinecolor": "white"
           },
           "yaxis": {
            "backgroundcolor": "#E5ECF6",
            "gridcolor": "white",
            "gridwidth": 2,
            "linecolor": "white",
            "showbackground": true,
            "ticks": "",
            "zerolinecolor": "white"
           },
           "zaxis": {
            "backgroundcolor": "#E5ECF6",
            "gridcolor": "white",
            "gridwidth": 2,
            "linecolor": "white",
            "showbackground": true,
            "ticks": "",
            "zerolinecolor": "white"
           }
          },
          "shapedefaults": {
           "line": {
            "color": "#2a3f5f"
           }
          },
          "ternary": {
           "aaxis": {
            "gridcolor": "white",
            "linecolor": "white",
            "ticks": ""
           },
           "baxis": {
            "gridcolor": "white",
            "linecolor": "white",
            "ticks": ""
           },
           "bgcolor": "#E5ECF6",
           "caxis": {
            "gridcolor": "white",
            "linecolor": "white",
            "ticks": ""
           }
          },
          "title": {
           "x": 0.05
          },
          "xaxis": {
           "automargin": true,
           "gridcolor": "white",
           "linecolor": "white",
           "ticks": "",
           "title": {
            "standoff": 15
           },
           "zerolinecolor": "white",
           "zerolinewidth": 2
          },
          "yaxis": {
           "automargin": true,
           "gridcolor": "white",
           "linecolor": "white",
           "ticks": "",
           "title": {
            "standoff": 15
           },
           "zerolinecolor": "white",
           "zerolinewidth": 2
          }
         }
        },
        "title": {
         "text": "Top 10 \"Genre 1\" have the highest total Nominations and Awards"
        }
       }
      }
     },
     "metadata": {},
     "output_type": "display_data"
    }
   ],
   "source": [
    "fig = go.Figure(data=[\n",
    "    go.Bar(name='totalNominations', x=tan_genre1.index, y=tan_genre1['totalNominations']),\n",
    "    go.Bar(name='totalAwards', x=tan_genre1.index, y=tan_genre1['totalAwards'])\n",
    "   \n",
    "])\n",
    "\n",
    "fig.update_layout(barmode='stack', title='Top 10 \"Genre 1\" have the highest total Nominations and Awards')\n",
    "\n",
    "# Hiển thị biểu đồ\n",
    "fig.show()"
   ]
  },
  {
   "cell_type": "markdown",
   "metadata": {},
   "source": [
    "##### **2 thể loại:**  "
   ]
  },
  {
   "cell_type": "code",
   "execution_count": 24,
   "metadata": {},
   "outputs": [],
   "source": [
    "tan_genre2_df = mi_df.copy()"
   ]
  },
  {
   "cell_type": "code",
   "execution_count": 25,
   "metadata": {},
   "outputs": [
    {
     "data": {
      "text/html": [
       "<div>\n",
       "<style scoped>\n",
       "    .dataframe tbody tr th:only-of-type {\n",
       "        vertical-align: middle;\n",
       "    }\n",
       "\n",
       "    .dataframe tbody tr th {\n",
       "        vertical-align: top;\n",
       "    }\n",
       "\n",
       "    .dataframe thead th {\n",
       "        text-align: right;\n",
       "    }\n",
       "</style>\n",
       "<table border=\"1\" class=\"dataframe\">\n",
       "  <thead>\n",
       "    <tr style=\"text-align: right;\">\n",
       "      <th></th>\n",
       "      <th>movie_id</th>\n",
       "      <th>title</th>\n",
       "      <th>introduction</th>\n",
       "      <th>runtimeSeconds</th>\n",
       "      <th>genre</th>\n",
       "      <th>releaseDate</th>\n",
       "      <th>releaseLocation</th>\n",
       "      <th>actors</th>\n",
       "      <th>directors</th>\n",
       "      <th>totalRatings</th>\n",
       "      <th>ratingStar</th>\n",
       "      <th>totalAwards</th>\n",
       "      <th>totalNominations</th>\n",
       "      <th>2genres</th>\n",
       "    </tr>\n",
       "  </thead>\n",
       "  <tbody>\n",
       "    <tr>\n",
       "      <th>0</th>\n",
       "      <td>tt0012349</td>\n",
       "      <td>The Kid</td>\n",
       "      <td>The Tramp cares for an abandoned child, but ev...</td>\n",
       "      <td>4080</td>\n",
       "      <td>[Comedy, Drama, Family]</td>\n",
       "      <td>1921-02-06</td>\n",
       "      <td>United States</td>\n",
       "      <td>['Charles Chaplin', 'Edna Purviance', 'Jackie ...</td>\n",
       "      <td>['Charles Chaplin']</td>\n",
       "      <td>134289.0</td>\n",
       "      <td>8.2</td>\n",
       "      <td>2</td>\n",
       "      <td>0</td>\n",
       "      <td>('Comedy', 'Drama')</td>\n",
       "    </tr>\n",
       "    <tr>\n",
       "      <th>0</th>\n",
       "      <td>tt0012349</td>\n",
       "      <td>The Kid</td>\n",
       "      <td>The Tramp cares for an abandoned child, but ev...</td>\n",
       "      <td>4080</td>\n",
       "      <td>[Comedy, Drama, Family]</td>\n",
       "      <td>1921-02-06</td>\n",
       "      <td>United States</td>\n",
       "      <td>['Charles Chaplin', 'Edna Purviance', 'Jackie ...</td>\n",
       "      <td>['Charles Chaplin']</td>\n",
       "      <td>134289.0</td>\n",
       "      <td>8.2</td>\n",
       "      <td>2</td>\n",
       "      <td>0</td>\n",
       "      <td>('Comedy', 'Family')</td>\n",
       "    </tr>\n",
       "    <tr>\n",
       "      <th>0</th>\n",
       "      <td>tt0012349</td>\n",
       "      <td>The Kid</td>\n",
       "      <td>The Tramp cares for an abandoned child, but ev...</td>\n",
       "      <td>4080</td>\n",
       "      <td>[Comedy, Drama, Family]</td>\n",
       "      <td>1921-02-06</td>\n",
       "      <td>United States</td>\n",
       "      <td>['Charles Chaplin', 'Edna Purviance', 'Jackie ...</td>\n",
       "      <td>['Charles Chaplin']</td>\n",
       "      <td>134289.0</td>\n",
       "      <td>8.2</td>\n",
       "      <td>2</td>\n",
       "      <td>0</td>\n",
       "      <td>('Drama', 'Family')</td>\n",
       "    </tr>\n",
       "    <tr>\n",
       "      <th>1</th>\n",
       "      <td>tt0015864</td>\n",
       "      <td>The Gold Rush</td>\n",
       "      <td>A prospector goes to the Klondike during the 1...</td>\n",
       "      <td>5700</td>\n",
       "      <td>[Adventure, Comedy, Drama, Romance, Western]</td>\n",
       "      <td>1925-08-16</td>\n",
       "      <td>United States</td>\n",
       "      <td>['Charles Chaplin', 'Mack Swain', 'Tom Murray']</td>\n",
       "      <td>['Charles Chaplin']</td>\n",
       "      <td>118269.0</td>\n",
       "      <td>8.1</td>\n",
       "      <td>5</td>\n",
       "      <td>3</td>\n",
       "      <td>('Adventure', 'Comedy')</td>\n",
       "    </tr>\n",
       "    <tr>\n",
       "      <th>1</th>\n",
       "      <td>tt0015864</td>\n",
       "      <td>The Gold Rush</td>\n",
       "      <td>A prospector goes to the Klondike during the 1...</td>\n",
       "      <td>5700</td>\n",
       "      <td>[Adventure, Comedy, Drama, Romance, Western]</td>\n",
       "      <td>1925-08-16</td>\n",
       "      <td>United States</td>\n",
       "      <td>['Charles Chaplin', 'Mack Swain', 'Tom Murray']</td>\n",
       "      <td>['Charles Chaplin']</td>\n",
       "      <td>118269.0</td>\n",
       "      <td>8.1</td>\n",
       "      <td>5</td>\n",
       "      <td>3</td>\n",
       "      <td>('Adventure', 'Drama')</td>\n",
       "    </tr>\n",
       "  </tbody>\n",
       "</table>\n",
       "</div>"
      ],
      "text/plain": [
       "    movie_id          title  \\\n",
       "0  tt0012349        The Kid   \n",
       "0  tt0012349        The Kid   \n",
       "0  tt0012349        The Kid   \n",
       "1  tt0015864  The Gold Rush   \n",
       "1  tt0015864  The Gold Rush   \n",
       "\n",
       "                                        introduction  runtimeSeconds  \\\n",
       "0  The Tramp cares for an abandoned child, but ev...            4080   \n",
       "0  The Tramp cares for an abandoned child, but ev...            4080   \n",
       "0  The Tramp cares for an abandoned child, but ev...            4080   \n",
       "1  A prospector goes to the Klondike during the 1...            5700   \n",
       "1  A prospector goes to the Klondike during the 1...            5700   \n",
       "\n",
       "                                          genre releaseDate releaseLocation  \\\n",
       "0                       [Comedy, Drama, Family]  1921-02-06   United States   \n",
       "0                       [Comedy, Drama, Family]  1921-02-06   United States   \n",
       "0                       [Comedy, Drama, Family]  1921-02-06   United States   \n",
       "1  [Adventure, Comedy, Drama, Romance, Western]  1925-08-16   United States   \n",
       "1  [Adventure, Comedy, Drama, Romance, Western]  1925-08-16   United States   \n",
       "\n",
       "                                              actors            directors  \\\n",
       "0  ['Charles Chaplin', 'Edna Purviance', 'Jackie ...  ['Charles Chaplin']   \n",
       "0  ['Charles Chaplin', 'Edna Purviance', 'Jackie ...  ['Charles Chaplin']   \n",
       "0  ['Charles Chaplin', 'Edna Purviance', 'Jackie ...  ['Charles Chaplin']   \n",
       "1    ['Charles Chaplin', 'Mack Swain', 'Tom Murray']  ['Charles Chaplin']   \n",
       "1    ['Charles Chaplin', 'Mack Swain', 'Tom Murray']  ['Charles Chaplin']   \n",
       "\n",
       "   totalRatings  ratingStar  totalAwards  totalNominations  \\\n",
       "0      134289.0         8.2            2                 0   \n",
       "0      134289.0         8.2            2                 0   \n",
       "0      134289.0         8.2            2                 0   \n",
       "1      118269.0         8.1            5                 3   \n",
       "1      118269.0         8.1            5                 3   \n",
       "\n",
       "                   2genres  \n",
       "0      ('Comedy', 'Drama')  \n",
       "0     ('Comedy', 'Family')  \n",
       "0      ('Drama', 'Family')  \n",
       "1  ('Adventure', 'Comedy')  \n",
       "1   ('Adventure', 'Drama')  "
      ]
     },
     "execution_count": 25,
     "metadata": {},
     "output_type": "execute_result"
    }
   ],
   "source": [
    "tan_genre2_df['2genres'] = tan_genre2_df['genre'].apply(lambda x: list(combinations(x, 2)))\n",
    "tan_genre2_df = tan_genre2_df.explode('2genres')\n",
    "tan_genre2_df['2genres'] = tan_genre2_df['2genres'].astype(str)\n",
    "tan_genre2_df.head()"
   ]
  },
  {
   "cell_type": "code",
   "execution_count": 26,
   "metadata": {},
   "outputs": [],
   "source": [
    "tan_genre2_df['totalAN'] = tan_genre2_df['totalAwards'] + tan_genre2_df['totalNominations']"
   ]
  },
  {
   "cell_type": "code",
   "execution_count": 27,
   "metadata": {},
   "outputs": [
    {
     "data": {
      "text/html": [
       "<div>\n",
       "<style scoped>\n",
       "    .dataframe tbody tr th:only-of-type {\n",
       "        vertical-align: middle;\n",
       "    }\n",
       "\n",
       "    .dataframe tbody tr th {\n",
       "        vertical-align: top;\n",
       "    }\n",
       "\n",
       "    .dataframe thead th {\n",
       "        text-align: right;\n",
       "    }\n",
       "</style>\n",
       "<table border=\"1\" class=\"dataframe\">\n",
       "  <thead>\n",
       "    <tr style=\"text-align: right;\">\n",
       "      <th></th>\n",
       "      <th>totalAN</th>\n",
       "      <th>totalAwards</th>\n",
       "      <th>totalNominations</th>\n",
       "    </tr>\n",
       "    <tr>\n",
       "      <th>2genres</th>\n",
       "      <th></th>\n",
       "      <th></th>\n",
       "      <th></th>\n",
       "    </tr>\n",
       "  </thead>\n",
       "  <tbody>\n",
       "    <tr>\n",
       "      <th>('Drama', 'Thriller')</th>\n",
       "      <td>22455</td>\n",
       "      <td>7120</td>\n",
       "      <td>15335</td>\n",
       "    </tr>\n",
       "    <tr>\n",
       "      <th>('Drama', 'Romance')</th>\n",
       "      <td>17830</td>\n",
       "      <td>6039</td>\n",
       "      <td>11791</td>\n",
       "    </tr>\n",
       "    <tr>\n",
       "      <th>('Action', 'Adventure')</th>\n",
       "      <td>17203</td>\n",
       "      <td>5709</td>\n",
       "      <td>11494</td>\n",
       "    </tr>\n",
       "    <tr>\n",
       "      <th>('Comedy', 'Drama')</th>\n",
       "      <td>16343</td>\n",
       "      <td>5400</td>\n",
       "      <td>10943</td>\n",
       "    </tr>\n",
       "    <tr>\n",
       "      <th>('Crime', 'Drama')</th>\n",
       "      <td>16007</td>\n",
       "      <td>5062</td>\n",
       "      <td>10945</td>\n",
       "    </tr>\n",
       "    <tr>\n",
       "      <th>('Adventure', 'Fantasy')</th>\n",
       "      <td>13484</td>\n",
       "      <td>4603</td>\n",
       "      <td>8881</td>\n",
       "    </tr>\n",
       "    <tr>\n",
       "      <th>('Biography', 'Drama')</th>\n",
       "      <td>13079</td>\n",
       "      <td>4210</td>\n",
       "      <td>8869</td>\n",
       "    </tr>\n",
       "    <tr>\n",
       "      <th>('Adventure', 'Sci-Fi')</th>\n",
       "      <td>12790</td>\n",
       "      <td>4105</td>\n",
       "      <td>8685</td>\n",
       "    </tr>\n",
       "    <tr>\n",
       "      <th>('Action', 'Sci-Fi')</th>\n",
       "      <td>12702</td>\n",
       "      <td>3983</td>\n",
       "      <td>8719</td>\n",
       "    </tr>\n",
       "    <tr>\n",
       "      <th>('Action', 'Drama')</th>\n",
       "      <td>12486</td>\n",
       "      <td>4082</td>\n",
       "      <td>8404</td>\n",
       "    </tr>\n",
       "  </tbody>\n",
       "</table>\n",
       "</div>"
      ],
      "text/plain": [
       "                          totalAN  totalAwards  totalNominations\n",
       "2genres                                                         \n",
       "('Drama', 'Thriller')       22455         7120             15335\n",
       "('Drama', 'Romance')        17830         6039             11791\n",
       "('Action', 'Adventure')     17203         5709             11494\n",
       "('Comedy', 'Drama')         16343         5400             10943\n",
       "('Crime', 'Drama')          16007         5062             10945\n",
       "('Adventure', 'Fantasy')    13484         4603              8881\n",
       "('Biography', 'Drama')      13079         4210              8869\n",
       "('Adventure', 'Sci-Fi')     12790         4105              8685\n",
       "('Action', 'Sci-Fi')        12702         3983              8719\n",
       "('Action', 'Drama')         12486         4082              8404"
      ]
     },
     "execution_count": 27,
     "metadata": {},
     "output_type": "execute_result"
    }
   ],
   "source": [
    "tan_genre2 = tan_genre2_df.groupby('2genres')[['totalAN', 'totalAwards','totalNominations']].sum().sort_values(by='totalAN', ascending=False)[:10]\n",
    "tan_genre2"
   ]
  },
  {
   "cell_type": "code",
   "execution_count": 28,
   "metadata": {},
   "outputs": [
    {
     "data": {
      "application/vnd.plotly.v1+json": {
       "config": {
        "plotlyServerURL": "https://plot.ly"
       },
       "data": [
        {
         "name": "totalNominations",
         "type": "bar",
         "x": [
          "('Drama', 'Thriller')",
          "('Drama', 'Romance')",
          "('Action', 'Adventure')",
          "('Comedy', 'Drama')",
          "('Crime', 'Drama')",
          "('Adventure', 'Fantasy')",
          "('Biography', 'Drama')",
          "('Adventure', 'Sci-Fi')",
          "('Action', 'Sci-Fi')",
          "('Action', 'Drama')"
         ],
         "y": [
          15335,
          11791,
          11494,
          10943,
          10945,
          8881,
          8869,
          8685,
          8719,
          8404
         ]
        },
        {
         "name": "totalAwards",
         "type": "bar",
         "x": [
          "('Drama', 'Thriller')",
          "('Drama', 'Romance')",
          "('Action', 'Adventure')",
          "('Comedy', 'Drama')",
          "('Crime', 'Drama')",
          "('Adventure', 'Fantasy')",
          "('Biography', 'Drama')",
          "('Adventure', 'Sci-Fi')",
          "('Action', 'Sci-Fi')",
          "('Action', 'Drama')"
         ],
         "y": [
          7120,
          6039,
          5709,
          5400,
          5062,
          4603,
          4210,
          4105,
          3983,
          4082
         ]
        }
       ],
       "layout": {
        "barmode": "stack",
        "template": {
         "data": {
          "bar": [
           {
            "error_x": {
             "color": "#2a3f5f"
            },
            "error_y": {
             "color": "#2a3f5f"
            },
            "marker": {
             "line": {
              "color": "#E5ECF6",
              "width": 0.5
             },
             "pattern": {
              "fillmode": "overlay",
              "size": 10,
              "solidity": 0.2
             }
            },
            "type": "bar"
           }
          ],
          "barpolar": [
           {
            "marker": {
             "line": {
              "color": "#E5ECF6",
              "width": 0.5
             },
             "pattern": {
              "fillmode": "overlay",
              "size": 10,
              "solidity": 0.2
             }
            },
            "type": "barpolar"
           }
          ],
          "carpet": [
           {
            "aaxis": {
             "endlinecolor": "#2a3f5f",
             "gridcolor": "white",
             "linecolor": "white",
             "minorgridcolor": "white",
             "startlinecolor": "#2a3f5f"
            },
            "baxis": {
             "endlinecolor": "#2a3f5f",
             "gridcolor": "white",
             "linecolor": "white",
             "minorgridcolor": "white",
             "startlinecolor": "#2a3f5f"
            },
            "type": "carpet"
           }
          ],
          "choropleth": [
           {
            "colorbar": {
             "outlinewidth": 0,
             "ticks": ""
            },
            "type": "choropleth"
           }
          ],
          "contour": [
           {
            "colorbar": {
             "outlinewidth": 0,
             "ticks": ""
            },
            "colorscale": [
             [
              0,
              "#0d0887"
             ],
             [
              0.1111111111111111,
              "#46039f"
             ],
             [
              0.2222222222222222,
              "#7201a8"
             ],
             [
              0.3333333333333333,
              "#9c179e"
             ],
             [
              0.4444444444444444,
              "#bd3786"
             ],
             [
              0.5555555555555556,
              "#d8576b"
             ],
             [
              0.6666666666666666,
              "#ed7953"
             ],
             [
              0.7777777777777778,
              "#fb9f3a"
             ],
             [
              0.8888888888888888,
              "#fdca26"
             ],
             [
              1,
              "#f0f921"
             ]
            ],
            "type": "contour"
           }
          ],
          "contourcarpet": [
           {
            "colorbar": {
             "outlinewidth": 0,
             "ticks": ""
            },
            "type": "contourcarpet"
           }
          ],
          "heatmap": [
           {
            "colorbar": {
             "outlinewidth": 0,
             "ticks": ""
            },
            "colorscale": [
             [
              0,
              "#0d0887"
             ],
             [
              0.1111111111111111,
              "#46039f"
             ],
             [
              0.2222222222222222,
              "#7201a8"
             ],
             [
              0.3333333333333333,
              "#9c179e"
             ],
             [
              0.4444444444444444,
              "#bd3786"
             ],
             [
              0.5555555555555556,
              "#d8576b"
             ],
             [
              0.6666666666666666,
              "#ed7953"
             ],
             [
              0.7777777777777778,
              "#fb9f3a"
             ],
             [
              0.8888888888888888,
              "#fdca26"
             ],
             [
              1,
              "#f0f921"
             ]
            ],
            "type": "heatmap"
           }
          ],
          "heatmapgl": [
           {
            "colorbar": {
             "outlinewidth": 0,
             "ticks": ""
            },
            "colorscale": [
             [
              0,
              "#0d0887"
             ],
             [
              0.1111111111111111,
              "#46039f"
             ],
             [
              0.2222222222222222,
              "#7201a8"
             ],
             [
              0.3333333333333333,
              "#9c179e"
             ],
             [
              0.4444444444444444,
              "#bd3786"
             ],
             [
              0.5555555555555556,
              "#d8576b"
             ],
             [
              0.6666666666666666,
              "#ed7953"
             ],
             [
              0.7777777777777778,
              "#fb9f3a"
             ],
             [
              0.8888888888888888,
              "#fdca26"
             ],
             [
              1,
              "#f0f921"
             ]
            ],
            "type": "heatmapgl"
           }
          ],
          "histogram": [
           {
            "marker": {
             "pattern": {
              "fillmode": "overlay",
              "size": 10,
              "solidity": 0.2
             }
            },
            "type": "histogram"
           }
          ],
          "histogram2d": [
           {
            "colorbar": {
             "outlinewidth": 0,
             "ticks": ""
            },
            "colorscale": [
             [
              0,
              "#0d0887"
             ],
             [
              0.1111111111111111,
              "#46039f"
             ],
             [
              0.2222222222222222,
              "#7201a8"
             ],
             [
              0.3333333333333333,
              "#9c179e"
             ],
             [
              0.4444444444444444,
              "#bd3786"
             ],
             [
              0.5555555555555556,
              "#d8576b"
             ],
             [
              0.6666666666666666,
              "#ed7953"
             ],
             [
              0.7777777777777778,
              "#fb9f3a"
             ],
             [
              0.8888888888888888,
              "#fdca26"
             ],
             [
              1,
              "#f0f921"
             ]
            ],
            "type": "histogram2d"
           }
          ],
          "histogram2dcontour": [
           {
            "colorbar": {
             "outlinewidth": 0,
             "ticks": ""
            },
            "colorscale": [
             [
              0,
              "#0d0887"
             ],
             [
              0.1111111111111111,
              "#46039f"
             ],
             [
              0.2222222222222222,
              "#7201a8"
             ],
             [
              0.3333333333333333,
              "#9c179e"
             ],
             [
              0.4444444444444444,
              "#bd3786"
             ],
             [
              0.5555555555555556,
              "#d8576b"
             ],
             [
              0.6666666666666666,
              "#ed7953"
             ],
             [
              0.7777777777777778,
              "#fb9f3a"
             ],
             [
              0.8888888888888888,
              "#fdca26"
             ],
             [
              1,
              "#f0f921"
             ]
            ],
            "type": "histogram2dcontour"
           }
          ],
          "mesh3d": [
           {
            "colorbar": {
             "outlinewidth": 0,
             "ticks": ""
            },
            "type": "mesh3d"
           }
          ],
          "parcoords": [
           {
            "line": {
             "colorbar": {
              "outlinewidth": 0,
              "ticks": ""
             }
            },
            "type": "parcoords"
           }
          ],
          "pie": [
           {
            "automargin": true,
            "type": "pie"
           }
          ],
          "scatter": [
           {
            "marker": {
             "colorbar": {
              "outlinewidth": 0,
              "ticks": ""
             }
            },
            "type": "scatter"
           }
          ],
          "scatter3d": [
           {
            "line": {
             "colorbar": {
              "outlinewidth": 0,
              "ticks": ""
             }
            },
            "marker": {
             "colorbar": {
              "outlinewidth": 0,
              "ticks": ""
             }
            },
            "type": "scatter3d"
           }
          ],
          "scattercarpet": [
           {
            "marker": {
             "colorbar": {
              "outlinewidth": 0,
              "ticks": ""
             }
            },
            "type": "scattercarpet"
           }
          ],
          "scattergeo": [
           {
            "marker": {
             "colorbar": {
              "outlinewidth": 0,
              "ticks": ""
             }
            },
            "type": "scattergeo"
           }
          ],
          "scattergl": [
           {
            "marker": {
             "colorbar": {
              "outlinewidth": 0,
              "ticks": ""
             }
            },
            "type": "scattergl"
           }
          ],
          "scattermapbox": [
           {
            "marker": {
             "colorbar": {
              "outlinewidth": 0,
              "ticks": ""
             }
            },
            "type": "scattermapbox"
           }
          ],
          "scatterpolar": [
           {
            "marker": {
             "colorbar": {
              "outlinewidth": 0,
              "ticks": ""
             }
            },
            "type": "scatterpolar"
           }
          ],
          "scatterpolargl": [
           {
            "marker": {
             "colorbar": {
              "outlinewidth": 0,
              "ticks": ""
             }
            },
            "type": "scatterpolargl"
           }
          ],
          "scatterternary": [
           {
            "marker": {
             "colorbar": {
              "outlinewidth": 0,
              "ticks": ""
             }
            },
            "type": "scatterternary"
           }
          ],
          "surface": [
           {
            "colorbar": {
             "outlinewidth": 0,
             "ticks": ""
            },
            "colorscale": [
             [
              0,
              "#0d0887"
             ],
             [
              0.1111111111111111,
              "#46039f"
             ],
             [
              0.2222222222222222,
              "#7201a8"
             ],
             [
              0.3333333333333333,
              "#9c179e"
             ],
             [
              0.4444444444444444,
              "#bd3786"
             ],
             [
              0.5555555555555556,
              "#d8576b"
             ],
             [
              0.6666666666666666,
              "#ed7953"
             ],
             [
              0.7777777777777778,
              "#fb9f3a"
             ],
             [
              0.8888888888888888,
              "#fdca26"
             ],
             [
              1,
              "#f0f921"
             ]
            ],
            "type": "surface"
           }
          ],
          "table": [
           {
            "cells": {
             "fill": {
              "color": "#EBF0F8"
             },
             "line": {
              "color": "white"
             }
            },
            "header": {
             "fill": {
              "color": "#C8D4E3"
             },
             "line": {
              "color": "white"
             }
            },
            "type": "table"
           }
          ]
         },
         "layout": {
          "annotationdefaults": {
           "arrowcolor": "#2a3f5f",
           "arrowhead": 0,
           "arrowwidth": 1
          },
          "autotypenumbers": "strict",
          "coloraxis": {
           "colorbar": {
            "outlinewidth": 0,
            "ticks": ""
           }
          },
          "colorscale": {
           "diverging": [
            [
             0,
             "#8e0152"
            ],
            [
             0.1,
             "#c51b7d"
            ],
            [
             0.2,
             "#de77ae"
            ],
            [
             0.3,
             "#f1b6da"
            ],
            [
             0.4,
             "#fde0ef"
            ],
            [
             0.5,
             "#f7f7f7"
            ],
            [
             0.6,
             "#e6f5d0"
            ],
            [
             0.7,
             "#b8e186"
            ],
            [
             0.8,
             "#7fbc41"
            ],
            [
             0.9,
             "#4d9221"
            ],
            [
             1,
             "#276419"
            ]
           ],
           "sequential": [
            [
             0,
             "#0d0887"
            ],
            [
             0.1111111111111111,
             "#46039f"
            ],
            [
             0.2222222222222222,
             "#7201a8"
            ],
            [
             0.3333333333333333,
             "#9c179e"
            ],
            [
             0.4444444444444444,
             "#bd3786"
            ],
            [
             0.5555555555555556,
             "#d8576b"
            ],
            [
             0.6666666666666666,
             "#ed7953"
            ],
            [
             0.7777777777777778,
             "#fb9f3a"
            ],
            [
             0.8888888888888888,
             "#fdca26"
            ],
            [
             1,
             "#f0f921"
            ]
           ],
           "sequentialminus": [
            [
             0,
             "#0d0887"
            ],
            [
             0.1111111111111111,
             "#46039f"
            ],
            [
             0.2222222222222222,
             "#7201a8"
            ],
            [
             0.3333333333333333,
             "#9c179e"
            ],
            [
             0.4444444444444444,
             "#bd3786"
            ],
            [
             0.5555555555555556,
             "#d8576b"
            ],
            [
             0.6666666666666666,
             "#ed7953"
            ],
            [
             0.7777777777777778,
             "#fb9f3a"
            ],
            [
             0.8888888888888888,
             "#fdca26"
            ],
            [
             1,
             "#f0f921"
            ]
           ]
          },
          "colorway": [
           "#636efa",
           "#EF553B",
           "#00cc96",
           "#ab63fa",
           "#FFA15A",
           "#19d3f3",
           "#FF6692",
           "#B6E880",
           "#FF97FF",
           "#FECB52"
          ],
          "font": {
           "color": "#2a3f5f"
          },
          "geo": {
           "bgcolor": "white",
           "lakecolor": "white",
           "landcolor": "#E5ECF6",
           "showlakes": true,
           "showland": true,
           "subunitcolor": "white"
          },
          "hoverlabel": {
           "align": "left"
          },
          "hovermode": "closest",
          "mapbox": {
           "style": "light"
          },
          "paper_bgcolor": "white",
          "plot_bgcolor": "#E5ECF6",
          "polar": {
           "angularaxis": {
            "gridcolor": "white",
            "linecolor": "white",
            "ticks": ""
           },
           "bgcolor": "#E5ECF6",
           "radialaxis": {
            "gridcolor": "white",
            "linecolor": "white",
            "ticks": ""
           }
          },
          "scene": {
           "xaxis": {
            "backgroundcolor": "#E5ECF6",
            "gridcolor": "white",
            "gridwidth": 2,
            "linecolor": "white",
            "showbackground": true,
            "ticks": "",
            "zerolinecolor": "white"
           },
           "yaxis": {
            "backgroundcolor": "#E5ECF6",
            "gridcolor": "white",
            "gridwidth": 2,
            "linecolor": "white",
            "showbackground": true,
            "ticks": "",
            "zerolinecolor": "white"
           },
           "zaxis": {
            "backgroundcolor": "#E5ECF6",
            "gridcolor": "white",
            "gridwidth": 2,
            "linecolor": "white",
            "showbackground": true,
            "ticks": "",
            "zerolinecolor": "white"
           }
          },
          "shapedefaults": {
           "line": {
            "color": "#2a3f5f"
           }
          },
          "ternary": {
           "aaxis": {
            "gridcolor": "white",
            "linecolor": "white",
            "ticks": ""
           },
           "baxis": {
            "gridcolor": "white",
            "linecolor": "white",
            "ticks": ""
           },
           "bgcolor": "#E5ECF6",
           "caxis": {
            "gridcolor": "white",
            "linecolor": "white",
            "ticks": ""
           }
          },
          "title": {
           "x": 0.05
          },
          "xaxis": {
           "automargin": true,
           "gridcolor": "white",
           "linecolor": "white",
           "ticks": "",
           "title": {
            "standoff": 15
           },
           "zerolinecolor": "white",
           "zerolinewidth": 2
          },
          "yaxis": {
           "automargin": true,
           "gridcolor": "white",
           "linecolor": "white",
           "ticks": "",
           "title": {
            "standoff": 15
           },
           "zerolinecolor": "white",
           "zerolinewidth": 2
          }
         }
        },
        "title": {
         "text": "Top 10 \"Genre 2\" have the highest total Nominations and Awards"
        }
       }
      }
     },
     "metadata": {},
     "output_type": "display_data"
    }
   ],
   "source": [
    "fig = go.Figure(data=[\n",
    "    go.Bar(name='totalNominations', x=tan_genre2.index, y=tan_genre2['totalNominations']),\n",
    "    go.Bar(name='totalAwards', x=tan_genre2.index, y=tan_genre2['totalAwards'])\n",
    "   \n",
    "])\n",
    "\n",
    "fig.update_layout(barmode='stack', title='Top 10 \"Genre 2\" have the highest total Nominations and Awards')\n",
    "\n",
    "# Hiển thị biểu đồ\n",
    "fig.show()"
   ]
  },
  {
   "cell_type": "markdown",
   "metadata": {},
   "source": [
    "##### **3 thể loại:**  "
   ]
  },
  {
   "cell_type": "code",
   "execution_count": 29,
   "metadata": {},
   "outputs": [],
   "source": [
    "tan_genre3_df = mi_df.copy()"
   ]
  },
  {
   "cell_type": "code",
   "execution_count": 30,
   "metadata": {},
   "outputs": [
    {
     "data": {
      "text/html": [
       "<div>\n",
       "<style scoped>\n",
       "    .dataframe tbody tr th:only-of-type {\n",
       "        vertical-align: middle;\n",
       "    }\n",
       "\n",
       "    .dataframe tbody tr th {\n",
       "        vertical-align: top;\n",
       "    }\n",
       "\n",
       "    .dataframe thead th {\n",
       "        text-align: right;\n",
       "    }\n",
       "</style>\n",
       "<table border=\"1\" class=\"dataframe\">\n",
       "  <thead>\n",
       "    <tr style=\"text-align: right;\">\n",
       "      <th></th>\n",
       "      <th>movie_id</th>\n",
       "      <th>title</th>\n",
       "      <th>introduction</th>\n",
       "      <th>runtimeSeconds</th>\n",
       "      <th>genre</th>\n",
       "      <th>releaseDate</th>\n",
       "      <th>releaseLocation</th>\n",
       "      <th>actors</th>\n",
       "      <th>directors</th>\n",
       "      <th>totalRatings</th>\n",
       "      <th>ratingStar</th>\n",
       "      <th>totalAwards</th>\n",
       "      <th>totalNominations</th>\n",
       "      <th>3genres</th>\n",
       "    </tr>\n",
       "  </thead>\n",
       "  <tbody>\n",
       "    <tr>\n",
       "      <th>0</th>\n",
       "      <td>tt0012349</td>\n",
       "      <td>The Kid</td>\n",
       "      <td>The Tramp cares for an abandoned child, but ev...</td>\n",
       "      <td>4080</td>\n",
       "      <td>[Comedy, Drama, Family]</td>\n",
       "      <td>1921-02-06</td>\n",
       "      <td>United States</td>\n",
       "      <td>['Charles Chaplin', 'Edna Purviance', 'Jackie ...</td>\n",
       "      <td>['Charles Chaplin']</td>\n",
       "      <td>134289.0</td>\n",
       "      <td>8.2</td>\n",
       "      <td>2</td>\n",
       "      <td>0</td>\n",
       "      <td>('Comedy', 'Drama', 'Family')</td>\n",
       "    </tr>\n",
       "    <tr>\n",
       "      <th>1</th>\n",
       "      <td>tt0015864</td>\n",
       "      <td>The Gold Rush</td>\n",
       "      <td>A prospector goes to the Klondike during the 1...</td>\n",
       "      <td>5700</td>\n",
       "      <td>[Adventure, Comedy, Drama, Romance, Western]</td>\n",
       "      <td>1925-08-16</td>\n",
       "      <td>United States</td>\n",
       "      <td>['Charles Chaplin', 'Mack Swain', 'Tom Murray']</td>\n",
       "      <td>['Charles Chaplin']</td>\n",
       "      <td>118269.0</td>\n",
       "      <td>8.1</td>\n",
       "      <td>5</td>\n",
       "      <td>3</td>\n",
       "      <td>('Adventure', 'Comedy', 'Drama')</td>\n",
       "    </tr>\n",
       "    <tr>\n",
       "      <th>1</th>\n",
       "      <td>tt0015864</td>\n",
       "      <td>The Gold Rush</td>\n",
       "      <td>A prospector goes to the Klondike during the 1...</td>\n",
       "      <td>5700</td>\n",
       "      <td>[Adventure, Comedy, Drama, Romance, Western]</td>\n",
       "      <td>1925-08-16</td>\n",
       "      <td>United States</td>\n",
       "      <td>['Charles Chaplin', 'Mack Swain', 'Tom Murray']</td>\n",
       "      <td>['Charles Chaplin']</td>\n",
       "      <td>118269.0</td>\n",
       "      <td>8.1</td>\n",
       "      <td>5</td>\n",
       "      <td>3</td>\n",
       "      <td>('Adventure', 'Comedy', 'Romance')</td>\n",
       "    </tr>\n",
       "    <tr>\n",
       "      <th>1</th>\n",
       "      <td>tt0015864</td>\n",
       "      <td>The Gold Rush</td>\n",
       "      <td>A prospector goes to the Klondike during the 1...</td>\n",
       "      <td>5700</td>\n",
       "      <td>[Adventure, Comedy, Drama, Romance, Western]</td>\n",
       "      <td>1925-08-16</td>\n",
       "      <td>United States</td>\n",
       "      <td>['Charles Chaplin', 'Mack Swain', 'Tom Murray']</td>\n",
       "      <td>['Charles Chaplin']</td>\n",
       "      <td>118269.0</td>\n",
       "      <td>8.1</td>\n",
       "      <td>5</td>\n",
       "      <td>3</td>\n",
       "      <td>('Adventure', 'Comedy', 'Western')</td>\n",
       "    </tr>\n",
       "    <tr>\n",
       "      <th>1</th>\n",
       "      <td>tt0015864</td>\n",
       "      <td>The Gold Rush</td>\n",
       "      <td>A prospector goes to the Klondike during the 1...</td>\n",
       "      <td>5700</td>\n",
       "      <td>[Adventure, Comedy, Drama, Romance, Western]</td>\n",
       "      <td>1925-08-16</td>\n",
       "      <td>United States</td>\n",
       "      <td>['Charles Chaplin', 'Mack Swain', 'Tom Murray']</td>\n",
       "      <td>['Charles Chaplin']</td>\n",
       "      <td>118269.0</td>\n",
       "      <td>8.1</td>\n",
       "      <td>5</td>\n",
       "      <td>3</td>\n",
       "      <td>('Adventure', 'Drama', 'Romance')</td>\n",
       "    </tr>\n",
       "  </tbody>\n",
       "</table>\n",
       "</div>"
      ],
      "text/plain": [
       "    movie_id          title  \\\n",
       "0  tt0012349        The Kid   \n",
       "1  tt0015864  The Gold Rush   \n",
       "1  tt0015864  The Gold Rush   \n",
       "1  tt0015864  The Gold Rush   \n",
       "1  tt0015864  The Gold Rush   \n",
       "\n",
       "                                        introduction  runtimeSeconds  \\\n",
       "0  The Tramp cares for an abandoned child, but ev...            4080   \n",
       "1  A prospector goes to the Klondike during the 1...            5700   \n",
       "1  A prospector goes to the Klondike during the 1...            5700   \n",
       "1  A prospector goes to the Klondike during the 1...            5700   \n",
       "1  A prospector goes to the Klondike during the 1...            5700   \n",
       "\n",
       "                                          genre releaseDate releaseLocation  \\\n",
       "0                       [Comedy, Drama, Family]  1921-02-06   United States   \n",
       "1  [Adventure, Comedy, Drama, Romance, Western]  1925-08-16   United States   \n",
       "1  [Adventure, Comedy, Drama, Romance, Western]  1925-08-16   United States   \n",
       "1  [Adventure, Comedy, Drama, Romance, Western]  1925-08-16   United States   \n",
       "1  [Adventure, Comedy, Drama, Romance, Western]  1925-08-16   United States   \n",
       "\n",
       "                                              actors            directors  \\\n",
       "0  ['Charles Chaplin', 'Edna Purviance', 'Jackie ...  ['Charles Chaplin']   \n",
       "1    ['Charles Chaplin', 'Mack Swain', 'Tom Murray']  ['Charles Chaplin']   \n",
       "1    ['Charles Chaplin', 'Mack Swain', 'Tom Murray']  ['Charles Chaplin']   \n",
       "1    ['Charles Chaplin', 'Mack Swain', 'Tom Murray']  ['Charles Chaplin']   \n",
       "1    ['Charles Chaplin', 'Mack Swain', 'Tom Murray']  ['Charles Chaplin']   \n",
       "\n",
       "   totalRatings  ratingStar  totalAwards  totalNominations  \\\n",
       "0      134289.0         8.2            2                 0   \n",
       "1      118269.0         8.1            5                 3   \n",
       "1      118269.0         8.1            5                 3   \n",
       "1      118269.0         8.1            5                 3   \n",
       "1      118269.0         8.1            5                 3   \n",
       "\n",
       "                              3genres  \n",
       "0       ('Comedy', 'Drama', 'Family')  \n",
       "1    ('Adventure', 'Comedy', 'Drama')  \n",
       "1  ('Adventure', 'Comedy', 'Romance')  \n",
       "1  ('Adventure', 'Comedy', 'Western')  \n",
       "1   ('Adventure', 'Drama', 'Romance')  "
      ]
     },
     "execution_count": 30,
     "metadata": {},
     "output_type": "execute_result"
    }
   ],
   "source": [
    "tan_genre3_df['3genres'] = tan_genre3_df['genre'].apply(lambda x: list(combinations(x, 3)))\n",
    "tan_genre3_df = tan_genre3_df.explode('3genres')\n",
    "tan_genre3_df['3genres'] = tan_genre3_df['3genres'].astype(str)\n",
    "tan_genre3_df.head()"
   ]
  },
  {
   "cell_type": "code",
   "execution_count": 31,
   "metadata": {},
   "outputs": [],
   "source": [
    "tan_genre3_df['totalAN'] = tan_genre3_df['totalAwards'] + tan_genre3_df['totalNominations']"
   ]
  },
  {
   "cell_type": "code",
   "execution_count": 32,
   "metadata": {},
   "outputs": [
    {
     "data": {
      "text/html": [
       "<div>\n",
       "<style scoped>\n",
       "    .dataframe tbody tr th:only-of-type {\n",
       "        vertical-align: middle;\n",
       "    }\n",
       "\n",
       "    .dataframe tbody tr th {\n",
       "        vertical-align: top;\n",
       "    }\n",
       "\n",
       "    .dataframe thead th {\n",
       "        text-align: right;\n",
       "    }\n",
       "</style>\n",
       "<table border=\"1\" class=\"dataframe\">\n",
       "  <thead>\n",
       "    <tr style=\"text-align: right;\">\n",
       "      <th></th>\n",
       "      <th>totalAN</th>\n",
       "      <th>totalAwards</th>\n",
       "      <th>totalNominations</th>\n",
       "    </tr>\n",
       "    <tr>\n",
       "      <th>3genres</th>\n",
       "      <th></th>\n",
       "      <th></th>\n",
       "      <th></th>\n",
       "    </tr>\n",
       "  </thead>\n",
       "  <tbody>\n",
       "    <tr>\n",
       "      <th>('Action', 'Adventure', 'Sci-Fi')</th>\n",
       "      <td>10171</td>\n",
       "      <td>3348</td>\n",
       "      <td>6823</td>\n",
       "    </tr>\n",
       "    <tr>\n",
       "      <th>('Crime', 'Drama', 'Thriller')</th>\n",
       "      <td>8685</td>\n",
       "      <td>2793</td>\n",
       "      <td>5892</td>\n",
       "    </tr>\n",
       "    <tr>\n",
       "      <th>('Drama', 'Mystery', 'Thriller')</th>\n",
       "      <td>8548</td>\n",
       "      <td>2438</td>\n",
       "      <td>6110</td>\n",
       "    </tr>\n",
       "    <tr>\n",
       "      <th>('Action', 'Adventure', 'Fantasy')</th>\n",
       "      <td>7890</td>\n",
       "      <td>2862</td>\n",
       "      <td>5028</td>\n",
       "    </tr>\n",
       "    <tr>\n",
       "      <th>('Action', 'Adventure', 'Drama')</th>\n",
       "      <td>6280</td>\n",
       "      <td>2190</td>\n",
       "      <td>4090</td>\n",
       "    </tr>\n",
       "    <tr>\n",
       "      <th>('Adventure', 'Drama', 'Fantasy')</th>\n",
       "      <td>5924</td>\n",
       "      <td>2080</td>\n",
       "      <td>3844</td>\n",
       "    </tr>\n",
       "    <tr>\n",
       "      <th>('Biography', 'Drama', 'History')</th>\n",
       "      <td>5546</td>\n",
       "      <td>2015</td>\n",
       "      <td>3531</td>\n",
       "    </tr>\n",
       "    <tr>\n",
       "      <th>('Adventure', 'Family', 'Fantasy')</th>\n",
       "      <td>5494</td>\n",
       "      <td>1783</td>\n",
       "      <td>3711</td>\n",
       "    </tr>\n",
       "    <tr>\n",
       "      <th>('Drama', 'Sci-Fi', 'Thriller')</th>\n",
       "      <td>5484</td>\n",
       "      <td>1592</td>\n",
       "      <td>3892</td>\n",
       "    </tr>\n",
       "    <tr>\n",
       "      <th>('Animation', 'Adventure', 'Family')</th>\n",
       "      <td>5087</td>\n",
       "      <td>1831</td>\n",
       "      <td>3256</td>\n",
       "    </tr>\n",
       "  </tbody>\n",
       "</table>\n",
       "</div>"
      ],
      "text/plain": [
       "                                      totalAN  totalAwards  totalNominations\n",
       "3genres                                                                     \n",
       "('Action', 'Adventure', 'Sci-Fi')       10171         3348              6823\n",
       "('Crime', 'Drama', 'Thriller')           8685         2793              5892\n",
       "('Drama', 'Mystery', 'Thriller')         8548         2438              6110\n",
       "('Action', 'Adventure', 'Fantasy')       7890         2862              5028\n",
       "('Action', 'Adventure', 'Drama')         6280         2190              4090\n",
       "('Adventure', 'Drama', 'Fantasy')        5924         2080              3844\n",
       "('Biography', 'Drama', 'History')        5546         2015              3531\n",
       "('Adventure', 'Family', 'Fantasy')       5494         1783              3711\n",
       "('Drama', 'Sci-Fi', 'Thriller')          5484         1592              3892\n",
       "('Animation', 'Adventure', 'Family')     5087         1831              3256"
      ]
     },
     "execution_count": 32,
     "metadata": {},
     "output_type": "execute_result"
    }
   ],
   "source": [
    "tan_genre3 = tan_genre3_df.groupby('3genres')[['totalAN', 'totalAwards','totalNominations']].sum().sort_values(by='totalAN', ascending=False)[1:11]\n",
    "tan_genre3"
   ]
  },
  {
   "cell_type": "code",
   "execution_count": 33,
   "metadata": {},
   "outputs": [
    {
     "data": {
      "application/vnd.plotly.v1+json": {
       "config": {
        "plotlyServerURL": "https://plot.ly"
       },
       "data": [
        {
         "name": "totalNominations",
         "type": "bar",
         "x": [
          "('Action', 'Adventure', 'Sci-Fi')",
          "('Crime', 'Drama', 'Thriller')",
          "('Drama', 'Mystery', 'Thriller')",
          "('Action', 'Adventure', 'Fantasy')",
          "('Action', 'Adventure', 'Drama')",
          "('Adventure', 'Drama', 'Fantasy')",
          "('Biography', 'Drama', 'History')",
          "('Adventure', 'Family', 'Fantasy')",
          "('Drama', 'Sci-Fi', 'Thriller')",
          "('Animation', 'Adventure', 'Family')"
         ],
         "y": [
          6823,
          5892,
          6110,
          5028,
          4090,
          3844,
          3531,
          3711,
          3892,
          3256
         ]
        },
        {
         "name": "totalAwards",
         "type": "bar",
         "x": [
          "('Action', 'Adventure', 'Sci-Fi')",
          "('Crime', 'Drama', 'Thriller')",
          "('Drama', 'Mystery', 'Thriller')",
          "('Action', 'Adventure', 'Fantasy')",
          "('Action', 'Adventure', 'Drama')",
          "('Adventure', 'Drama', 'Fantasy')",
          "('Biography', 'Drama', 'History')",
          "('Adventure', 'Family', 'Fantasy')",
          "('Drama', 'Sci-Fi', 'Thriller')",
          "('Animation', 'Adventure', 'Family')"
         ],
         "y": [
          3348,
          2793,
          2438,
          2862,
          2190,
          2080,
          2015,
          1783,
          1592,
          1831
         ]
        }
       ],
       "layout": {
        "barmode": "stack",
        "template": {
         "data": {
          "bar": [
           {
            "error_x": {
             "color": "#2a3f5f"
            },
            "error_y": {
             "color": "#2a3f5f"
            },
            "marker": {
             "line": {
              "color": "#E5ECF6",
              "width": 0.5
             },
             "pattern": {
              "fillmode": "overlay",
              "size": 10,
              "solidity": 0.2
             }
            },
            "type": "bar"
           }
          ],
          "barpolar": [
           {
            "marker": {
             "line": {
              "color": "#E5ECF6",
              "width": 0.5
             },
             "pattern": {
              "fillmode": "overlay",
              "size": 10,
              "solidity": 0.2
             }
            },
            "type": "barpolar"
           }
          ],
          "carpet": [
           {
            "aaxis": {
             "endlinecolor": "#2a3f5f",
             "gridcolor": "white",
             "linecolor": "white",
             "minorgridcolor": "white",
             "startlinecolor": "#2a3f5f"
            },
            "baxis": {
             "endlinecolor": "#2a3f5f",
             "gridcolor": "white",
             "linecolor": "white",
             "minorgridcolor": "white",
             "startlinecolor": "#2a3f5f"
            },
            "type": "carpet"
           }
          ],
          "choropleth": [
           {
            "colorbar": {
             "outlinewidth": 0,
             "ticks": ""
            },
            "type": "choropleth"
           }
          ],
          "contour": [
           {
            "colorbar": {
             "outlinewidth": 0,
             "ticks": ""
            },
            "colorscale": [
             [
              0,
              "#0d0887"
             ],
             [
              0.1111111111111111,
              "#46039f"
             ],
             [
              0.2222222222222222,
              "#7201a8"
             ],
             [
              0.3333333333333333,
              "#9c179e"
             ],
             [
              0.4444444444444444,
              "#bd3786"
             ],
             [
              0.5555555555555556,
              "#d8576b"
             ],
             [
              0.6666666666666666,
              "#ed7953"
             ],
             [
              0.7777777777777778,
              "#fb9f3a"
             ],
             [
              0.8888888888888888,
              "#fdca26"
             ],
             [
              1,
              "#f0f921"
             ]
            ],
            "type": "contour"
           }
          ],
          "contourcarpet": [
           {
            "colorbar": {
             "outlinewidth": 0,
             "ticks": ""
            },
            "type": "contourcarpet"
           }
          ],
          "heatmap": [
           {
            "colorbar": {
             "outlinewidth": 0,
             "ticks": ""
            },
            "colorscale": [
             [
              0,
              "#0d0887"
             ],
             [
              0.1111111111111111,
              "#46039f"
             ],
             [
              0.2222222222222222,
              "#7201a8"
             ],
             [
              0.3333333333333333,
              "#9c179e"
             ],
             [
              0.4444444444444444,
              "#bd3786"
             ],
             [
              0.5555555555555556,
              "#d8576b"
             ],
             [
              0.6666666666666666,
              "#ed7953"
             ],
             [
              0.7777777777777778,
              "#fb9f3a"
             ],
             [
              0.8888888888888888,
              "#fdca26"
             ],
             [
              1,
              "#f0f921"
             ]
            ],
            "type": "heatmap"
           }
          ],
          "heatmapgl": [
           {
            "colorbar": {
             "outlinewidth": 0,
             "ticks": ""
            },
            "colorscale": [
             [
              0,
              "#0d0887"
             ],
             [
              0.1111111111111111,
              "#46039f"
             ],
             [
              0.2222222222222222,
              "#7201a8"
             ],
             [
              0.3333333333333333,
              "#9c179e"
             ],
             [
              0.4444444444444444,
              "#bd3786"
             ],
             [
              0.5555555555555556,
              "#d8576b"
             ],
             [
              0.6666666666666666,
              "#ed7953"
             ],
             [
              0.7777777777777778,
              "#fb9f3a"
             ],
             [
              0.8888888888888888,
              "#fdca26"
             ],
             [
              1,
              "#f0f921"
             ]
            ],
            "type": "heatmapgl"
           }
          ],
          "histogram": [
           {
            "marker": {
             "pattern": {
              "fillmode": "overlay",
              "size": 10,
              "solidity": 0.2
             }
            },
            "type": "histogram"
           }
          ],
          "histogram2d": [
           {
            "colorbar": {
             "outlinewidth": 0,
             "ticks": ""
            },
            "colorscale": [
             [
              0,
              "#0d0887"
             ],
             [
              0.1111111111111111,
              "#46039f"
             ],
             [
              0.2222222222222222,
              "#7201a8"
             ],
             [
              0.3333333333333333,
              "#9c179e"
             ],
             [
              0.4444444444444444,
              "#bd3786"
             ],
             [
              0.5555555555555556,
              "#d8576b"
             ],
             [
              0.6666666666666666,
              "#ed7953"
             ],
             [
              0.7777777777777778,
              "#fb9f3a"
             ],
             [
              0.8888888888888888,
              "#fdca26"
             ],
             [
              1,
              "#f0f921"
             ]
            ],
            "type": "histogram2d"
           }
          ],
          "histogram2dcontour": [
           {
            "colorbar": {
             "outlinewidth": 0,
             "ticks": ""
            },
            "colorscale": [
             [
              0,
              "#0d0887"
             ],
             [
              0.1111111111111111,
              "#46039f"
             ],
             [
              0.2222222222222222,
              "#7201a8"
             ],
             [
              0.3333333333333333,
              "#9c179e"
             ],
             [
              0.4444444444444444,
              "#bd3786"
             ],
             [
              0.5555555555555556,
              "#d8576b"
             ],
             [
              0.6666666666666666,
              "#ed7953"
             ],
             [
              0.7777777777777778,
              "#fb9f3a"
             ],
             [
              0.8888888888888888,
              "#fdca26"
             ],
             [
              1,
              "#f0f921"
             ]
            ],
            "type": "histogram2dcontour"
           }
          ],
          "mesh3d": [
           {
            "colorbar": {
             "outlinewidth": 0,
             "ticks": ""
            },
            "type": "mesh3d"
           }
          ],
          "parcoords": [
           {
            "line": {
             "colorbar": {
              "outlinewidth": 0,
              "ticks": ""
             }
            },
            "type": "parcoords"
           }
          ],
          "pie": [
           {
            "automargin": true,
            "type": "pie"
           }
          ],
          "scatter": [
           {
            "marker": {
             "colorbar": {
              "outlinewidth": 0,
              "ticks": ""
             }
            },
            "type": "scatter"
           }
          ],
          "scatter3d": [
           {
            "line": {
             "colorbar": {
              "outlinewidth": 0,
              "ticks": ""
             }
            },
            "marker": {
             "colorbar": {
              "outlinewidth": 0,
              "ticks": ""
             }
            },
            "type": "scatter3d"
           }
          ],
          "scattercarpet": [
           {
            "marker": {
             "colorbar": {
              "outlinewidth": 0,
              "ticks": ""
             }
            },
            "type": "scattercarpet"
           }
          ],
          "scattergeo": [
           {
            "marker": {
             "colorbar": {
              "outlinewidth": 0,
              "ticks": ""
             }
            },
            "type": "scattergeo"
           }
          ],
          "scattergl": [
           {
            "marker": {
             "colorbar": {
              "outlinewidth": 0,
              "ticks": ""
             }
            },
            "type": "scattergl"
           }
          ],
          "scattermapbox": [
           {
            "marker": {
             "colorbar": {
              "outlinewidth": 0,
              "ticks": ""
             }
            },
            "type": "scattermapbox"
           }
          ],
          "scatterpolar": [
           {
            "marker": {
             "colorbar": {
              "outlinewidth": 0,
              "ticks": ""
             }
            },
            "type": "scatterpolar"
           }
          ],
          "scatterpolargl": [
           {
            "marker": {
             "colorbar": {
              "outlinewidth": 0,
              "ticks": ""
             }
            },
            "type": "scatterpolargl"
           }
          ],
          "scatterternary": [
           {
            "marker": {
             "colorbar": {
              "outlinewidth": 0,
              "ticks": ""
             }
            },
            "type": "scatterternary"
           }
          ],
          "surface": [
           {
            "colorbar": {
             "outlinewidth": 0,
             "ticks": ""
            },
            "colorscale": [
             [
              0,
              "#0d0887"
             ],
             [
              0.1111111111111111,
              "#46039f"
             ],
             [
              0.2222222222222222,
              "#7201a8"
             ],
             [
              0.3333333333333333,
              "#9c179e"
             ],
             [
              0.4444444444444444,
              "#bd3786"
             ],
             [
              0.5555555555555556,
              "#d8576b"
             ],
             [
              0.6666666666666666,
              "#ed7953"
             ],
             [
              0.7777777777777778,
              "#fb9f3a"
             ],
             [
              0.8888888888888888,
              "#fdca26"
             ],
             [
              1,
              "#f0f921"
             ]
            ],
            "type": "surface"
           }
          ],
          "table": [
           {
            "cells": {
             "fill": {
              "color": "#EBF0F8"
             },
             "line": {
              "color": "white"
             }
            },
            "header": {
             "fill": {
              "color": "#C8D4E3"
             },
             "line": {
              "color": "white"
             }
            },
            "type": "table"
           }
          ]
         },
         "layout": {
          "annotationdefaults": {
           "arrowcolor": "#2a3f5f",
           "arrowhead": 0,
           "arrowwidth": 1
          },
          "autotypenumbers": "strict",
          "coloraxis": {
           "colorbar": {
            "outlinewidth": 0,
            "ticks": ""
           }
          },
          "colorscale": {
           "diverging": [
            [
             0,
             "#8e0152"
            ],
            [
             0.1,
             "#c51b7d"
            ],
            [
             0.2,
             "#de77ae"
            ],
            [
             0.3,
             "#f1b6da"
            ],
            [
             0.4,
             "#fde0ef"
            ],
            [
             0.5,
             "#f7f7f7"
            ],
            [
             0.6,
             "#e6f5d0"
            ],
            [
             0.7,
             "#b8e186"
            ],
            [
             0.8,
             "#7fbc41"
            ],
            [
             0.9,
             "#4d9221"
            ],
            [
             1,
             "#276419"
            ]
           ],
           "sequential": [
            [
             0,
             "#0d0887"
            ],
            [
             0.1111111111111111,
             "#46039f"
            ],
            [
             0.2222222222222222,
             "#7201a8"
            ],
            [
             0.3333333333333333,
             "#9c179e"
            ],
            [
             0.4444444444444444,
             "#bd3786"
            ],
            [
             0.5555555555555556,
             "#d8576b"
            ],
            [
             0.6666666666666666,
             "#ed7953"
            ],
            [
             0.7777777777777778,
             "#fb9f3a"
            ],
            [
             0.8888888888888888,
             "#fdca26"
            ],
            [
             1,
             "#f0f921"
            ]
           ],
           "sequentialminus": [
            [
             0,
             "#0d0887"
            ],
            [
             0.1111111111111111,
             "#46039f"
            ],
            [
             0.2222222222222222,
             "#7201a8"
            ],
            [
             0.3333333333333333,
             "#9c179e"
            ],
            [
             0.4444444444444444,
             "#bd3786"
            ],
            [
             0.5555555555555556,
             "#d8576b"
            ],
            [
             0.6666666666666666,
             "#ed7953"
            ],
            [
             0.7777777777777778,
             "#fb9f3a"
            ],
            [
             0.8888888888888888,
             "#fdca26"
            ],
            [
             1,
             "#f0f921"
            ]
           ]
          },
          "colorway": [
           "#636efa",
           "#EF553B",
           "#00cc96",
           "#ab63fa",
           "#FFA15A",
           "#19d3f3",
           "#FF6692",
           "#B6E880",
           "#FF97FF",
           "#FECB52"
          ],
          "font": {
           "color": "#2a3f5f"
          },
          "geo": {
           "bgcolor": "white",
           "lakecolor": "white",
           "landcolor": "#E5ECF6",
           "showlakes": true,
           "showland": true,
           "subunitcolor": "white"
          },
          "hoverlabel": {
           "align": "left"
          },
          "hovermode": "closest",
          "mapbox": {
           "style": "light"
          },
          "paper_bgcolor": "white",
          "plot_bgcolor": "#E5ECF6",
          "polar": {
           "angularaxis": {
            "gridcolor": "white",
            "linecolor": "white",
            "ticks": ""
           },
           "bgcolor": "#E5ECF6",
           "radialaxis": {
            "gridcolor": "white",
            "linecolor": "white",
            "ticks": ""
           }
          },
          "scene": {
           "xaxis": {
            "backgroundcolor": "#E5ECF6",
            "gridcolor": "white",
            "gridwidth": 2,
            "linecolor": "white",
            "showbackground": true,
            "ticks": "",
            "zerolinecolor": "white"
           },
           "yaxis": {
            "backgroundcolor": "#E5ECF6",
            "gridcolor": "white",
            "gridwidth": 2,
            "linecolor": "white",
            "showbackground": true,
            "ticks": "",
            "zerolinecolor": "white"
           },
           "zaxis": {
            "backgroundcolor": "#E5ECF6",
            "gridcolor": "white",
            "gridwidth": 2,
            "linecolor": "white",
            "showbackground": true,
            "ticks": "",
            "zerolinecolor": "white"
           }
          },
          "shapedefaults": {
           "line": {
            "color": "#2a3f5f"
           }
          },
          "ternary": {
           "aaxis": {
            "gridcolor": "white",
            "linecolor": "white",
            "ticks": ""
           },
           "baxis": {
            "gridcolor": "white",
            "linecolor": "white",
            "ticks": ""
           },
           "bgcolor": "#E5ECF6",
           "caxis": {
            "gridcolor": "white",
            "linecolor": "white",
            "ticks": ""
           }
          },
          "title": {
           "x": 0.05
          },
          "xaxis": {
           "automargin": true,
           "gridcolor": "white",
           "linecolor": "white",
           "ticks": "",
           "title": {
            "standoff": 15
           },
           "zerolinecolor": "white",
           "zerolinewidth": 2
          },
          "yaxis": {
           "automargin": true,
           "gridcolor": "white",
           "linecolor": "white",
           "ticks": "",
           "title": {
            "standoff": 15
           },
           "zerolinecolor": "white",
           "zerolinewidth": 2
          }
         }
        },
        "title": {
         "text": "Top 10 \"Genre 3\" have the highest total Nominations and Awards"
        }
       }
      }
     },
     "metadata": {},
     "output_type": "display_data"
    }
   ],
   "source": [
    "fig = go.Figure(data=[\n",
    "    go.Bar(name='totalNominations', x=tan_genre3.index, y=tan_genre3['totalNominations']),\n",
    "    go.Bar(name='totalAwards', x=tan_genre3.index, y=tan_genre3['totalAwards'])\n",
    "   \n",
    "])\n",
    "\n",
    "fig.update_layout(barmode='stack', title='Top 10 \"Genre 3\" have the highest total Nominations and Awards')\n",
    "\n",
    "# Hiển thị biểu đồ\n",
    "fig.show()"
   ]
  },
  {
   "cell_type": "markdown",
   "metadata": {},
   "source": [
    "<hr/>\n",
    "\n",
    "### **4. Trực quan hóa dữ liệu (Hệ thống gợi ý)**"
   ]
  },
  {
   "cell_type": "markdown",
   "metadata": {},
   "source": [
    "#### **4.1. Hệ thống gợi ý: Top n bộ phim theo thể loại**\n",
    "##### *Filter: 1,2,3 thể loại*"
   ]
  },
  {
   "cell_type": "code",
   "execution_count": 34,
   "metadata": {},
   "outputs": [],
   "source": [
    "genre_df = mi_df.copy()\n",
    "genre_df['genre'] = genre_df['genre'].astype(str)"
   ]
  },
  {
   "cell_type": "markdown",
   "metadata": {},
   "source": [
    "##### **Visualize:**"
   ]
  },
  {
   "cell_type": "code",
   "execution_count": 35,
   "metadata": {},
   "outputs": [
    {
     "data": {
      "text/html": [
       "<div>\n",
       "<style scoped>\n",
       "    .dataframe tbody tr th:only-of-type {\n",
       "        vertical-align: middle;\n",
       "    }\n",
       "\n",
       "    .dataframe tbody tr th {\n",
       "        vertical-align: top;\n",
       "    }\n",
       "\n",
       "    .dataframe thead th {\n",
       "        text-align: right;\n",
       "    }\n",
       "</style>\n",
       "<table border=\"1\" class=\"dataframe\">\n",
       "  <thead>\n",
       "    <tr style=\"text-align: right;\">\n",
       "      <th></th>\n",
       "      <th>level_0</th>\n",
       "      <th>index</th>\n",
       "      <th>movie_id</th>\n",
       "      <th>title</th>\n",
       "      <th>introduction</th>\n",
       "      <th>runtimeSeconds</th>\n",
       "      <th>genre</th>\n",
       "      <th>releaseDate</th>\n",
       "      <th>releaseLocation</th>\n",
       "      <th>actors</th>\n",
       "      <th>directors</th>\n",
       "      <th>totalRatings</th>\n",
       "      <th>ratingStar</th>\n",
       "      <th>totalAwards</th>\n",
       "      <th>totalNominations</th>\n",
       "    </tr>\n",
       "  </thead>\n",
       "  <tbody>\n",
       "    <tr>\n",
       "      <th>0</th>\n",
       "      <td>0</td>\n",
       "      <td>0</td>\n",
       "      <td>tt0012349</td>\n",
       "      <td>The Kid</td>\n",
       "      <td>The Tramp cares for an abandoned child, but ev...</td>\n",
       "      <td>4080</td>\n",
       "      <td>['Comedy', 'Drama', 'Family']</td>\n",
       "      <td>1921-02-06</td>\n",
       "      <td>United States</td>\n",
       "      <td>['Charles Chaplin', 'Edna Purviance', 'Jackie ...</td>\n",
       "      <td>['Charles Chaplin']</td>\n",
       "      <td>134289.0</td>\n",
       "      <td>8.2</td>\n",
       "      <td>2</td>\n",
       "      <td>0</td>\n",
       "    </tr>\n",
       "    <tr>\n",
       "      <th>1</th>\n",
       "      <td>1</td>\n",
       "      <td>1</td>\n",
       "      <td>tt0015864</td>\n",
       "      <td>The Gold Rush</td>\n",
       "      <td>A prospector goes to the Klondike during the 1...</td>\n",
       "      <td>5700</td>\n",
       "      <td>['Adventure', 'Comedy', 'Drama', 'Romance', 'W...</td>\n",
       "      <td>1925-08-16</td>\n",
       "      <td>United States</td>\n",
       "      <td>['Charles Chaplin', 'Mack Swain', 'Tom Murray']</td>\n",
       "      <td>['Charles Chaplin']</td>\n",
       "      <td>118269.0</td>\n",
       "      <td>8.1</td>\n",
       "      <td>5</td>\n",
       "      <td>3</td>\n",
       "    </tr>\n",
       "    <tr>\n",
       "      <th>2</th>\n",
       "      <td>3</td>\n",
       "      <td>3</td>\n",
       "      <td>tt0017925</td>\n",
       "      <td>The General</td>\n",
       "      <td>After being rejected by the Confederate milita...</td>\n",
       "      <td>4680</td>\n",
       "      <td>['Action', 'Adventure', 'Comedy', 'Drama', 'War']</td>\n",
       "      <td>1927-01-02</td>\n",
       "      <td>United States</td>\n",
       "      <td>['Buster Keaton', 'Marion Mack', 'Glen Cavender']</td>\n",
       "      <td>['Clyde Bruckman', 'Buster Keaton']</td>\n",
       "      <td>97815.0</td>\n",
       "      <td>8.1</td>\n",
       "      <td>2</td>\n",
       "      <td>1</td>\n",
       "    </tr>\n",
       "    <tr>\n",
       "      <th>3</th>\n",
       "      <td>4</td>\n",
       "      <td>4</td>\n",
       "      <td>tt0019109</td>\n",
       "      <td>Lonesome</td>\n",
       "      <td>Two lonely people in the big city meet and enj...</td>\n",
       "      <td>4140</td>\n",
       "      <td>['Comedy', 'Drama', 'Romance']</td>\n",
       "      <td>1928-11-22</td>\n",
       "      <td>Hungary</td>\n",
       "      <td>['Barbara Kent', 'Glenn Tryon', 'Fay Holderness']</td>\n",
       "      <td>['Pál Fejös']</td>\n",
       "      <td>2586.0</td>\n",
       "      <td>7.8</td>\n",
       "      <td>1</td>\n",
       "      <td>0</td>\n",
       "    </tr>\n",
       "    <tr>\n",
       "      <th>4</th>\n",
       "      <td>7</td>\n",
       "      <td>7</td>\n",
       "      <td>tt0021749</td>\n",
       "      <td>City Lights</td>\n",
       "      <td>With the aid of a wealthy erratic tippler, a d...</td>\n",
       "      <td>5220</td>\n",
       "      <td>['Comedy', 'Drama', 'Romance']</td>\n",
       "      <td>1931-03-07</td>\n",
       "      <td>United States</td>\n",
       "      <td>['Charles Chaplin', 'Virginia Cherrill', 'Flor...</td>\n",
       "      <td>['Charles Chaplin']</td>\n",
       "      <td>195359.0</td>\n",
       "      <td>8.5</td>\n",
       "      <td>4</td>\n",
       "      <td>0</td>\n",
       "    </tr>\n",
       "  </tbody>\n",
       "</table>\n",
       "</div>"
      ],
      "text/plain": [
       "   level_0  index   movie_id          title  \\\n",
       "0        0      0  tt0012349        The Kid   \n",
       "1        1      1  tt0015864  The Gold Rush   \n",
       "2        3      3  tt0017925    The General   \n",
       "3        4      4  tt0019109       Lonesome   \n",
       "4        7      7  tt0021749    City Lights   \n",
       "\n",
       "                                        introduction  runtimeSeconds  \\\n",
       "0  The Tramp cares for an abandoned child, but ev...            4080   \n",
       "1  A prospector goes to the Klondike during the 1...            5700   \n",
       "2  After being rejected by the Confederate milita...            4680   \n",
       "3  Two lonely people in the big city meet and enj...            4140   \n",
       "4  With the aid of a wealthy erratic tippler, a d...            5220   \n",
       "\n",
       "                                               genre releaseDate  \\\n",
       "0                      ['Comedy', 'Drama', 'Family']  1921-02-06   \n",
       "1  ['Adventure', 'Comedy', 'Drama', 'Romance', 'W...  1925-08-16   \n",
       "2  ['Action', 'Adventure', 'Comedy', 'Drama', 'War']  1927-01-02   \n",
       "3                     ['Comedy', 'Drama', 'Romance']  1928-11-22   \n",
       "4                     ['Comedy', 'Drama', 'Romance']  1931-03-07   \n",
       "\n",
       "  releaseLocation                                             actors  \\\n",
       "0   United States  ['Charles Chaplin', 'Edna Purviance', 'Jackie ...   \n",
       "1   United States    ['Charles Chaplin', 'Mack Swain', 'Tom Murray']   \n",
       "2   United States  ['Buster Keaton', 'Marion Mack', 'Glen Cavender']   \n",
       "3         Hungary  ['Barbara Kent', 'Glenn Tryon', 'Fay Holderness']   \n",
       "4   United States  ['Charles Chaplin', 'Virginia Cherrill', 'Flor...   \n",
       "\n",
       "                             directors  totalRatings  ratingStar  totalAwards  \\\n",
       "0                  ['Charles Chaplin']      134289.0         8.2            2   \n",
       "1                  ['Charles Chaplin']      118269.0         8.1            5   \n",
       "2  ['Clyde Bruckman', 'Buster Keaton']       97815.0         8.1            2   \n",
       "3                        ['Pál Fejös']        2586.0         7.8            1   \n",
       "4                  ['Charles Chaplin']      195359.0         8.5            4   \n",
       "\n",
       "   totalNominations  \n",
       "0                 0  \n",
       "1                 3  \n",
       "2                 1  \n",
       "3                 0  \n",
       "4                 0  "
      ]
     },
     "execution_count": 35,
     "metadata": {},
     "output_type": "execute_result"
    }
   ],
   "source": [
    "options = ['drama', 'comedy']\n",
    "for opt in options: \n",
    "    mask = genre_df['genre'].str.lower().str.contains(opt.lower())\n",
    "    genre_df = genre_df[mask].reset_index()\n",
    "\n",
    "genre_df.head()"
   ]
  },
  {
   "cell_type": "code",
   "execution_count": 36,
   "metadata": {},
   "outputs": [
    {
     "data": {
      "text/html": [
       "<div>\n",
       "<style scoped>\n",
       "    .dataframe tbody tr th:only-of-type {\n",
       "        vertical-align: middle;\n",
       "    }\n",
       "\n",
       "    .dataframe tbody tr th {\n",
       "        vertical-align: top;\n",
       "    }\n",
       "\n",
       "    .dataframe thead th {\n",
       "        text-align: right;\n",
       "    }\n",
       "</style>\n",
       "<table border=\"1\" class=\"dataframe\">\n",
       "  <thead>\n",
       "    <tr style=\"text-align: right;\">\n",
       "      <th></th>\n",
       "      <th>title</th>\n",
       "      <th>ratingStar</th>\n",
       "    </tr>\n",
       "  </thead>\n",
       "  <tbody>\n",
       "    <tr>\n",
       "      <th>65</th>\n",
       "      <td>Persona 5 Royal</td>\n",
       "      <td>9.5</td>\n",
       "    </tr>\n",
       "    <tr>\n",
       "      <th>167</th>\n",
       "      <td>Minecraft Epic</td>\n",
       "      <td>9.5</td>\n",
       "    </tr>\n",
       "    <tr>\n",
       "      <th>70</th>\n",
       "      <td>Persona 5</td>\n",
       "      <td>9.2</td>\n",
       "    </tr>\n",
       "    <tr>\n",
       "      <th>238</th>\n",
       "      <td>The Chaos Class</td>\n",
       "      <td>9.2</td>\n",
       "    </tr>\n",
       "    <tr>\n",
       "      <th>121</th>\n",
       "      <td>Wilford 'Motherloving' Warfstache</td>\n",
       "      <td>9.1</td>\n",
       "    </tr>\n",
       "    <tr>\n",
       "      <th>78</th>\n",
       "      <td>One Piece</td>\n",
       "      <td>9.0</td>\n",
       "    </tr>\n",
       "    <tr>\n",
       "      <th>66</th>\n",
       "      <td>Ted Lasso</td>\n",
       "      <td>8.8</td>\n",
       "    </tr>\n",
       "    <tr>\n",
       "      <th>30</th>\n",
       "      <td>Six Feet Under</td>\n",
       "      <td>8.7</td>\n",
       "    </tr>\n",
       "    <tr>\n",
       "      <th>262</th>\n",
       "      <td>The Boys</td>\n",
       "      <td>8.7</td>\n",
       "    </tr>\n",
       "    <tr>\n",
       "      <th>343</th>\n",
       "      <td>This Is Us</td>\n",
       "      <td>8.7</td>\n",
       "    </tr>\n",
       "  </tbody>\n",
       "</table>\n",
       "</div>"
      ],
      "text/plain": [
       "                                 title  ratingStar\n",
       "65                     Persona 5 Royal         9.5\n",
       "167                     Minecraft Epic         9.5\n",
       "70                           Persona 5         9.2\n",
       "238                    The Chaos Class         9.2\n",
       "121  Wilford 'Motherloving' Warfstache         9.1\n",
       "78                           One Piece         9.0\n",
       "66                           Ted Lasso         8.8\n",
       "30                      Six Feet Under         8.7\n",
       "262                           The Boys         8.7\n",
       "343                         This Is Us         8.7"
      ]
     },
     "execution_count": 36,
     "metadata": {},
     "output_type": "execute_result"
    }
   ],
   "source": [
    "genre_df = genre_df.sort_values(by='ratingStar',ascending=False)\n",
    "genre_df = genre_df[['title', 'ratingStar']]\n",
    "genre_df = genre_df[:10]\n",
    "genre_df"
   ]
  },
  {
   "cell_type": "code",
   "execution_count": 37,
   "metadata": {},
   "outputs": [],
   "source": [
    "# Plotting Matplotlib\n",
    "# plt.figure(figsize=(20, 8))\n",
    "# plt.bar(a_df['title'], a_df['ratingStar'], color='skyblue')\n",
    "# plt.xticks(rotation=45, ha='right')\n",
    "# plt.xlabel('Title',fontsize = 16)\n",
    "# plt.ylabel('Rating Star',fontsize = 16)\n",
    "# plt.title('Top 10 Drama Movies have the highest rating star')\n",
    "# plt.show()"
   ]
  },
  {
   "cell_type": "code",
   "execution_count": 38,
   "metadata": {},
   "outputs": [
    {
     "data": {
      "application/vnd.plotly.v1+json": {
       "config": {
        "plotlyServerURL": "https://plot.ly"
       },
       "data": [
        {
         "alignmentgroup": "True",
         "hovertemplate": "ratingStar=%{x}<br>title=%{y}<extra></extra>",
         "legendgroup": "",
         "marker": {
          "color": "gold",
          "pattern": {
           "shape": ""
          }
         },
         "name": "",
         "offsetgroup": "",
         "orientation": "h",
         "showlegend": false,
         "textposition": "auto",
         "type": "bar",
         "x": [
          9.5,
          9.5,
          9.2,
          9.2,
          9.1,
          9,
          8.8,
          8.7,
          8.7,
          8.7
         ],
         "xaxis": "x",
         "y": [
          "Persona 5 Royal",
          "Minecraft Epic",
          "Persona 5",
          "The Chaos Class",
          "Wilford 'Motherloving' Warfstache",
          "One Piece",
          "Ted Lasso",
          "Six Feet Under",
          "The Boys",
          "This Is Us"
         ],
         "yaxis": "y"
        }
       ],
       "layout": {
        "barmode": "relative",
        "legend": {
         "tracegroupgap": 0
        },
        "template": {
         "data": {
          "bar": [
           {
            "error_x": {
             "color": "#2a3f5f"
            },
            "error_y": {
             "color": "#2a3f5f"
            },
            "marker": {
             "line": {
              "color": "#E5ECF6",
              "width": 0.5
             },
             "pattern": {
              "fillmode": "overlay",
              "size": 10,
              "solidity": 0.2
             }
            },
            "type": "bar"
           }
          ],
          "barpolar": [
           {
            "marker": {
             "line": {
              "color": "#E5ECF6",
              "width": 0.5
             },
             "pattern": {
              "fillmode": "overlay",
              "size": 10,
              "solidity": 0.2
             }
            },
            "type": "barpolar"
           }
          ],
          "carpet": [
           {
            "aaxis": {
             "endlinecolor": "#2a3f5f",
             "gridcolor": "white",
             "linecolor": "white",
             "minorgridcolor": "white",
             "startlinecolor": "#2a3f5f"
            },
            "baxis": {
             "endlinecolor": "#2a3f5f",
             "gridcolor": "white",
             "linecolor": "white",
             "minorgridcolor": "white",
             "startlinecolor": "#2a3f5f"
            },
            "type": "carpet"
           }
          ],
          "choropleth": [
           {
            "colorbar": {
             "outlinewidth": 0,
             "ticks": ""
            },
            "type": "choropleth"
           }
          ],
          "contour": [
           {
            "colorbar": {
             "outlinewidth": 0,
             "ticks": ""
            },
            "colorscale": [
             [
              0,
              "#0d0887"
             ],
             [
              0.1111111111111111,
              "#46039f"
             ],
             [
              0.2222222222222222,
              "#7201a8"
             ],
             [
              0.3333333333333333,
              "#9c179e"
             ],
             [
              0.4444444444444444,
              "#bd3786"
             ],
             [
              0.5555555555555556,
              "#d8576b"
             ],
             [
              0.6666666666666666,
              "#ed7953"
             ],
             [
              0.7777777777777778,
              "#fb9f3a"
             ],
             [
              0.8888888888888888,
              "#fdca26"
             ],
             [
              1,
              "#f0f921"
             ]
            ],
            "type": "contour"
           }
          ],
          "contourcarpet": [
           {
            "colorbar": {
             "outlinewidth": 0,
             "ticks": ""
            },
            "type": "contourcarpet"
           }
          ],
          "heatmap": [
           {
            "colorbar": {
             "outlinewidth": 0,
             "ticks": ""
            },
            "colorscale": [
             [
              0,
              "#0d0887"
             ],
             [
              0.1111111111111111,
              "#46039f"
             ],
             [
              0.2222222222222222,
              "#7201a8"
             ],
             [
              0.3333333333333333,
              "#9c179e"
             ],
             [
              0.4444444444444444,
              "#bd3786"
             ],
             [
              0.5555555555555556,
              "#d8576b"
             ],
             [
              0.6666666666666666,
              "#ed7953"
             ],
             [
              0.7777777777777778,
              "#fb9f3a"
             ],
             [
              0.8888888888888888,
              "#fdca26"
             ],
             [
              1,
              "#f0f921"
             ]
            ],
            "type": "heatmap"
           }
          ],
          "heatmapgl": [
           {
            "colorbar": {
             "outlinewidth": 0,
             "ticks": ""
            },
            "colorscale": [
             [
              0,
              "#0d0887"
             ],
             [
              0.1111111111111111,
              "#46039f"
             ],
             [
              0.2222222222222222,
              "#7201a8"
             ],
             [
              0.3333333333333333,
              "#9c179e"
             ],
             [
              0.4444444444444444,
              "#bd3786"
             ],
             [
              0.5555555555555556,
              "#d8576b"
             ],
             [
              0.6666666666666666,
              "#ed7953"
             ],
             [
              0.7777777777777778,
              "#fb9f3a"
             ],
             [
              0.8888888888888888,
              "#fdca26"
             ],
             [
              1,
              "#f0f921"
             ]
            ],
            "type": "heatmapgl"
           }
          ],
          "histogram": [
           {
            "marker": {
             "pattern": {
              "fillmode": "overlay",
              "size": 10,
              "solidity": 0.2
             }
            },
            "type": "histogram"
           }
          ],
          "histogram2d": [
           {
            "colorbar": {
             "outlinewidth": 0,
             "ticks": ""
            },
            "colorscale": [
             [
              0,
              "#0d0887"
             ],
             [
              0.1111111111111111,
              "#46039f"
             ],
             [
              0.2222222222222222,
              "#7201a8"
             ],
             [
              0.3333333333333333,
              "#9c179e"
             ],
             [
              0.4444444444444444,
              "#bd3786"
             ],
             [
              0.5555555555555556,
              "#d8576b"
             ],
             [
              0.6666666666666666,
              "#ed7953"
             ],
             [
              0.7777777777777778,
              "#fb9f3a"
             ],
             [
              0.8888888888888888,
              "#fdca26"
             ],
             [
              1,
              "#f0f921"
             ]
            ],
            "type": "histogram2d"
           }
          ],
          "histogram2dcontour": [
           {
            "colorbar": {
             "outlinewidth": 0,
             "ticks": ""
            },
            "colorscale": [
             [
              0,
              "#0d0887"
             ],
             [
              0.1111111111111111,
              "#46039f"
             ],
             [
              0.2222222222222222,
              "#7201a8"
             ],
             [
              0.3333333333333333,
              "#9c179e"
             ],
             [
              0.4444444444444444,
              "#bd3786"
             ],
             [
              0.5555555555555556,
              "#d8576b"
             ],
             [
              0.6666666666666666,
              "#ed7953"
             ],
             [
              0.7777777777777778,
              "#fb9f3a"
             ],
             [
              0.8888888888888888,
              "#fdca26"
             ],
             [
              1,
              "#f0f921"
             ]
            ],
            "type": "histogram2dcontour"
           }
          ],
          "mesh3d": [
           {
            "colorbar": {
             "outlinewidth": 0,
             "ticks": ""
            },
            "type": "mesh3d"
           }
          ],
          "parcoords": [
           {
            "line": {
             "colorbar": {
              "outlinewidth": 0,
              "ticks": ""
             }
            },
            "type": "parcoords"
           }
          ],
          "pie": [
           {
            "automargin": true,
            "type": "pie"
           }
          ],
          "scatter": [
           {
            "marker": {
             "colorbar": {
              "outlinewidth": 0,
              "ticks": ""
             }
            },
            "type": "scatter"
           }
          ],
          "scatter3d": [
           {
            "line": {
             "colorbar": {
              "outlinewidth": 0,
              "ticks": ""
             }
            },
            "marker": {
             "colorbar": {
              "outlinewidth": 0,
              "ticks": ""
             }
            },
            "type": "scatter3d"
           }
          ],
          "scattercarpet": [
           {
            "marker": {
             "colorbar": {
              "outlinewidth": 0,
              "ticks": ""
             }
            },
            "type": "scattercarpet"
           }
          ],
          "scattergeo": [
           {
            "marker": {
             "colorbar": {
              "outlinewidth": 0,
              "ticks": ""
             }
            },
            "type": "scattergeo"
           }
          ],
          "scattergl": [
           {
            "marker": {
             "colorbar": {
              "outlinewidth": 0,
              "ticks": ""
             }
            },
            "type": "scattergl"
           }
          ],
          "scattermapbox": [
           {
            "marker": {
             "colorbar": {
              "outlinewidth": 0,
              "ticks": ""
             }
            },
            "type": "scattermapbox"
           }
          ],
          "scatterpolar": [
           {
            "marker": {
             "colorbar": {
              "outlinewidth": 0,
              "ticks": ""
             }
            },
            "type": "scatterpolar"
           }
          ],
          "scatterpolargl": [
           {
            "marker": {
             "colorbar": {
              "outlinewidth": 0,
              "ticks": ""
             }
            },
            "type": "scatterpolargl"
           }
          ],
          "scatterternary": [
           {
            "marker": {
             "colorbar": {
              "outlinewidth": 0,
              "ticks": ""
             }
            },
            "type": "scatterternary"
           }
          ],
          "surface": [
           {
            "colorbar": {
             "outlinewidth": 0,
             "ticks": ""
            },
            "colorscale": [
             [
              0,
              "#0d0887"
             ],
             [
              0.1111111111111111,
              "#46039f"
             ],
             [
              0.2222222222222222,
              "#7201a8"
             ],
             [
              0.3333333333333333,
              "#9c179e"
             ],
             [
              0.4444444444444444,
              "#bd3786"
             ],
             [
              0.5555555555555556,
              "#d8576b"
             ],
             [
              0.6666666666666666,
              "#ed7953"
             ],
             [
              0.7777777777777778,
              "#fb9f3a"
             ],
             [
              0.8888888888888888,
              "#fdca26"
             ],
             [
              1,
              "#f0f921"
             ]
            ],
            "type": "surface"
           }
          ],
          "table": [
           {
            "cells": {
             "fill": {
              "color": "#EBF0F8"
             },
             "line": {
              "color": "white"
             }
            },
            "header": {
             "fill": {
              "color": "#C8D4E3"
             },
             "line": {
              "color": "white"
             }
            },
            "type": "table"
           }
          ]
         },
         "layout": {
          "annotationdefaults": {
           "arrowcolor": "#2a3f5f",
           "arrowhead": 0,
           "arrowwidth": 1
          },
          "autotypenumbers": "strict",
          "coloraxis": {
           "colorbar": {
            "outlinewidth": 0,
            "ticks": ""
           }
          },
          "colorscale": {
           "diverging": [
            [
             0,
             "#8e0152"
            ],
            [
             0.1,
             "#c51b7d"
            ],
            [
             0.2,
             "#de77ae"
            ],
            [
             0.3,
             "#f1b6da"
            ],
            [
             0.4,
             "#fde0ef"
            ],
            [
             0.5,
             "#f7f7f7"
            ],
            [
             0.6,
             "#e6f5d0"
            ],
            [
             0.7,
             "#b8e186"
            ],
            [
             0.8,
             "#7fbc41"
            ],
            [
             0.9,
             "#4d9221"
            ],
            [
             1,
             "#276419"
            ]
           ],
           "sequential": [
            [
             0,
             "#0d0887"
            ],
            [
             0.1111111111111111,
             "#46039f"
            ],
            [
             0.2222222222222222,
             "#7201a8"
            ],
            [
             0.3333333333333333,
             "#9c179e"
            ],
            [
             0.4444444444444444,
             "#bd3786"
            ],
            [
             0.5555555555555556,
             "#d8576b"
            ],
            [
             0.6666666666666666,
             "#ed7953"
            ],
            [
             0.7777777777777778,
             "#fb9f3a"
            ],
            [
             0.8888888888888888,
             "#fdca26"
            ],
            [
             1,
             "#f0f921"
            ]
           ],
           "sequentialminus": [
            [
             0,
             "#0d0887"
            ],
            [
             0.1111111111111111,
             "#46039f"
            ],
            [
             0.2222222222222222,
             "#7201a8"
            ],
            [
             0.3333333333333333,
             "#9c179e"
            ],
            [
             0.4444444444444444,
             "#bd3786"
            ],
            [
             0.5555555555555556,
             "#d8576b"
            ],
            [
             0.6666666666666666,
             "#ed7953"
            ],
            [
             0.7777777777777778,
             "#fb9f3a"
            ],
            [
             0.8888888888888888,
             "#fdca26"
            ],
            [
             1,
             "#f0f921"
            ]
           ]
          },
          "colorway": [
           "#636efa",
           "#EF553B",
           "#00cc96",
           "#ab63fa",
           "#FFA15A",
           "#19d3f3",
           "#FF6692",
           "#B6E880",
           "#FF97FF",
           "#FECB52"
          ],
          "font": {
           "color": "#2a3f5f"
          },
          "geo": {
           "bgcolor": "white",
           "lakecolor": "white",
           "landcolor": "#E5ECF6",
           "showlakes": true,
           "showland": true,
           "subunitcolor": "white"
          },
          "hoverlabel": {
           "align": "left"
          },
          "hovermode": "closest",
          "mapbox": {
           "style": "light"
          },
          "paper_bgcolor": "white",
          "plot_bgcolor": "#E5ECF6",
          "polar": {
           "angularaxis": {
            "gridcolor": "white",
            "linecolor": "white",
            "ticks": ""
           },
           "bgcolor": "#E5ECF6",
           "radialaxis": {
            "gridcolor": "white",
            "linecolor": "white",
            "ticks": ""
           }
          },
          "scene": {
           "xaxis": {
            "backgroundcolor": "#E5ECF6",
            "gridcolor": "white",
            "gridwidth": 2,
            "linecolor": "white",
            "showbackground": true,
            "ticks": "",
            "zerolinecolor": "white"
           },
           "yaxis": {
            "backgroundcolor": "#E5ECF6",
            "gridcolor": "white",
            "gridwidth": 2,
            "linecolor": "white",
            "showbackground": true,
            "ticks": "",
            "zerolinecolor": "white"
           },
           "zaxis": {
            "backgroundcolor": "#E5ECF6",
            "gridcolor": "white",
            "gridwidth": 2,
            "linecolor": "white",
            "showbackground": true,
            "ticks": "",
            "zerolinecolor": "white"
           }
          },
          "shapedefaults": {
           "line": {
            "color": "#2a3f5f"
           }
          },
          "ternary": {
           "aaxis": {
            "gridcolor": "white",
            "linecolor": "white",
            "ticks": ""
           },
           "baxis": {
            "gridcolor": "white",
            "linecolor": "white",
            "ticks": ""
           },
           "bgcolor": "#E5ECF6",
           "caxis": {
            "gridcolor": "white",
            "linecolor": "white",
            "ticks": ""
           }
          },
          "title": {
           "x": 0.05
          },
          "xaxis": {
           "automargin": true,
           "gridcolor": "white",
           "linecolor": "white",
           "ticks": "",
           "title": {
            "standoff": 15
           },
           "zerolinecolor": "white",
           "zerolinewidth": 2
          },
          "yaxis": {
           "automargin": true,
           "gridcolor": "white",
           "linecolor": "white",
           "ticks": "",
           "title": {
            "standoff": 15
           },
           "zerolinecolor": "white",
           "zerolinewidth": 2
          }
         }
        },
        "title": {
         "text": "Top 10 film drama have the highest average rating star"
        },
        "xaxis": {
         "anchor": "y",
         "domain": [
          0,
          1
         ],
         "title": {
          "text": "ratingStar"
         }
        },
        "yaxis": {
         "anchor": "x",
         "domain": [
          0,
          1
         ],
         "title": {
          "text": "title"
         }
        }
       }
      }
     },
     "metadata": {},
     "output_type": "display_data"
    }
   ],
   "source": [
    "# Plotting Plotly\n",
    "# Vẽ biểu đồ\n",
    "fig = px.bar(genre_df, x='ratingStar', y='title', orientation='h', title='Top 10 film drama have the highest average rating star', color_discrete_sequence=['gold'])\n",
    "fig.show()"
   ]
  },
  {
   "cell_type": "markdown",
   "metadata": {},
   "source": [
    "##### **Function:**"
   ]
  },
  {
   "cell_type": "code",
   "execution_count": 39,
   "metadata": {},
   "outputs": [],
   "source": [
    "def rs_genre(df, options):\n",
    "    genre_df = df.copy()\n",
    "    genre_df['genre'] = genre_df['genre'].astype(str)\n",
    "    \n",
    "    for opt in options: \n",
    "        mask = genre_df['genre'].str.lower().str.contains(opt.lower())\n",
    "        genre_df = genre_df[mask].reset_index()\n",
    "\n",
    "    genre_df = genre_df.sort_values(by='ratingStar',ascending=False)\n",
    "    genre_df = genre_df[['movie_id', 'title', 'ratingStar']]\n",
    "    genre_df = genre_df[:10]\n",
    "\n",
    "    # fig = px.bar(genre_df, x='ratingStar', y='title', orientation='h', title='Top 10 film drama have the highest average rating star', color_discrete_sequence=['gold'])\n",
    "    # fig.show()  \n",
    "\n",
    "    return genre_df[['movie_id', 'title', 'ratingStar']] "
   ]
  },
  {
   "cell_type": "code",
   "execution_count": 40,
   "metadata": {},
   "outputs": [
    {
     "data": {
      "text/html": [
       "<div>\n",
       "<style scoped>\n",
       "    .dataframe tbody tr th:only-of-type {\n",
       "        vertical-align: middle;\n",
       "    }\n",
       "\n",
       "    .dataframe tbody tr th {\n",
       "        vertical-align: top;\n",
       "    }\n",
       "\n",
       "    .dataframe thead th {\n",
       "        text-align: right;\n",
       "    }\n",
       "</style>\n",
       "<table border=\"1\" class=\"dataframe\">\n",
       "  <thead>\n",
       "    <tr style=\"text-align: right;\">\n",
       "      <th></th>\n",
       "      <th>movie_id</th>\n",
       "      <th>title</th>\n",
       "      <th>ratingStar</th>\n",
       "    </tr>\n",
       "  </thead>\n",
       "  <tbody>\n",
       "    <tr>\n",
       "      <th>65</th>\n",
       "      <td>tt10468596</td>\n",
       "      <td>Persona 5 Royal</td>\n",
       "      <td>9.5</td>\n",
       "    </tr>\n",
       "    <tr>\n",
       "      <th>167</th>\n",
       "      <td>tt10680606</td>\n",
       "      <td>Minecraft Epic</td>\n",
       "      <td>9.5</td>\n",
       "    </tr>\n",
       "    <tr>\n",
       "      <th>70</th>\n",
       "      <td>tt3944082</td>\n",
       "      <td>Persona 5</td>\n",
       "      <td>9.2</td>\n",
       "    </tr>\n",
       "    <tr>\n",
       "      <th>238</th>\n",
       "      <td>tt0252487</td>\n",
       "      <td>The Chaos Class</td>\n",
       "      <td>9.2</td>\n",
       "    </tr>\n",
       "    <tr>\n",
       "      <th>121</th>\n",
       "      <td>tt9357776</td>\n",
       "      <td>Wilford 'Motherloving' Warfstache</td>\n",
       "      <td>9.1</td>\n",
       "    </tr>\n",
       "    <tr>\n",
       "      <th>78</th>\n",
       "      <td>tt0388629</td>\n",
       "      <td>One Piece</td>\n",
       "      <td>9.0</td>\n",
       "    </tr>\n",
       "    <tr>\n",
       "      <th>66</th>\n",
       "      <td>tt10986410</td>\n",
       "      <td>Ted Lasso</td>\n",
       "      <td>8.8</td>\n",
       "    </tr>\n",
       "    <tr>\n",
       "      <th>30</th>\n",
       "      <td>tt0248654</td>\n",
       "      <td>Six Feet Under</td>\n",
       "      <td>8.7</td>\n",
       "    </tr>\n",
       "    <tr>\n",
       "      <th>262</th>\n",
       "      <td>tt1190634</td>\n",
       "      <td>The Boys</td>\n",
       "      <td>8.7</td>\n",
       "    </tr>\n",
       "    <tr>\n",
       "      <th>343</th>\n",
       "      <td>tt5555260</td>\n",
       "      <td>This Is Us</td>\n",
       "      <td>8.7</td>\n",
       "    </tr>\n",
       "  </tbody>\n",
       "</table>\n",
       "</div>"
      ],
      "text/plain": [
       "       movie_id                              title  ratingStar\n",
       "65   tt10468596                    Persona 5 Royal         9.5\n",
       "167  tt10680606                     Minecraft Epic         9.5\n",
       "70    tt3944082                          Persona 5         9.2\n",
       "238   tt0252487                    The Chaos Class         9.2\n",
       "121   tt9357776  Wilford 'Motherloving' Warfstache         9.1\n",
       "78    tt0388629                          One Piece         9.0\n",
       "66   tt10986410                          Ted Lasso         8.8\n",
       "30    tt0248654                     Six Feet Under         8.7\n",
       "262   tt1190634                           The Boys         8.7\n",
       "343   tt5555260                         This Is Us         8.7"
      ]
     },
     "execution_count": 40,
     "metadata": {},
     "output_type": "execute_result"
    }
   ],
   "source": [
    "# Test\n",
    "df = mi_df.copy()\n",
    "rs_genre(df, ['comedy', 'drama'])"
   ]
  },
  {
   "cell_type": "markdown",
   "metadata": {},
   "source": [
    "#### **4.2. Hệ thống gợi ý: Advanced search**"
   ]
  },
  {
   "cell_type": "code",
   "execution_count": 41,
   "metadata": {},
   "outputs": [],
   "source": [
    "as_df = mi_df.copy()"
   ]
  },
  {
   "cell_type": "code",
   "execution_count": 42,
   "metadata": {},
   "outputs": [
    {
     "data": {
      "text/plain": [
       "Index(['movie_id', 'title', 'introduction', 'runtimeSeconds', 'genre',\n",
       "       'releaseDate', 'releaseLocation', 'actors', 'directors', 'totalRatings',\n",
       "       'ratingStar', 'totalAwards', 'totalNominations'],\n",
       "      dtype='object')"
      ]
     },
     "execution_count": 42,
     "metadata": {},
     "output_type": "execute_result"
    }
   ],
   "source": [
    "as_df.columns"
   ]
  },
  {
   "cell_type": "markdown",
   "metadata": {},
   "source": [
    "##### **Visualize:**"
   ]
  },
  {
   "cell_type": "code",
   "execution_count": 79,
   "metadata": {},
   "outputs": [],
   "source": [
    "options = {\n",
    "    'title': \"o\",\n",
    "    'genre': [\"drama\", \"comedy\"],\n",
    "    'actors': \"\", \n",
    "    'directors': \"\",\n",
    "    'releaseLocation': \"u\", \n",
    "    'releaseDate': '06-1920',\n",
    "    'ratingStar': 9\n",
    "}"
   ]
  },
  {
   "cell_type": "code",
   "execution_count": 80,
   "metadata": {},
   "outputs": [],
   "source": [
    "as_df = mi_df.copy()\n",
    "as_df['genre'] = as_df['genre'].astype(str)\n",
    "as_df['actors'] = as_df['actors'].astype(str)\n",
    "as_df['directors'] = as_df['directors'].astype(str)\n",
    "\n",
    "for idx in options.keys():\n",
    "    ### Filter:\n",
    "    if (idx == 'title'):\n",
    "        if options[idx] != \"\":\n",
    "            mask = as_df['title'].str.lower().str.contains(options['title'].lower())\n",
    "            as_df = as_df[mask]\n",
    "\n",
    "    if (idx == 'genre'):\n",
    "        if options[idx]: \n",
    "            for opt in options[idx]:\n",
    "                mask = as_df['genre'].str.lower().str.contains(opt.lower())\n",
    "                as_df = as_df[mask]\n",
    "\n",
    "    if (idx == 'actors'):\n",
    "        if options[idx] != \"\":\n",
    "            mask = as_df['actors'].str.lower().str.contains(options['actors'].lower())\n",
    "            as_df = as_df[mask]\n",
    "    \n",
    "    if (idx == 'directors'):\n",
    "        if options[idx] != \"\":\n",
    "            mask = as_df['directors'].str.lower().str.contains(options['directors'].lower())\n",
    "            as_df = as_df[mask]\n",
    "\n",
    "    if (idx == 'releaseLocation'):\n",
    "        if options[idx] != \"\":\n",
    "            mask = as_df['releaseLocation'].str.lower().str.contains(options['releaseLocation'].lower())\n",
    "            as_df = as_df[mask]\n",
    "\n",
    "    ### Sort By:\n",
    "    if (idx == 'releaseDate'):\n",
    "            if options[idx] != \"\": \n",
    "                mask = as_df['releaseDate'] >= options[idx]\n",
    "                as_df = as_df[mask]\n",
    "                as_df = as_df.sort_values(by='releaseDate',ascending=False)\n",
    "                \n",
    "    if (idx == 'ratingStar'):\n",
    "            if options[idx] != \"\": \n",
    "                mask = as_df['ratingStar'] >= options[idx]\n",
    "                as_df = as_df[mask]\n",
    "                as_df = as_df.sort_values(by='ratingStar',ascending=False)\n",
    "    \n",
    "\n"
   ]
  },
  {
   "cell_type": "code",
   "execution_count": 81,
   "metadata": {},
   "outputs": [
    {
     "data": {
      "application/vnd.plotly.v1+json": {
       "config": {
        "plotlyServerURL": "https://plot.ly"
       },
       "data": [
        {
         "alignmentgroup": "True",
         "hovertemplate": "ratingStar=%{x}<br>title=%{y}<extra></extra>",
         "legendgroup": "",
         "marker": {
          "color": "gold",
          "pattern": {
           "shape": ""
          }
         },
         "name": "",
         "offsetgroup": "",
         "orientation": "h",
         "showlegend": false,
         "textposition": "auto",
         "type": "bar",
         "x": [
          9.5,
          9.2,
          9.2,
          9.1,
          9
         ],
         "xaxis": "x",
         "y": [
          "Persona 5 Royal",
          "Persona 5",
          "The Chaos Class",
          "Wilford 'Motherloving' Warfstache",
          "One Piece"
         ],
         "yaxis": "y"
        }
       ],
       "layout": {
        "annotations": [
         {
          "showarrow": false,
          "text": "<b>Thông tin phim:</b><br><b>Title:</b> o<br><b>Genre:</b> ['drama', 'comedy']<br><b>Actors:</b> <br><b>Directors:</b> <br><b>Releaselocation:</b> u<br><b>Releasedate:</b> 06-1920<br><b>Ratingstar:</b> 9<br>",
          "x": 0.5,
          "xref": "paper",
          "y": 0.5,
          "yref": "paper"
         }
        ],
        "barmode": "relative",
        "legend": {
         "tracegroupgap": 0
        },
        "template": {
         "data": {
          "bar": [
           {
            "error_x": {
             "color": "#2a3f5f"
            },
            "error_y": {
             "color": "#2a3f5f"
            },
            "marker": {
             "line": {
              "color": "#E5ECF6",
              "width": 0.5
             },
             "pattern": {
              "fillmode": "overlay",
              "size": 10,
              "solidity": 0.2
             }
            },
            "type": "bar"
           }
          ],
          "barpolar": [
           {
            "marker": {
             "line": {
              "color": "#E5ECF6",
              "width": 0.5
             },
             "pattern": {
              "fillmode": "overlay",
              "size": 10,
              "solidity": 0.2
             }
            },
            "type": "barpolar"
           }
          ],
          "carpet": [
           {
            "aaxis": {
             "endlinecolor": "#2a3f5f",
             "gridcolor": "white",
             "linecolor": "white",
             "minorgridcolor": "white",
             "startlinecolor": "#2a3f5f"
            },
            "baxis": {
             "endlinecolor": "#2a3f5f",
             "gridcolor": "white",
             "linecolor": "white",
             "minorgridcolor": "white",
             "startlinecolor": "#2a3f5f"
            },
            "type": "carpet"
           }
          ],
          "choropleth": [
           {
            "colorbar": {
             "outlinewidth": 0,
             "ticks": ""
            },
            "type": "choropleth"
           }
          ],
          "contour": [
           {
            "colorbar": {
             "outlinewidth": 0,
             "ticks": ""
            },
            "colorscale": [
             [
              0,
              "#0d0887"
             ],
             [
              0.1111111111111111,
              "#46039f"
             ],
             [
              0.2222222222222222,
              "#7201a8"
             ],
             [
              0.3333333333333333,
              "#9c179e"
             ],
             [
              0.4444444444444444,
              "#bd3786"
             ],
             [
              0.5555555555555556,
              "#d8576b"
             ],
             [
              0.6666666666666666,
              "#ed7953"
             ],
             [
              0.7777777777777778,
              "#fb9f3a"
             ],
             [
              0.8888888888888888,
              "#fdca26"
             ],
             [
              1,
              "#f0f921"
             ]
            ],
            "type": "contour"
           }
          ],
          "contourcarpet": [
           {
            "colorbar": {
             "outlinewidth": 0,
             "ticks": ""
            },
            "type": "contourcarpet"
           }
          ],
          "heatmap": [
           {
            "colorbar": {
             "outlinewidth": 0,
             "ticks": ""
            },
            "colorscale": [
             [
              0,
              "#0d0887"
             ],
             [
              0.1111111111111111,
              "#46039f"
             ],
             [
              0.2222222222222222,
              "#7201a8"
             ],
             [
              0.3333333333333333,
              "#9c179e"
             ],
             [
              0.4444444444444444,
              "#bd3786"
             ],
             [
              0.5555555555555556,
              "#d8576b"
             ],
             [
              0.6666666666666666,
              "#ed7953"
             ],
             [
              0.7777777777777778,
              "#fb9f3a"
             ],
             [
              0.8888888888888888,
              "#fdca26"
             ],
             [
              1,
              "#f0f921"
             ]
            ],
            "type": "heatmap"
           }
          ],
          "heatmapgl": [
           {
            "colorbar": {
             "outlinewidth": 0,
             "ticks": ""
            },
            "colorscale": [
             [
              0,
              "#0d0887"
             ],
             [
              0.1111111111111111,
              "#46039f"
             ],
             [
              0.2222222222222222,
              "#7201a8"
             ],
             [
              0.3333333333333333,
              "#9c179e"
             ],
             [
              0.4444444444444444,
              "#bd3786"
             ],
             [
              0.5555555555555556,
              "#d8576b"
             ],
             [
              0.6666666666666666,
              "#ed7953"
             ],
             [
              0.7777777777777778,
              "#fb9f3a"
             ],
             [
              0.8888888888888888,
              "#fdca26"
             ],
             [
              1,
              "#f0f921"
             ]
            ],
            "type": "heatmapgl"
           }
          ],
          "histogram": [
           {
            "marker": {
             "pattern": {
              "fillmode": "overlay",
              "size": 10,
              "solidity": 0.2
             }
            },
            "type": "histogram"
           }
          ],
          "histogram2d": [
           {
            "colorbar": {
             "outlinewidth": 0,
             "ticks": ""
            },
            "colorscale": [
             [
              0,
              "#0d0887"
             ],
             [
              0.1111111111111111,
              "#46039f"
             ],
             [
              0.2222222222222222,
              "#7201a8"
             ],
             [
              0.3333333333333333,
              "#9c179e"
             ],
             [
              0.4444444444444444,
              "#bd3786"
             ],
             [
              0.5555555555555556,
              "#d8576b"
             ],
             [
              0.6666666666666666,
              "#ed7953"
             ],
             [
              0.7777777777777778,
              "#fb9f3a"
             ],
             [
              0.8888888888888888,
              "#fdca26"
             ],
             [
              1,
              "#f0f921"
             ]
            ],
            "type": "histogram2d"
           }
          ],
          "histogram2dcontour": [
           {
            "colorbar": {
             "outlinewidth": 0,
             "ticks": ""
            },
            "colorscale": [
             [
              0,
              "#0d0887"
             ],
             [
              0.1111111111111111,
              "#46039f"
             ],
             [
              0.2222222222222222,
              "#7201a8"
             ],
             [
              0.3333333333333333,
              "#9c179e"
             ],
             [
              0.4444444444444444,
              "#bd3786"
             ],
             [
              0.5555555555555556,
              "#d8576b"
             ],
             [
              0.6666666666666666,
              "#ed7953"
             ],
             [
              0.7777777777777778,
              "#fb9f3a"
             ],
             [
              0.8888888888888888,
              "#fdca26"
             ],
             [
              1,
              "#f0f921"
             ]
            ],
            "type": "histogram2dcontour"
           }
          ],
          "mesh3d": [
           {
            "colorbar": {
             "outlinewidth": 0,
             "ticks": ""
            },
            "type": "mesh3d"
           }
          ],
          "parcoords": [
           {
            "line": {
             "colorbar": {
              "outlinewidth": 0,
              "ticks": ""
             }
            },
            "type": "parcoords"
           }
          ],
          "pie": [
           {
            "automargin": true,
            "type": "pie"
           }
          ],
          "scatter": [
           {
            "marker": {
             "colorbar": {
              "outlinewidth": 0,
              "ticks": ""
             }
            },
            "type": "scatter"
           }
          ],
          "scatter3d": [
           {
            "line": {
             "colorbar": {
              "outlinewidth": 0,
              "ticks": ""
             }
            },
            "marker": {
             "colorbar": {
              "outlinewidth": 0,
              "ticks": ""
             }
            },
            "type": "scatter3d"
           }
          ],
          "scattercarpet": [
           {
            "marker": {
             "colorbar": {
              "outlinewidth": 0,
              "ticks": ""
             }
            },
            "type": "scattercarpet"
           }
          ],
          "scattergeo": [
           {
            "marker": {
             "colorbar": {
              "outlinewidth": 0,
              "ticks": ""
             }
            },
            "type": "scattergeo"
           }
          ],
          "scattergl": [
           {
            "marker": {
             "colorbar": {
              "outlinewidth": 0,
              "ticks": ""
             }
            },
            "type": "scattergl"
           }
          ],
          "scattermapbox": [
           {
            "marker": {
             "colorbar": {
              "outlinewidth": 0,
              "ticks": ""
             }
            },
            "type": "scattermapbox"
           }
          ],
          "scatterpolar": [
           {
            "marker": {
             "colorbar": {
              "outlinewidth": 0,
              "ticks": ""
             }
            },
            "type": "scatterpolar"
           }
          ],
          "scatterpolargl": [
           {
            "marker": {
             "colorbar": {
              "outlinewidth": 0,
              "ticks": ""
             }
            },
            "type": "scatterpolargl"
           }
          ],
          "scatterternary": [
           {
            "marker": {
             "colorbar": {
              "outlinewidth": 0,
              "ticks": ""
             }
            },
            "type": "scatterternary"
           }
          ],
          "surface": [
           {
            "colorbar": {
             "outlinewidth": 0,
             "ticks": ""
            },
            "colorscale": [
             [
              0,
              "#0d0887"
             ],
             [
              0.1111111111111111,
              "#46039f"
             ],
             [
              0.2222222222222222,
              "#7201a8"
             ],
             [
              0.3333333333333333,
              "#9c179e"
             ],
             [
              0.4444444444444444,
              "#bd3786"
             ],
             [
              0.5555555555555556,
              "#d8576b"
             ],
             [
              0.6666666666666666,
              "#ed7953"
             ],
             [
              0.7777777777777778,
              "#fb9f3a"
             ],
             [
              0.8888888888888888,
              "#fdca26"
             ],
             [
              1,
              "#f0f921"
             ]
            ],
            "type": "surface"
           }
          ],
          "table": [
           {
            "cells": {
             "fill": {
              "color": "#EBF0F8"
             },
             "line": {
              "color": "white"
             }
            },
            "header": {
             "fill": {
              "color": "#C8D4E3"
             },
             "line": {
              "color": "white"
             }
            },
            "type": "table"
           }
          ]
         },
         "layout": {
          "annotationdefaults": {
           "arrowcolor": "#2a3f5f",
           "arrowhead": 0,
           "arrowwidth": 1
          },
          "autotypenumbers": "strict",
          "coloraxis": {
           "colorbar": {
            "outlinewidth": 0,
            "ticks": ""
           }
          },
          "colorscale": {
           "diverging": [
            [
             0,
             "#8e0152"
            ],
            [
             0.1,
             "#c51b7d"
            ],
            [
             0.2,
             "#de77ae"
            ],
            [
             0.3,
             "#f1b6da"
            ],
            [
             0.4,
             "#fde0ef"
            ],
            [
             0.5,
             "#f7f7f7"
            ],
            [
             0.6,
             "#e6f5d0"
            ],
            [
             0.7,
             "#b8e186"
            ],
            [
             0.8,
             "#7fbc41"
            ],
            [
             0.9,
             "#4d9221"
            ],
            [
             1,
             "#276419"
            ]
           ],
           "sequential": [
            [
             0,
             "#0d0887"
            ],
            [
             0.1111111111111111,
             "#46039f"
            ],
            [
             0.2222222222222222,
             "#7201a8"
            ],
            [
             0.3333333333333333,
             "#9c179e"
            ],
            [
             0.4444444444444444,
             "#bd3786"
            ],
            [
             0.5555555555555556,
             "#d8576b"
            ],
            [
             0.6666666666666666,
             "#ed7953"
            ],
            [
             0.7777777777777778,
             "#fb9f3a"
            ],
            [
             0.8888888888888888,
             "#fdca26"
            ],
            [
             1,
             "#f0f921"
            ]
           ],
           "sequentialminus": [
            [
             0,
             "#0d0887"
            ],
            [
             0.1111111111111111,
             "#46039f"
            ],
            [
             0.2222222222222222,
             "#7201a8"
            ],
            [
             0.3333333333333333,
             "#9c179e"
            ],
            [
             0.4444444444444444,
             "#bd3786"
            ],
            [
             0.5555555555555556,
             "#d8576b"
            ],
            [
             0.6666666666666666,
             "#ed7953"
            ],
            [
             0.7777777777777778,
             "#fb9f3a"
            ],
            [
             0.8888888888888888,
             "#fdca26"
            ],
            [
             1,
             "#f0f921"
            ]
           ]
          },
          "colorway": [
           "#636efa",
           "#EF553B",
           "#00cc96",
           "#ab63fa",
           "#FFA15A",
           "#19d3f3",
           "#FF6692",
           "#B6E880",
           "#FF97FF",
           "#FECB52"
          ],
          "font": {
           "color": "#2a3f5f"
          },
          "geo": {
           "bgcolor": "white",
           "lakecolor": "white",
           "landcolor": "#E5ECF6",
           "showlakes": true,
           "showland": true,
           "subunitcolor": "white"
          },
          "hoverlabel": {
           "align": "left"
          },
          "hovermode": "closest",
          "mapbox": {
           "style": "light"
          },
          "paper_bgcolor": "white",
          "plot_bgcolor": "#E5ECF6",
          "polar": {
           "angularaxis": {
            "gridcolor": "white",
            "linecolor": "white",
            "ticks": ""
           },
           "bgcolor": "#E5ECF6",
           "radialaxis": {
            "gridcolor": "white",
            "linecolor": "white",
            "ticks": ""
           }
          },
          "scene": {
           "xaxis": {
            "backgroundcolor": "#E5ECF6",
            "gridcolor": "white",
            "gridwidth": 2,
            "linecolor": "white",
            "showbackground": true,
            "ticks": "",
            "zerolinecolor": "white"
           },
           "yaxis": {
            "backgroundcolor": "#E5ECF6",
            "gridcolor": "white",
            "gridwidth": 2,
            "linecolor": "white",
            "showbackground": true,
            "ticks": "",
            "zerolinecolor": "white"
           },
           "zaxis": {
            "backgroundcolor": "#E5ECF6",
            "gridcolor": "white",
            "gridwidth": 2,
            "linecolor": "white",
            "showbackground": true,
            "ticks": "",
            "zerolinecolor": "white"
           }
          },
          "shapedefaults": {
           "line": {
            "color": "#2a3f5f"
           }
          },
          "ternary": {
           "aaxis": {
            "gridcolor": "white",
            "linecolor": "white",
            "ticks": ""
           },
           "baxis": {
            "gridcolor": "white",
            "linecolor": "white",
            "ticks": ""
           },
           "bgcolor": "#E5ECF6",
           "caxis": {
            "gridcolor": "white",
            "linecolor": "white",
            "ticks": ""
           }
          },
          "title": {
           "x": 0.05
          },
          "xaxis": {
           "automargin": true,
           "gridcolor": "white",
           "linecolor": "white",
           "ticks": "",
           "title": {
            "standoff": 15
           },
           "zerolinecolor": "white",
           "zerolinewidth": 2
          },
          "yaxis": {
           "automargin": true,
           "gridcolor": "white",
           "linecolor": "white",
           "ticks": "",
           "title": {
            "standoff": 15
           },
           "zerolinecolor": "white",
           "zerolinewidth": 2
          }
         }
        },
        "title": {
         "text": "Top 10 film have the highest average rating star"
        },
        "xaxis": {
         "anchor": "y",
         "domain": [
          0,
          1
         ],
         "title": {
          "text": "ratingStar"
         }
        },
        "yaxis": {
         "anchor": "x",
         "domain": [
          0,
          1
         ],
         "title": {
          "text": "title"
         }
        }
       }
      }
     },
     "metadata": {},
     "output_type": "display_data"
    }
   ],
   "source": [
    "# Plotting Plotly\n",
    "# Vẽ biểu đồ\n",
    "fig = px.bar(as_df, x='ratingStar', y='title', orientation='h', title='Top 10 film have the highest average rating star', color_discrete_sequence=['gold'])\n",
    "# Tạo chuỗi chú thích từ dictionary\n",
    "annotation_text = \"<b>Thông tin phim:</b><br>\"\n",
    "for key, value in options.items():\n",
    "    annotation_text += f\"<b>{key.capitalize()}:</b> {value}<br>\"\n",
    "\n",
    "# Thiết lập chú thích\n",
    "fig.update_layout(\n",
    "    annotations=[\n",
    "        dict(\n",
    "            x=0.5,\n",
    "            y=0.5,\n",
    "            xref=\"paper\",\n",
    "            yref=\"paper\",\n",
    "            text=annotation_text,\n",
    "            showarrow=False\n",
    "        )\n",
    "    ]\n",
    ")\n",
    "fig.show()"
   ]
  },
  {
   "cell_type": "markdown",
   "metadata": {},
   "source": [
    "##### **Function:**"
   ]
  },
  {
   "cell_type": "code",
   "execution_count": 71,
   "metadata": {},
   "outputs": [],
   "source": [
    "def rs_asearch(df, options):\n",
    "    as_df = df.copy()\n",
    "    as_df['genre'] = as_df['genre'].astype(str)\n",
    "    as_df['actors'] = as_df['actors'].astype(str)\n",
    "    as_df['directors'] = as_df['directors'].astype(str)\n",
    "    \n",
    "    for idx in options.keys():\n",
    "        ### Filter:\n",
    "        if (idx == 'title'):\n",
    "            if options[idx] != \"\":\n",
    "                mask = as_df['title'].str.lower().str.contains(options['title'].lower())\n",
    "                as_df = as_df[mask]\n",
    "\n",
    "        if (idx == 'genre'):\n",
    "            if options[idx]: \n",
    "                for opt in options[idx]:\n",
    "                    mask = as_df['genre'].str.lower().str.contains(opt.lower())\n",
    "                    as_df = as_df[mask]\n",
    "\n",
    "        if (idx == 'actors'):\n",
    "            if options[idx] != \"\":\n",
    "                mask = as_df['actors'].str.lower().str.contains(options['actors'].lower())\n",
    "                as_df = as_df[mask]\n",
    "        \n",
    "        if (idx == 'directors'):\n",
    "            if options[idx] != \"\":\n",
    "                mask = as_df['directors'].str.lower().str.contains(options['directors'].lower())\n",
    "                as_df = as_df[mask]\n",
    "\n",
    "        if (idx == 'releaseLocation'):\n",
    "            if options[idx] != \"\":\n",
    "                mask = as_df['releaseLocation'].str.lower().str.contains(options['releaseLocation'].lower())\n",
    "                as_df = as_df[mask]\n",
    "\n",
    "        ### Sort By:\n",
    "        if (idx == 'releaseDate'):\n",
    "                if options[idx] != \"\": \n",
    "                    mask = as_df['releaseDate'] >= options[idx]\n",
    "                    as_df = as_df[mask]\n",
    "                    as_df = as_df.sort_values(by='releaseDate',ascending=False)\n",
    "                    \n",
    "        if (idx == 'ratingStar'):\n",
    "                if options[idx] != \"\": \n",
    "                    mask = as_df['ratingStar'] >= options[idx]\n",
    "                    as_df = as_df[mask]\n",
    "                    as_df = as_df.sort_values(by='ratingStar',ascending=False)\n",
    "\n",
    "    return as_df"
   ]
  },
  {
   "cell_type": "code",
   "execution_count": 72,
   "metadata": {},
   "outputs": [
    {
     "data": {
      "text/html": [
       "<div>\n",
       "<style scoped>\n",
       "    .dataframe tbody tr th:only-of-type {\n",
       "        vertical-align: middle;\n",
       "    }\n",
       "\n",
       "    .dataframe tbody tr th {\n",
       "        vertical-align: top;\n",
       "    }\n",
       "\n",
       "    .dataframe thead th {\n",
       "        text-align: right;\n",
       "    }\n",
       "</style>\n",
       "<table border=\"1\" class=\"dataframe\">\n",
       "  <thead>\n",
       "    <tr style=\"text-align: right;\">\n",
       "      <th></th>\n",
       "      <th>movie_id</th>\n",
       "      <th>title</th>\n",
       "      <th>introduction</th>\n",
       "      <th>runtimeSeconds</th>\n",
       "      <th>genre</th>\n",
       "      <th>releaseDate</th>\n",
       "      <th>releaseLocation</th>\n",
       "      <th>actors</th>\n",
       "      <th>directors</th>\n",
       "      <th>totalRatings</th>\n",
       "      <th>ratingStar</th>\n",
       "      <th>totalAwards</th>\n",
       "      <th>totalNominations</th>\n",
       "    </tr>\n",
       "  </thead>\n",
       "  <tbody>\n",
       "    <tr>\n",
       "      <th>678</th>\n",
       "      <td>tt10468596</td>\n",
       "      <td>Persona 5 Royal</td>\n",
       "      <td>A group of high school students create a vigil...</td>\n",
       "      <td>0</td>\n",
       "      <td>['Action', 'Adventure', 'Comedy', 'Drama', 'Fa...</td>\n",
       "      <td>2020-03-31</td>\n",
       "      <td>United States</td>\n",
       "      <td>['Jun Fukuyama', 'Ikue Ôtani', 'Mamoru Miyano']</td>\n",
       "      <td>['Daiki Itô']</td>\n",
       "      <td>2266.0</td>\n",
       "      <td>9.5</td>\n",
       "      <td>0</td>\n",
       "      <td>1</td>\n",
       "    </tr>\n",
       "    <tr>\n",
       "      <th>1653</th>\n",
       "      <td>tt10680606</td>\n",
       "      <td>Minecraft Epic</td>\n",
       "      <td>Pewdiepie has epic adventures in Minecraft. Wi...</td>\n",
       "      <td>0</td>\n",
       "      <td>['Action', 'Adventure', 'Comedy', 'Drama', 'Fa...</td>\n",
       "      <td>2019-06-21</td>\n",
       "      <td>United Kingdom</td>\n",
       "      <td>['Felix Kjellberg', 'Joergen', 'Water Sheep']</td>\n",
       "      <td>[]</td>\n",
       "      <td>4009.0</td>\n",
       "      <td>9.5</td>\n",
       "      <td>0</td>\n",
       "      <td>0</td>\n",
       "    </tr>\n",
       "    <tr>\n",
       "      <th>706</th>\n",
       "      <td>tt3944082</td>\n",
       "      <td>Persona 5</td>\n",
       "      <td>A group of high school students create a vigil...</td>\n",
       "      <td>0</td>\n",
       "      <td>['Action', 'Adventure', 'Comedy', 'Drama', 'Fa...</td>\n",
       "      <td>2017-04-04</td>\n",
       "      <td>United States</td>\n",
       "      <td>['Jun Fukuyama', 'Mamoru Miyano', 'Nana Mizuki']</td>\n",
       "      <td>['Katsura Hashino']</td>\n",
       "      <td>3343.0</td>\n",
       "      <td>9.2</td>\n",
       "      <td>7</td>\n",
       "      <td>11</td>\n",
       "    </tr>\n",
       "    <tr>\n",
       "      <th>1262</th>\n",
       "      <td>tt9357776</td>\n",
       "      <td>Wilford 'Motherloving' Warfstache</td>\n",
       "      <td>After the events of Who Killed Markiplier? (20...</td>\n",
       "      <td>1140</td>\n",
       "      <td>['Short', 'Comedy', 'Drama']</td>\n",
       "      <td>2018-08-05</td>\n",
       "      <td>United States</td>\n",
       "      <td>['Mark Fischbach', 'Mick Lauer', 'Lucy Marie S...</td>\n",
       "      <td>['Mark Fischbach']</td>\n",
       "      <td>216.0</td>\n",
       "      <td>9.1</td>\n",
       "      <td>0</td>\n",
       "      <td>0</td>\n",
       "    </tr>\n",
       "    <tr>\n",
       "      <th>680</th>\n",
       "      <td>tt10986410</td>\n",
       "      <td>Ted Lasso</td>\n",
       "      <td>American college football coach Ted Lasso head...</td>\n",
       "      <td>1800</td>\n",
       "      <td>['Comedy', 'Drama', 'Sport']</td>\n",
       "      <td>2020-08-14</td>\n",
       "      <td>United States</td>\n",
       "      <td>['Jason Sudeikis', 'Hannah Waddingham', 'Jerem...</td>\n",
       "      <td>[]</td>\n",
       "      <td>344576.0</td>\n",
       "      <td>8.8</td>\n",
       "      <td>86</td>\n",
       "      <td>236</td>\n",
       "    </tr>\n",
       "    <tr>\n",
       "      <th>2379</th>\n",
       "      <td>tt1190634</td>\n",
       "      <td>The Boys</td>\n",
       "      <td>A group of vigilantes set out to take down cor...</td>\n",
       "      <td>3600</td>\n",
       "      <td>['Action', 'Comedy', 'Crime', 'Drama', 'Sci-Fi']</td>\n",
       "      <td>2019-07-26</td>\n",
       "      <td>United States</td>\n",
       "      <td>['Karl Urban', 'Jack Quaid', 'Antony Starr']</td>\n",
       "      <td>[]</td>\n",
       "      <td>647028.0</td>\n",
       "      <td>8.7</td>\n",
       "      <td>21</td>\n",
       "      <td>82</td>\n",
       "    </tr>\n",
       "    <tr>\n",
       "      <th>3202</th>\n",
       "      <td>tt5555260</td>\n",
       "      <td>This Is Us</td>\n",
       "      <td>A heartwarming and emotional story about a uni...</td>\n",
       "      <td>2700</td>\n",
       "      <td>['Comedy', 'Drama', 'Romance']</td>\n",
       "      <td>2016-09-20</td>\n",
       "      <td>United States</td>\n",
       "      <td>['Milo Ventimiglia', 'Mandy Moore', 'Sterling ...</td>\n",
       "      <td>[]</td>\n",
       "      <td>159005.0</td>\n",
       "      <td>8.7</td>\n",
       "      <td>67</td>\n",
       "      <td>293</td>\n",
       "    </tr>\n",
       "    <tr>\n",
       "      <th>1987</th>\n",
       "      <td>tt4288182</td>\n",
       "      <td>Atlanta</td>\n",
       "      <td>Earn and his cousin, Alfred, try to make their...</td>\n",
       "      <td>1800</td>\n",
       "      <td>['Comedy', 'Drama', 'Music']</td>\n",
       "      <td>2016-09-06</td>\n",
       "      <td>United States</td>\n",
       "      <td>['Donald Glover', 'Brian Tyree Henry', 'LaKeit...</td>\n",
       "      <td>[]</td>\n",
       "      <td>87753.0</td>\n",
       "      <td>8.6</td>\n",
       "      <td>60</td>\n",
       "      <td>148</td>\n",
       "    </tr>\n",
       "    <tr>\n",
       "      <th>3216</th>\n",
       "      <td>tt7221388</td>\n",
       "      <td>Cobra Kai</td>\n",
       "      <td>Decades after their 1984 All Valley Karate Tou...</td>\n",
       "      <td>1800</td>\n",
       "      <td>['Action', 'Comedy', 'Drama', 'Sport']</td>\n",
       "      <td>2018-05-02</td>\n",
       "      <td>United States</td>\n",
       "      <td>['Ralph Macchio', 'William Zabka', 'Courtney H...</td>\n",
       "      <td>[]</td>\n",
       "      <td>203616.0</td>\n",
       "      <td>8.5</td>\n",
       "      <td>4</td>\n",
       "      <td>65</td>\n",
       "    </tr>\n",
       "    <tr>\n",
       "      <th>536</th>\n",
       "      <td>tt1675434</td>\n",
       "      <td>The Intouchables</td>\n",
       "      <td>After he becomes a quadriplegic from a paragli...</td>\n",
       "      <td>6720</td>\n",
       "      <td>['Comedy', 'Drama']</td>\n",
       "      <td>2011-11-02</td>\n",
       "      <td>France</td>\n",
       "      <td>['François Cluzet', 'Omar Sy', 'Anne Le Ny']</td>\n",
       "      <td>['Olivier Nakache', 'Éric Toledano']</td>\n",
       "      <td>924776.0</td>\n",
       "      <td>8.5</td>\n",
       "      <td>38</td>\n",
       "      <td>40</td>\n",
       "    </tr>\n",
       "    <tr>\n",
       "      <th>2426</th>\n",
       "      <td>tt3895150</td>\n",
       "      <td>Your Lie in April</td>\n",
       "      <td>A piano prodigy who lost his ability to play a...</td>\n",
       "      <td>1380</td>\n",
       "      <td>['Animation', 'Comedy', 'Drama', 'Music', 'Rom...</td>\n",
       "      <td>2014-10-09</td>\n",
       "      <td>United States</td>\n",
       "      <td>['Natsuki Hanae', 'Risa Taneda', 'Ayane Sakura']</td>\n",
       "      <td>[]</td>\n",
       "      <td>37640.0</td>\n",
       "      <td>8.5</td>\n",
       "      <td>11</td>\n",
       "      <td>12</td>\n",
       "    </tr>\n",
       "    <tr>\n",
       "      <th>2002</th>\n",
       "      <td>tt5425186</td>\n",
       "      <td>Horace and Pete</td>\n",
       "      <td>Louis C.K.'s Eugene O'Neill-esque dramatic web...</td>\n",
       "      <td>2640</td>\n",
       "      <td>['Comedy', 'Drama']</td>\n",
       "      <td>2016-01-30</td>\n",
       "      <td>United States</td>\n",
       "      <td>['Louis C.K.', 'Steve Buscemi', 'Edie Falco']</td>\n",
       "      <td>[]</td>\n",
       "      <td>17539.0</td>\n",
       "      <td>8.5</td>\n",
       "      <td>2</td>\n",
       "      <td>9</td>\n",
       "    </tr>\n",
       "    <tr>\n",
       "      <th>1936</th>\n",
       "      <td>tt1492966</td>\n",
       "      <td>Louie</td>\n",
       "      <td>The life of Louie C.K., a divorced comedian li...</td>\n",
       "      <td>1320</td>\n",
       "      <td>['Comedy', 'Drama']</td>\n",
       "      <td>2010-06-29</td>\n",
       "      <td>United States</td>\n",
       "      <td>['Louis C.K.', 'Hadley Delany', 'Ursula Parker']</td>\n",
       "      <td>[]</td>\n",
       "      <td>82126.0</td>\n",
       "      <td>8.5</td>\n",
       "      <td>21</td>\n",
       "      <td>95</td>\n",
       "    </tr>\n",
       "    <tr>\n",
       "      <th>2034</th>\n",
       "      <td>tt8398600</td>\n",
       "      <td>After Life</td>\n",
       "      <td>After Tony's wife dies, his nice-guy persona i...</td>\n",
       "      <td>1800</td>\n",
       "      <td>['Comedy', 'Drama']</td>\n",
       "      <td>2019-03-08</td>\n",
       "      <td>United States</td>\n",
       "      <td>['Ricky Gervais', 'Tom Basden', 'Tony Way']</td>\n",
       "      <td>[]</td>\n",
       "      <td>152925.0</td>\n",
       "      <td>8.4</td>\n",
       "      <td>3</td>\n",
       "      <td>7</td>\n",
       "    </tr>\n",
       "    <tr>\n",
       "      <th>1264</th>\n",
       "      <td>tt9561862</td>\n",
       "      <td>Love, Death &amp; Robots</td>\n",
       "      <td>A collection of animated short stories that sp...</td>\n",
       "      <td>900</td>\n",
       "      <td>['Animation', 'Short', 'Action', 'Adventure', ...</td>\n",
       "      <td>2019-03-15</td>\n",
       "      <td>United States</td>\n",
       "      <td>['Fred Tatasciore', 'Scott Whyte', 'Nolan North']</td>\n",
       "      <td>[]</td>\n",
       "      <td>196057.0</td>\n",
       "      <td>8.4</td>\n",
       "      <td>28</td>\n",
       "      <td>23</td>\n",
       "    </tr>\n",
       "    <tr>\n",
       "      <th>2448</th>\n",
       "      <td>tt7767422</td>\n",
       "      <td>Sex Education</td>\n",
       "      <td>A teenage boy with a sex therapist mother team...</td>\n",
       "      <td>3600</td>\n",
       "      <td>['Comedy', 'Drama', 'Romance']</td>\n",
       "      <td>2019-01-11</td>\n",
       "      <td>United States</td>\n",
       "      <td>['Asa Butterfield', 'Gillian Anderson', 'Ncuti...</td>\n",
       "      <td>[]</td>\n",
       "      <td>350424.0</td>\n",
       "      <td>8.3</td>\n",
       "      <td>20</td>\n",
       "      <td>77</td>\n",
       "    </tr>\n",
       "    <tr>\n",
       "      <th>596</th>\n",
       "      <td>tt6966692</td>\n",
       "      <td>Green Book</td>\n",
       "      <td>A working-class Italian-American bouncer becom...</td>\n",
       "      <td>7800</td>\n",
       "      <td>['Biography', 'Comedy', 'Drama', 'Music']</td>\n",
       "      <td>2018-11-16</td>\n",
       "      <td>United States</td>\n",
       "      <td>['Viggo Mortensen', 'Mahershala Ali', 'Linda C...</td>\n",
       "      <td>['Peter Farrelly']</td>\n",
       "      <td>565174.0</td>\n",
       "      <td>8.2</td>\n",
       "      <td>58</td>\n",
       "      <td>123</td>\n",
       "    </tr>\n",
       "    <tr>\n",
       "      <th>491</th>\n",
       "      <td>tt0993846</td>\n",
       "      <td>The Wolf of Wall Street</td>\n",
       "      <td>Based on the true story of Jordan Belfort, fro...</td>\n",
       "      <td>10800</td>\n",
       "      <td>['Biography', 'Comedy', 'Crime', 'Drama']</td>\n",
       "      <td>2013-12-25</td>\n",
       "      <td>United States</td>\n",
       "      <td>['Leonardo DiCaprio', 'Jonah Hill', 'Margot Ro...</td>\n",
       "      <td>['Martin Scorsese']</td>\n",
       "      <td>1573335.0</td>\n",
       "      <td>8.2</td>\n",
       "      <td>37</td>\n",
       "      <td>179</td>\n",
       "    </tr>\n",
       "    <tr>\n",
       "      <th>1480</th>\n",
       "      <td>tt1954470</td>\n",
       "      <td>Gangs of Wasseypur</td>\n",
       "      <td>A clash between Sultan and Shahid Khan leads t...</td>\n",
       "      <td>19260</td>\n",
       "      <td>['Action', 'Comedy', 'Crime', 'Drama', 'Thrill...</td>\n",
       "      <td>2012-06-22</td>\n",
       "      <td>India</td>\n",
       "      <td>['Manoj Bajpayee', 'Nawazuddin Siddiqui', 'Tig...</td>\n",
       "      <td>['Anurag Kashyap']</td>\n",
       "      <td>103565.0</td>\n",
       "      <td>8.2</td>\n",
       "      <td>18</td>\n",
       "      <td>65</td>\n",
       "    </tr>\n",
       "    <tr>\n",
       "      <th>1278</th>\n",
       "      <td>tt2235759</td>\n",
       "      <td>The Great</td>\n",
       "      <td>A royal woman living in rural Russia during th...</td>\n",
       "      <td>0</td>\n",
       "      <td>['Biography', 'Comedy', 'Drama', 'History']</td>\n",
       "      <td>2020-05-15</td>\n",
       "      <td>United States</td>\n",
       "      <td>['Elle Fanning', 'Phoebe Fox', 'Gwilym Lee']</td>\n",
       "      <td>[]</td>\n",
       "      <td>54188.0</td>\n",
       "      <td>8.2</td>\n",
       "      <td>17</td>\n",
       "      <td>69</td>\n",
       "    </tr>\n",
       "    <tr>\n",
       "      <th>587</th>\n",
       "      <td>tt5027774</td>\n",
       "      <td>Three Billboards Outside Ebbing, Missouri</td>\n",
       "      <td>A mother personally challenges the local autho...</td>\n",
       "      <td>6900</td>\n",
       "      <td>['Comedy', 'Crime', 'Drama']</td>\n",
       "      <td>2017-12-01</td>\n",
       "      <td>United States</td>\n",
       "      <td>['Frances McDormand', 'Woody Harrelson', 'Sam ...</td>\n",
       "      <td>['Martin McDonagh']</td>\n",
       "      <td>552882.0</td>\n",
       "      <td>8.1</td>\n",
       "      <td>132</td>\n",
       "      <td>233</td>\n",
       "    </tr>\n",
       "    <tr>\n",
       "      <th>551</th>\n",
       "      <td>tt2096673</td>\n",
       "      <td>Inside Out</td>\n",
       "      <td>After young Riley is uprooted from her Midwest...</td>\n",
       "      <td>5700</td>\n",
       "      <td>['Animation', 'Adventure', 'Comedy', 'Drama', ...</td>\n",
       "      <td>2015-06-19</td>\n",
       "      <td>United States</td>\n",
       "      <td>['Amy Poehler', 'Bill Hader', 'Lewis Black']</td>\n",
       "      <td>['Pete Docter', 'Ronnie Del Carmen']</td>\n",
       "      <td>781414.0</td>\n",
       "      <td>8.1</td>\n",
       "      <td>99</td>\n",
       "      <td>118</td>\n",
       "    </tr>\n",
       "    <tr>\n",
       "      <th>563</th>\n",
       "      <td>tt3011894</td>\n",
       "      <td>Wild Tales</td>\n",
       "      <td>Six short stories that explore the extremities...</td>\n",
       "      <td>7320</td>\n",
       "      <td>['Comedy', 'Drama', 'Thriller']</td>\n",
       "      <td>2014-08-21</td>\n",
       "      <td>Argentina</td>\n",
       "      <td>['Darío Grandinetti', 'María Marull', 'Mónica ...</td>\n",
       "      <td>['Damián Szifron']</td>\n",
       "      <td>215365.0</td>\n",
       "      <td>8.1</td>\n",
       "      <td>49</td>\n",
       "      <td>58</td>\n",
       "    </tr>\n",
       "    <tr>\n",
       "      <th>1246</th>\n",
       "      <td>tt7375404</td>\n",
       "      <td>Kidding</td>\n",
       "      <td>Jeff, a famous children's television icon, str...</td>\n",
       "      <td>1800</td>\n",
       "      <td>['Comedy', 'Drama']</td>\n",
       "      <td>2018-08-31</td>\n",
       "      <td>United States</td>\n",
       "      <td>['Jim Carrey', 'Frank Langella', 'Judy Greer']</td>\n",
       "      <td>[]</td>\n",
       "      <td>20074.0</td>\n",
       "      <td>8.0</td>\n",
       "      <td>2</td>\n",
       "      <td>8</td>\n",
       "    </tr>\n",
       "    <tr>\n",
       "      <th>3187</th>\n",
       "      <td>tt2948372</td>\n",
       "      <td>Soul</td>\n",
       "      <td>Joe is a middle-school band teacher whose life...</td>\n",
       "      <td>6000</td>\n",
       "      <td>['Animation', 'Adventure', 'Comedy', 'Drama', ...</td>\n",
       "      <td>2020-12-25</td>\n",
       "      <td>United States</td>\n",
       "      <td>['Jamie Foxx', 'Tina Fey', 'Graham Norton']</td>\n",
       "      <td>['Pete Docter', 'Kemp Powers']</td>\n",
       "      <td>379120.0</td>\n",
       "      <td>8.0</td>\n",
       "      <td>125</td>\n",
       "      <td>94</td>\n",
       "    </tr>\n",
       "    <tr>\n",
       "      <th>1981</th>\n",
       "      <td>tt3783958</td>\n",
       "      <td>La La Land</td>\n",
       "      <td>While navigating their careers in Los Angeles,...</td>\n",
       "      <td>7680</td>\n",
       "      <td>['Comedy', 'Drama', 'Music', 'Musical', 'Roman...</td>\n",
       "      <td>2016-12-25</td>\n",
       "      <td>United States</td>\n",
       "      <td>['Ryan Gosling', 'Emma Stone', 'Rosemarie DeWi...</td>\n",
       "      <td>['Damien Chazelle']</td>\n",
       "      <td>669232.0</td>\n",
       "      <td>8.0</td>\n",
       "      <td>241</td>\n",
       "      <td>307</td>\n",
       "    </tr>\n",
       "    <tr>\n",
       "      <th>2401</th>\n",
       "      <td>tt1869454</td>\n",
       "      <td>Good Omens</td>\n",
       "      <td>The End of the World is coming, which means a ...</td>\n",
       "      <td>3300</td>\n",
       "      <td>['Comedy', 'Drama', 'Fantasy']</td>\n",
       "      <td>2019-05-31</td>\n",
       "      <td>United States</td>\n",
       "      <td>['David Tennant', 'Michael Sheen', 'Miranda Ri...</td>\n",
       "      <td>[]</td>\n",
       "      <td>112202.0</td>\n",
       "      <td>8.0</td>\n",
       "      <td>7</td>\n",
       "      <td>18</td>\n",
       "    </tr>\n",
       "    <tr>\n",
       "      <th>1160</th>\n",
       "      <td>tt10982034</td>\n",
       "      <td>Trying</td>\n",
       "      <td>All Jason and Nikki want is a baby, but it's t...</td>\n",
       "      <td>1800</td>\n",
       "      <td>['Comedy', 'Drama', 'Romance']</td>\n",
       "      <td>2020-05-01</td>\n",
       "      <td>United States</td>\n",
       "      <td>['Rafe Spall', 'Esther Smith', 'Sian Brooke']</td>\n",
       "      <td>[]</td>\n",
       "      <td>11055.0</td>\n",
       "      <td>8.0</td>\n",
       "      <td>0</td>\n",
       "      <td>3</td>\n",
       "    </tr>\n",
       "    <tr>\n",
       "      <th>1154</th>\n",
       "      <td>tt10366460</td>\n",
       "      <td>CODA</td>\n",
       "      <td>As a CODA (Child of Deaf Adults) Ruby is the o...</td>\n",
       "      <td>6660</td>\n",
       "      <td>['Comedy', 'Drama', 'Music']</td>\n",
       "      <td>2021-08-13</td>\n",
       "      <td>United States</td>\n",
       "      <td>['Emilia Jones', 'Marlee Matlin', 'Troy Kotsur']</td>\n",
       "      <td>['Sian Heder']</td>\n",
       "      <td>164216.0</td>\n",
       "      <td>8.0</td>\n",
       "      <td>66</td>\n",
       "      <td>145</td>\n",
       "    </tr>\n",
       "  </tbody>\n",
       "</table>\n",
       "</div>"
      ],
      "text/plain": [
       "        movie_id                                      title  \\\n",
       "678   tt10468596                            Persona 5 Royal   \n",
       "1653  tt10680606                             Minecraft Epic   \n",
       "706    tt3944082                                  Persona 5   \n",
       "1262   tt9357776          Wilford 'Motherloving' Warfstache   \n",
       "680   tt10986410                                  Ted Lasso   \n",
       "2379   tt1190634                                   The Boys   \n",
       "3202   tt5555260                                 This Is Us   \n",
       "1987   tt4288182                                    Atlanta   \n",
       "3216   tt7221388                                  Cobra Kai   \n",
       "536    tt1675434                           The Intouchables   \n",
       "2426   tt3895150                          Your Lie in April   \n",
       "2002   tt5425186                            Horace and Pete   \n",
       "1936   tt1492966                                      Louie   \n",
       "2034   tt8398600                                 After Life   \n",
       "1264   tt9561862                       Love, Death & Robots   \n",
       "2448   tt7767422                              Sex Education   \n",
       "596    tt6966692                                 Green Book   \n",
       "491    tt0993846                    The Wolf of Wall Street   \n",
       "1480   tt1954470                         Gangs of Wasseypur   \n",
       "1278   tt2235759                                  The Great   \n",
       "587    tt5027774  Three Billboards Outside Ebbing, Missouri   \n",
       "551    tt2096673                                 Inside Out   \n",
       "563    tt3011894                                 Wild Tales   \n",
       "1246   tt7375404                                    Kidding   \n",
       "3187   tt2948372                                       Soul   \n",
       "1981   tt3783958                                 La La Land   \n",
       "2401   tt1869454                                 Good Omens   \n",
       "1160  tt10982034                                     Trying   \n",
       "1154  tt10366460                                       CODA   \n",
       "\n",
       "                                           introduction  runtimeSeconds  \\\n",
       "678   A group of high school students create a vigil...               0   \n",
       "1653  Pewdiepie has epic adventures in Minecraft. Wi...               0   \n",
       "706   A group of high school students create a vigil...               0   \n",
       "1262  After the events of Who Killed Markiplier? (20...            1140   \n",
       "680   American college football coach Ted Lasso head...            1800   \n",
       "2379  A group of vigilantes set out to take down cor...            3600   \n",
       "3202  A heartwarming and emotional story about a uni...            2700   \n",
       "1987  Earn and his cousin, Alfred, try to make their...            1800   \n",
       "3216  Decades after their 1984 All Valley Karate Tou...            1800   \n",
       "536   After he becomes a quadriplegic from a paragli...            6720   \n",
       "2426  A piano prodigy who lost his ability to play a...            1380   \n",
       "2002  Louis C.K.'s Eugene O'Neill-esque dramatic web...            2640   \n",
       "1936  The life of Louie C.K., a divorced comedian li...            1320   \n",
       "2034  After Tony's wife dies, his nice-guy persona i...            1800   \n",
       "1264  A collection of animated short stories that sp...             900   \n",
       "2448  A teenage boy with a sex therapist mother team...            3600   \n",
       "596   A working-class Italian-American bouncer becom...            7800   \n",
       "491   Based on the true story of Jordan Belfort, fro...           10800   \n",
       "1480  A clash between Sultan and Shahid Khan leads t...           19260   \n",
       "1278  A royal woman living in rural Russia during th...               0   \n",
       "587   A mother personally challenges the local autho...            6900   \n",
       "551   After young Riley is uprooted from her Midwest...            5700   \n",
       "563   Six short stories that explore the extremities...            7320   \n",
       "1246  Jeff, a famous children's television icon, str...            1800   \n",
       "3187  Joe is a middle-school band teacher whose life...            6000   \n",
       "1981  While navigating their careers in Los Angeles,...            7680   \n",
       "2401  The End of the World is coming, which means a ...            3300   \n",
       "1160  All Jason and Nikki want is a baby, but it's t...            1800   \n",
       "1154  As a CODA (Child of Deaf Adults) Ruby is the o...            6660   \n",
       "\n",
       "                                                  genre releaseDate  \\\n",
       "678   ['Action', 'Adventure', 'Comedy', 'Drama', 'Fa...  2020-03-31   \n",
       "1653  ['Action', 'Adventure', 'Comedy', 'Drama', 'Fa...  2019-06-21   \n",
       "706   ['Action', 'Adventure', 'Comedy', 'Drama', 'Fa...  2017-04-04   \n",
       "1262                       ['Short', 'Comedy', 'Drama']  2018-08-05   \n",
       "680                        ['Comedy', 'Drama', 'Sport']  2020-08-14   \n",
       "2379   ['Action', 'Comedy', 'Crime', 'Drama', 'Sci-Fi']  2019-07-26   \n",
       "3202                     ['Comedy', 'Drama', 'Romance']  2016-09-20   \n",
       "1987                       ['Comedy', 'Drama', 'Music']  2016-09-06   \n",
       "3216             ['Action', 'Comedy', 'Drama', 'Sport']  2018-05-02   \n",
       "536                                 ['Comedy', 'Drama']  2011-11-02   \n",
       "2426  ['Animation', 'Comedy', 'Drama', 'Music', 'Rom...  2014-10-09   \n",
       "2002                                ['Comedy', 'Drama']  2016-01-30   \n",
       "1936                                ['Comedy', 'Drama']  2010-06-29   \n",
       "2034                                ['Comedy', 'Drama']  2019-03-08   \n",
       "1264  ['Animation', 'Short', 'Action', 'Adventure', ...  2019-03-15   \n",
       "2448                     ['Comedy', 'Drama', 'Romance']  2019-01-11   \n",
       "596           ['Biography', 'Comedy', 'Drama', 'Music']  2018-11-16   \n",
       "491           ['Biography', 'Comedy', 'Crime', 'Drama']  2013-12-25   \n",
       "1480  ['Action', 'Comedy', 'Crime', 'Drama', 'Thrill...  2012-06-22   \n",
       "1278        ['Biography', 'Comedy', 'Drama', 'History']  2020-05-15   \n",
       "587                        ['Comedy', 'Crime', 'Drama']  2017-12-01   \n",
       "551   ['Animation', 'Adventure', 'Comedy', 'Drama', ...  2015-06-19   \n",
       "563                     ['Comedy', 'Drama', 'Thriller']  2014-08-21   \n",
       "1246                                ['Comedy', 'Drama']  2018-08-31   \n",
       "3187  ['Animation', 'Adventure', 'Comedy', 'Drama', ...  2020-12-25   \n",
       "1981  ['Comedy', 'Drama', 'Music', 'Musical', 'Roman...  2016-12-25   \n",
       "2401                     ['Comedy', 'Drama', 'Fantasy']  2019-05-31   \n",
       "1160                     ['Comedy', 'Drama', 'Romance']  2020-05-01   \n",
       "1154                       ['Comedy', 'Drama', 'Music']  2021-08-13   \n",
       "\n",
       "     releaseLocation                                             actors  \\\n",
       "678    United States    ['Jun Fukuyama', 'Ikue Ôtani', 'Mamoru Miyano']   \n",
       "1653  United Kingdom      ['Felix Kjellberg', 'Joergen', 'Water Sheep']   \n",
       "706    United States   ['Jun Fukuyama', 'Mamoru Miyano', 'Nana Mizuki']   \n",
       "1262   United States  ['Mark Fischbach', 'Mick Lauer', 'Lucy Marie S...   \n",
       "680    United States  ['Jason Sudeikis', 'Hannah Waddingham', 'Jerem...   \n",
       "2379   United States       ['Karl Urban', 'Jack Quaid', 'Antony Starr']   \n",
       "3202   United States  ['Milo Ventimiglia', 'Mandy Moore', 'Sterling ...   \n",
       "1987   United States  ['Donald Glover', 'Brian Tyree Henry', 'LaKeit...   \n",
       "3216   United States  ['Ralph Macchio', 'William Zabka', 'Courtney H...   \n",
       "536           France       ['François Cluzet', 'Omar Sy', 'Anne Le Ny']   \n",
       "2426   United States   ['Natsuki Hanae', 'Risa Taneda', 'Ayane Sakura']   \n",
       "2002   United States      ['Louis C.K.', 'Steve Buscemi', 'Edie Falco']   \n",
       "1936   United States   ['Louis C.K.', 'Hadley Delany', 'Ursula Parker']   \n",
       "2034   United States        ['Ricky Gervais', 'Tom Basden', 'Tony Way']   \n",
       "1264   United States  ['Fred Tatasciore', 'Scott Whyte', 'Nolan North']   \n",
       "2448   United States  ['Asa Butterfield', 'Gillian Anderson', 'Ncuti...   \n",
       "596    United States  ['Viggo Mortensen', 'Mahershala Ali', 'Linda C...   \n",
       "491    United States  ['Leonardo DiCaprio', 'Jonah Hill', 'Margot Ro...   \n",
       "1480           India  ['Manoj Bajpayee', 'Nawazuddin Siddiqui', 'Tig...   \n",
       "1278   United States       ['Elle Fanning', 'Phoebe Fox', 'Gwilym Lee']   \n",
       "587    United States  ['Frances McDormand', 'Woody Harrelson', 'Sam ...   \n",
       "551    United States       ['Amy Poehler', 'Bill Hader', 'Lewis Black']   \n",
       "563        Argentina  ['Darío Grandinetti', 'María Marull', 'Mónica ...   \n",
       "1246   United States     ['Jim Carrey', 'Frank Langella', 'Judy Greer']   \n",
       "3187   United States        ['Jamie Foxx', 'Tina Fey', 'Graham Norton']   \n",
       "1981   United States  ['Ryan Gosling', 'Emma Stone', 'Rosemarie DeWi...   \n",
       "2401   United States  ['David Tennant', 'Michael Sheen', 'Miranda Ri...   \n",
       "1160   United States      ['Rafe Spall', 'Esther Smith', 'Sian Brooke']   \n",
       "1154   United States   ['Emilia Jones', 'Marlee Matlin', 'Troy Kotsur']   \n",
       "\n",
       "                                 directors  totalRatings  ratingStar  \\\n",
       "678                          ['Daiki Itô']        2266.0         9.5   \n",
       "1653                                    []        4009.0         9.5   \n",
       "706                    ['Katsura Hashino']        3343.0         9.2   \n",
       "1262                    ['Mark Fischbach']         216.0         9.1   \n",
       "680                                     []      344576.0         8.8   \n",
       "2379                                    []      647028.0         8.7   \n",
       "3202                                    []      159005.0         8.7   \n",
       "1987                                    []       87753.0         8.6   \n",
       "3216                                    []      203616.0         8.5   \n",
       "536   ['Olivier Nakache', 'Éric Toledano']      924776.0         8.5   \n",
       "2426                                    []       37640.0         8.5   \n",
       "2002                                    []       17539.0         8.5   \n",
       "1936                                    []       82126.0         8.5   \n",
       "2034                                    []      152925.0         8.4   \n",
       "1264                                    []      196057.0         8.4   \n",
       "2448                                    []      350424.0         8.3   \n",
       "596                     ['Peter Farrelly']      565174.0         8.2   \n",
       "491                    ['Martin Scorsese']     1573335.0         8.2   \n",
       "1480                    ['Anurag Kashyap']      103565.0         8.2   \n",
       "1278                                    []       54188.0         8.2   \n",
       "587                    ['Martin McDonagh']      552882.0         8.1   \n",
       "551   ['Pete Docter', 'Ronnie Del Carmen']      781414.0         8.1   \n",
       "563                     ['Damián Szifron']      215365.0         8.1   \n",
       "1246                                    []       20074.0         8.0   \n",
       "3187        ['Pete Docter', 'Kemp Powers']      379120.0         8.0   \n",
       "1981                   ['Damien Chazelle']      669232.0         8.0   \n",
       "2401                                    []      112202.0         8.0   \n",
       "1160                                    []       11055.0         8.0   \n",
       "1154                        ['Sian Heder']      164216.0         8.0   \n",
       "\n",
       "      totalAwards  totalNominations  \n",
       "678             0                 1  \n",
       "1653            0                 0  \n",
       "706             7                11  \n",
       "1262            0                 0  \n",
       "680            86               236  \n",
       "2379           21                82  \n",
       "3202           67               293  \n",
       "1987           60               148  \n",
       "3216            4                65  \n",
       "536            38                40  \n",
       "2426           11                12  \n",
       "2002            2                 9  \n",
       "1936           21                95  \n",
       "2034            3                 7  \n",
       "1264           28                23  \n",
       "2448           20                77  \n",
       "596            58               123  \n",
       "491            37               179  \n",
       "1480           18                65  \n",
       "1278           17                69  \n",
       "587           132               233  \n",
       "551            99               118  \n",
       "563            49                58  \n",
       "1246            2                 8  \n",
       "3187          125                94  \n",
       "1981          241               307  \n",
       "2401            7                18  \n",
       "1160            0                 3  \n",
       "1154           66               145  "
      ]
     },
     "execution_count": 72,
     "metadata": {},
     "output_type": "execute_result"
    }
   ],
   "source": [
    "df = mi_df.copy()\n",
    "options = {\n",
    "    'title': \"\",\n",
    "    'genre': [\"drama\", \"comedy\"],\n",
    "    'actors': \"\", \n",
    "    'directors': \"\",\n",
    "    'releaseLocation': \"\", \n",
    "    'releaseDate': '06-2010',\n",
    "    'ratingStar': 8\n",
    "}\n",
    "rs_asearch(df, options)"
   ]
  }
 ],
 "metadata": {
  "kernelspec": {
   "display_name": "base",
   "language": "python",
   "name": "python3"
  },
  "language_info": {
   "codemirror_mode": {
    "name": "ipython",
    "version": 3
   },
   "file_extension": ".py",
   "mimetype": "text/x-python",
   "name": "python",
   "nbconvert_exporter": "python",
   "pygments_lexer": "ipython3",
   "version": "3.9.12"
  }
 },
 "nbformat": 4,
 "nbformat_minor": 2
}
