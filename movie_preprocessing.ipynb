{
  "cells": [
    {
      "cell_type": "markdown",
      "metadata": {},
      "source": [
        "## TIỀN XỬ LÝ VÀ KHÁM PHÁ DỮ LIỆU **MOVIES**"
      ]
    },
    {
      "cell_type": "markdown",
      "metadata": {
        "id": "PUCrCnVcIMmp"
      },
      "source": [
        "#### 1. Import thư viện"
      ]
    },
    {
      "cell_type": "code",
      "execution_count": 1,
      "metadata": {
        "id": "xK61iGIXIMm-"
      },
      "outputs": [],
      "source": [
        "import json\n",
        "import pandas as pd\n",
        "import os"
      ]
    },
    {
      "cell_type": "markdown",
      "metadata": {},
      "source": [
        "#### CHUẨN BỊ DỮ LIỆU"
      ]
    },
    {
      "cell_type": "markdown",
      "metadata": {
        "id": "f5vKHp7GIMnA"
      },
      "source": [
        "#### 2. Đọc dữ liệu và chuyển đổi thành dataframe"
      ]
    },
    {
      "cell_type": "code",
      "execution_count": 2,
      "metadata": {
        "id": "cq09YixLIMnB"
      },
      "outputs": [],
      "source": [
        "movies_info = {\n",
        "    \"movie_id\": [],\n",
        "    \"title\": [],\n",
        "    \"introduction\": [],\n",
        "    \"runtime\": [],\n",
        "    \"runtimeSeconds\": [],\n",
        "    \"rating\": [],\n",
        "    \"award\": [],\n",
        "    \"genre\": [],\n",
        "    \"releaseDate\": [],\n",
        "    \"releaseLocation\": [],\n",
        "    \"actors\": [],\n",
        "    \"directors\": []\n",
        "}"
      ]
    },
    {
      "cell_type": "code",
      "execution_count": 3,
      "metadata": {
        "id": "Z4xkJ8IOIMnC",
        "outputId": "70a5157c-c685-436f-9a24-7f6bd5b1d45c"
      },
      "outputs": [
        {
          "data": {
            "text/html": [
              "<div>\n",
              "<style scoped>\n",
              "    .dataframe tbody tr th:only-of-type {\n",
              "        vertical-align: middle;\n",
              "    }\n",
              "\n",
              "    .dataframe tbody tr th {\n",
              "        vertical-align: top;\n",
              "    }\n",
              "\n",
              "    .dataframe thead th {\n",
              "        text-align: right;\n",
              "    }\n",
              "</style>\n",
              "<table border=\"1\" class=\"dataframe\">\n",
              "  <thead>\n",
              "    <tr style=\"text-align: right;\">\n",
              "      <th></th>\n",
              "      <th>movie_id</th>\n",
              "      <th>title</th>\n",
              "      <th>introduction</th>\n",
              "      <th>runtime</th>\n",
              "      <th>runtimeSeconds</th>\n",
              "      <th>rating</th>\n",
              "      <th>award</th>\n",
              "      <th>genre</th>\n",
              "      <th>releaseDate</th>\n",
              "      <th>releaseLocation</th>\n",
              "      <th>actors</th>\n",
              "      <th>directors</th>\n",
              "    </tr>\n",
              "  </thead>\n",
              "  <tbody>\n",
              "    <tr>\n",
              "      <th>0</th>\n",
              "      <td>tt0012349</td>\n",
              "      <td>The Kid</td>\n",
              "      <td>The Tramp cares for an abandoned child, but ev...</td>\n",
              "      <td>1h 8m</td>\n",
              "      <td>4080</td>\n",
              "      <td>{'count': 134289, 'star': 8.2}</td>\n",
              "      <td>{'wins': 2, 'nominations': 0}</td>\n",
              "      <td>[Comedy, Drama, Family]</td>\n",
              "      <td>1921-02-06</td>\n",
              "      <td>United States</td>\n",
              "      <td>[Charles Chaplin, Edna Purviance, Jackie Coogan]</td>\n",
              "      <td>[Charles Chaplin]</td>\n",
              "    </tr>\n",
              "    <tr>\n",
              "      <th>1</th>\n",
              "      <td>tt0015864</td>\n",
              "      <td>The Gold Rush</td>\n",
              "      <td>A prospector goes to the Klondike during the 1...</td>\n",
              "      <td>1h 35m</td>\n",
              "      <td>5700</td>\n",
              "      <td>{'count': 118269, 'star': 8.1}</td>\n",
              "      <td>{'wins': 5, 'nominations': 3}</td>\n",
              "      <td>[Adventure, Comedy, Drama, Romance, Western]</td>\n",
              "      <td>1925-08-16</td>\n",
              "      <td>United States</td>\n",
              "      <td>[Charles Chaplin, Mack Swain, Tom Murray]</td>\n",
              "      <td>[Charles Chaplin]</td>\n",
              "    </tr>\n",
              "    <tr>\n",
              "      <th>2</th>\n",
              "      <td>tt0017136</td>\n",
              "      <td>Metropolis</td>\n",
              "      <td>In a futuristic city sharply divided between t...</td>\n",
              "      <td>2h 33m</td>\n",
              "      <td>9180</td>\n",
              "      <td>{'count': 184863, 'star': 8.3}</td>\n",
              "      <td>{'wins': 6, 'nominations': 6}</td>\n",
              "      <td>[Drama, Sci-Fi]</td>\n",
              "      <td>1927-03-13</td>\n",
              "      <td>United States</td>\n",
              "      <td>[Brigitte Helm, Alfred Abel, Gustav Fröhlich]</td>\n",
              "      <td>[Fritz Lang]</td>\n",
              "    </tr>\n",
              "    <tr>\n",
              "      <th>3</th>\n",
              "      <td>tt0017925</td>\n",
              "      <td>The General</td>\n",
              "      <td>After being rejected by the Confederate milita...</td>\n",
              "      <td>1h 18m</td>\n",
              "      <td>4680</td>\n",
              "      <td>{'count': 97815, 'star': 8.1}</td>\n",
              "      <td>{'wins': 2, 'nominations': 1}</td>\n",
              "      <td>[Action, Adventure, Comedy, Drama, War]</td>\n",
              "      <td>1927-01-02</td>\n",
              "      <td>United States</td>\n",
              "      <td>[Buster Keaton, Marion Mack, Glen Cavender]</td>\n",
              "      <td>[Clyde Bruckman, Buster Keaton]</td>\n",
              "    </tr>\n",
              "    <tr>\n",
              "      <th>4</th>\n",
              "      <td>tt0019254</td>\n",
              "      <td>The Passion of Joan of Arc</td>\n",
              "      <td>In 1431, Jeanne d'Arc is placed on trial on ch...</td>\n",
              "      <td>1h 54m</td>\n",
              "      <td>6840</td>\n",
              "      <td>{'count': 60378, 'star': 8.1}</td>\n",
              "      <td>{'wins': 4, 'nominations': 1}</td>\n",
              "      <td>[Biography, Drama, History]</td>\n",
              "      <td>1928-10-25</td>\n",
              "      <td>France</td>\n",
              "      <td>[Maria Falconetti, Eugene Silvain, André Berley]</td>\n",
              "      <td>[Carl Theodor Dreyer]</td>\n",
              "    </tr>\n",
              "  </tbody>\n",
              "</table>\n",
              "</div>"
            ],
            "text/plain": [
              "    movie_id                       title  \\\n",
              "0  tt0012349                     The Kid   \n",
              "1  tt0015864               The Gold Rush   \n",
              "2  tt0017136                  Metropolis   \n",
              "3  tt0017925                 The General   \n",
              "4  tt0019254  The Passion of Joan of Arc   \n",
              "\n",
              "                                        introduction runtime  runtimeSeconds  \\\n",
              "0  The Tramp cares for an abandoned child, but ev...   1h 8m            4080   \n",
              "1  A prospector goes to the Klondike during the 1...  1h 35m            5700   \n",
              "2  In a futuristic city sharply divided between t...  2h 33m            9180   \n",
              "3  After being rejected by the Confederate milita...  1h 18m            4680   \n",
              "4  In 1431, Jeanne d'Arc is placed on trial on ch...  1h 54m            6840   \n",
              "\n",
              "                           rating                          award  \\\n",
              "0  {'count': 134289, 'star': 8.2}  {'wins': 2, 'nominations': 0}   \n",
              "1  {'count': 118269, 'star': 8.1}  {'wins': 5, 'nominations': 3}   \n",
              "2  {'count': 184863, 'star': 8.3}  {'wins': 6, 'nominations': 6}   \n",
              "3   {'count': 97815, 'star': 8.1}  {'wins': 2, 'nominations': 1}   \n",
              "4   {'count': 60378, 'star': 8.1}  {'wins': 4, 'nominations': 1}   \n",
              "\n",
              "                                          genre releaseDate releaseLocation  \\\n",
              "0                       [Comedy, Drama, Family]  1921-02-06   United States   \n",
              "1  [Adventure, Comedy, Drama, Romance, Western]  1925-08-16   United States   \n",
              "2                               [Drama, Sci-Fi]  1927-03-13   United States   \n",
              "3       [Action, Adventure, Comedy, Drama, War]  1927-01-02   United States   \n",
              "4                   [Biography, Drama, History]  1928-10-25          France   \n",
              "\n",
              "                                             actors  \\\n",
              "0  [Charles Chaplin, Edna Purviance, Jackie Coogan]   \n",
              "1         [Charles Chaplin, Mack Swain, Tom Murray]   \n",
              "2     [Brigitte Helm, Alfred Abel, Gustav Fröhlich]   \n",
              "3       [Buster Keaton, Marion Mack, Glen Cavender]   \n",
              "4  [Maria Falconetti, Eugene Silvain, André Berley]   \n",
              "\n",
              "                         directors  \n",
              "0                [Charles Chaplin]  \n",
              "1                [Charles Chaplin]  \n",
              "2                     [Fritz Lang]  \n",
              "3  [Clyde Bruckman, Buster Keaton]  \n",
              "4            [Carl Theodor Dreyer]  "
            ]
          },
          "execution_count": 3,
          "metadata": {},
          "output_type": "execute_result"
        }
      ],
      "source": [
        "directory = 'data/movies_inf'\n",
        "for filename in os.listdir(directory):\n",
        "    if filename.endswith('.json'):\n",
        "        filepath = os.path.join(directory, filename)\n",
        "        with open(filepath, 'r') as file:\n",
        "            data_json = json.load(file)\n",
        "\n",
        "        for key in movies_info.keys():\n",
        "            if key in data_json:\n",
        "                movies_info[key].append(data_json[key])\n",
        "\n",
        "\n",
        "raw_df = pd.DataFrame(movies_info)\n",
        "raw_df.head(5)"
      ]
    },
    {
      "cell_type": "markdown",
      "metadata": {},
      "source": [
        "Lưu data dưới dạng file `raw.csv`"
      ]
    },
    {
      "cell_type": "code",
      "execution_count": 4,
      "metadata": {
        "id": "3MHWs6SrIMnE"
      },
      "outputs": [],
      "source": [
        "raw_df.to_csv('movie_info_raw.csv', index = False)"
      ]
    },
    {
      "cell_type": "markdown",
      "metadata": {},
      "source": [
        "#### BẮT ĐẦU KHÁM PHÁ VÀ TIỀN XỬ LÝ DỮ LIỆU"
      ]
    },
    {
      "cell_type": "code",
      "execution_count": 5,
      "metadata": {},
      "outputs": [],
      "source": [
        "raw_df = pd.read_csv('movie_info_raw.csv')"
      ]
    },
    {
      "cell_type": "markdown",
      "metadata": {
        "id": "pemX7YH7IMnE"
      },
      "source": [
        "#### 3. Tính số dòng và cột"
      ]
    },
    {
      "cell_type": "code",
      "execution_count": 6,
      "metadata": {
        "colab": {
          "base_uri": "https://localhost:8080/"
        },
        "id": "4k4l_0OEIMnF",
        "outputId": "4c956340-d9f3-4306-e82f-c8625dd4f8ac"
      },
      "outputs": [
        {
          "name": "stdout",
          "output_type": "stream",
          "text": [
            "Số dòng: 489\n",
            "Số cột: 12\n"
          ]
        }
      ],
      "source": [
        "#Dòng & cột\n",
        "n_rows, n_cols = raw_df.shape\n",
        "print(f'Số dòng: {n_rows}\\nSố cột: {n_cols}')"
      ]
    },
    {
      "cell_type": "markdown",
      "metadata": {
        "id": "tZ2no1HrIMnF"
      },
      "source": [
        "#### 4. Mỗi dòng có ý nghĩa gì? Có vấn đề các dòng có ý nghĩa khác nhau không?"
      ]
    },
    {
      "cell_type": "markdown",
      "metadata": {
        "id": "DSkrIDLnIMnG"
      },
      "source": [
        "Mỗi dòng trong tập dữ liệu tương ứng với một bản ghi các thông tin về một bộ phim gồm các thuộc tính như: tên phim, giới thiệu sơ lược, độ dài phim, thể loại, diễn viên, đạo diễn,...\n",
        "Và không có vấn đề các dòng có ý nghĩa khác nhau."
      ]
    },
    {
      "cell_type": "markdown",
      "metadata": {
        "id": "VvQQ-Rr8IMnG"
      },
      "source": [
        "#### 5. Dữ liệu có các dòng bị lặp không?"
      ]
    },
    {
      "cell_type": "code",
      "execution_count": 7,
      "metadata": {
        "colab": {
          "base_uri": "https://localhost:8080/"
        },
        "id": "wR-6fcbmIMnH",
        "outputId": "76228dab-931b-4e74-9e43-237033478f3f"
      },
      "outputs": [
        {
          "name": "stdout",
          "output_type": "stream",
          "text": [
            "Số dòng bị lặp: 0\n"
          ]
        }
      ],
      "source": [
        "n_duplicate = raw_df.duplicated().sum()\n",
        "print('Số dòng bị lặp:', n_duplicate)"
      ]
    },
    {
      "cell_type": "markdown",
      "metadata": {
        "id": "S9qdxxnUIMnH"
      },
      "source": [
        "#### 6. Mỗi cột có ý nghĩa gì?"
      ]
    },
    {
      "cell_type": "markdown",
      "metadata": {
        "id": "-Z1CtliHIMnI"
      },
      "source": [
        "Mỗi cột có ý nghĩa:\n",
        "- movie_id: mã phim\n",
        "- title: tên phim\n",
        "- introduction: giới thiệu ngắn gọn nội dung phim\n",
        "- runtime: độ dài phim tính theo giờ và phút\n",
        "- runtimeSeconds: độ dài phim tính theo giây\n",
        "- rating: đánh giá của người xem về phim, bao gồm số lượt đánh giá và số sao đánh giá trung bình\n",
        "- award: các giải thưởng và đề cử mà bộ phim có được\n",
        "- genre: thể loại phim\n",
        "- releaseDate: ngày phát hành\n",
        "- releaseLocation: nơi phát hành phim\n",
        "- actors: diễn viên trong phim\n",
        "- directors: đạo diễn của bộ phim"
      ]
    },
    {
      "cell_type": "markdown",
      "metadata": {},
      "source": [
        "#### 7. Xử lý tách các cột có kiểu dictionary thành nhiều cột"
      ]
    },
    {
      "cell_type": "markdown",
      "metadata": {},
      "source": [
        "Nếu lấy data từ file movie_info_raw.csv, thì dữ liệu dict được coi như là string, do đó phải chuyển kiểu dữ liệu về đúng định dạng ban đầu"
      ]
    },
    {
      "cell_type": "code",
      "execution_count": 8,
      "metadata": {},
      "outputs": [],
      "source": [
        "for i in raw_df.select_dtypes(include = 'object'):\n",
        "    if raw_df[i][0].find('{') != -1:\n",
        "        raw_df[i] = raw_df[i].apply(eval)"
      ]
    },
    {
      "cell_type": "markdown",
      "metadata": {},
      "source": [
        "Nếu đọc dataframe từ file .json thì trực tiếp tách cột"
      ]
    },
    {
      "cell_type": "code",
      "execution_count": 9,
      "metadata": {},
      "outputs": [
        {
          "name": "stdout",
          "output_type": "stream",
          "text": [
            "Cột có kiểu dữ liệu dictionary: ['rating', 'award']\n"
          ]
        }
      ],
      "source": [
        "dict_col = []\n",
        "for col in raw_df.columns:\n",
        "    if isinstance(raw_df[col][0], dict):\n",
        "        dict_col.append(col)\n",
        "\n",
        "print('Cột có kiểu dữ liệu dictionary:', dict_col)"
      ]
    },
    {
      "cell_type": "code",
      "execution_count": 10,
      "metadata": {},
      "outputs": [
        {
          "data": {
            "text/html": [
              "<div>\n",
              "<style scoped>\n",
              "    .dataframe tbody tr th:only-of-type {\n",
              "        vertical-align: middle;\n",
              "    }\n",
              "\n",
              "    .dataframe tbody tr th {\n",
              "        vertical-align: top;\n",
              "    }\n",
              "\n",
              "    .dataframe thead th {\n",
              "        text-align: right;\n",
              "    }\n",
              "</style>\n",
              "<table border=\"1\" class=\"dataframe\">\n",
              "  <thead>\n",
              "    <tr style=\"text-align: right;\">\n",
              "      <th></th>\n",
              "      <th>movie_id</th>\n",
              "      <th>title</th>\n",
              "      <th>introduction</th>\n",
              "      <th>runtime</th>\n",
              "      <th>runtimeSeconds</th>\n",
              "      <th>rating</th>\n",
              "      <th>award</th>\n",
              "      <th>genre</th>\n",
              "      <th>releaseDate</th>\n",
              "      <th>releaseLocation</th>\n",
              "      <th>actors</th>\n",
              "      <th>directors</th>\n",
              "      <th>totalRatings</th>\n",
              "      <th>ratingStar</th>\n",
              "      <th>totalAwards</th>\n",
              "      <th>totalNominations</th>\n",
              "    </tr>\n",
              "  </thead>\n",
              "  <tbody>\n",
              "    <tr>\n",
              "      <th>0</th>\n",
              "      <td>tt0012349</td>\n",
              "      <td>The Kid</td>\n",
              "      <td>The Tramp cares for an abandoned child, but ev...</td>\n",
              "      <td>1h 8m</td>\n",
              "      <td>4080</td>\n",
              "      <td>{'count': 134289, 'star': 8.2}</td>\n",
              "      <td>{'wins': 2, 'nominations': 0}</td>\n",
              "      <td>['Comedy', 'Drama', 'Family']</td>\n",
              "      <td>1921-02-06</td>\n",
              "      <td>United States</td>\n",
              "      <td>['Charles Chaplin', 'Edna Purviance', 'Jackie ...</td>\n",
              "      <td>['Charles Chaplin']</td>\n",
              "      <td>134289.0</td>\n",
              "      <td>8.2</td>\n",
              "      <td>2</td>\n",
              "      <td>0</td>\n",
              "    </tr>\n",
              "    <tr>\n",
              "      <th>1</th>\n",
              "      <td>tt0015864</td>\n",
              "      <td>The Gold Rush</td>\n",
              "      <td>A prospector goes to the Klondike during the 1...</td>\n",
              "      <td>1h 35m</td>\n",
              "      <td>5700</td>\n",
              "      <td>{'count': 118269, 'star': 8.1}</td>\n",
              "      <td>{'wins': 5, 'nominations': 3}</td>\n",
              "      <td>['Adventure', 'Comedy', 'Drama', 'Romance', 'W...</td>\n",
              "      <td>1925-08-16</td>\n",
              "      <td>United States</td>\n",
              "      <td>['Charles Chaplin', 'Mack Swain', 'Tom Murray']</td>\n",
              "      <td>['Charles Chaplin']</td>\n",
              "      <td>118269.0</td>\n",
              "      <td>8.1</td>\n",
              "      <td>5</td>\n",
              "      <td>3</td>\n",
              "    </tr>\n",
              "    <tr>\n",
              "      <th>2</th>\n",
              "      <td>tt0017136</td>\n",
              "      <td>Metropolis</td>\n",
              "      <td>In a futuristic city sharply divided between t...</td>\n",
              "      <td>2h 33m</td>\n",
              "      <td>9180</td>\n",
              "      <td>{'count': 184863, 'star': 8.3}</td>\n",
              "      <td>{'wins': 6, 'nominations': 6}</td>\n",
              "      <td>['Drama', 'Sci-Fi']</td>\n",
              "      <td>1927-03-13</td>\n",
              "      <td>United States</td>\n",
              "      <td>['Brigitte Helm', 'Alfred Abel', 'Gustav Fröhl...</td>\n",
              "      <td>['Fritz Lang']</td>\n",
              "      <td>184863.0</td>\n",
              "      <td>8.3</td>\n",
              "      <td>6</td>\n",
              "      <td>6</td>\n",
              "    </tr>\n",
              "  </tbody>\n",
              "</table>\n",
              "</div>"
            ],
            "text/plain": [
              "    movie_id          title  \\\n",
              "0  tt0012349        The Kid   \n",
              "1  tt0015864  The Gold Rush   \n",
              "2  tt0017136     Metropolis   \n",
              "\n",
              "                                        introduction runtime  runtimeSeconds  \\\n",
              "0  The Tramp cares for an abandoned child, but ev...   1h 8m            4080   \n",
              "1  A prospector goes to the Klondike during the 1...  1h 35m            5700   \n",
              "2  In a futuristic city sharply divided between t...  2h 33m            9180   \n",
              "\n",
              "                           rating                          award  \\\n",
              "0  {'count': 134289, 'star': 8.2}  {'wins': 2, 'nominations': 0}   \n",
              "1  {'count': 118269, 'star': 8.1}  {'wins': 5, 'nominations': 3}   \n",
              "2  {'count': 184863, 'star': 8.3}  {'wins': 6, 'nominations': 6}   \n",
              "\n",
              "                                               genre releaseDate  \\\n",
              "0                      ['Comedy', 'Drama', 'Family']  1921-02-06   \n",
              "1  ['Adventure', 'Comedy', 'Drama', 'Romance', 'W...  1925-08-16   \n",
              "2                                ['Drama', 'Sci-Fi']  1927-03-13   \n",
              "\n",
              "  releaseLocation                                             actors  \\\n",
              "0   United States  ['Charles Chaplin', 'Edna Purviance', 'Jackie ...   \n",
              "1   United States    ['Charles Chaplin', 'Mack Swain', 'Tom Murray']   \n",
              "2   United States  ['Brigitte Helm', 'Alfred Abel', 'Gustav Fröhl...   \n",
              "\n",
              "             directors  totalRatings  ratingStar  totalAwards  \\\n",
              "0  ['Charles Chaplin']      134289.0         8.2            2   \n",
              "1  ['Charles Chaplin']      118269.0         8.1            5   \n",
              "2       ['Fritz Lang']      184863.0         8.3            6   \n",
              "\n",
              "   totalNominations  \n",
              "0                 0  \n",
              "1                 3  \n",
              "2                 6  "
            ]
          },
          "execution_count": 10,
          "metadata": {},
          "output_type": "execute_result"
        }
      ],
      "source": [
        "raw_df = pd.concat([raw_df, raw_df['rating'].apply(pd.Series), raw_df['award'].apply(pd.Series)],axis = 1)\n",
        "raw_df.rename(columns = {'count': 'totalRatings', 'star':'ratingStar', 'wins': 'totalAwards',\n",
        "                         'nominations': 'totalNominations'}, inplace = True)\n",
        "raw_df.head(3)"
      ]
    },
    {
      "cell_type": "markdown",
      "metadata": {
        "id": "o0YJ-J3WIMnI"
      },
      "source": [
        "#### 8. Loại bỏ một số cột không cần thiết"
      ]
    },
    {
      "cell_type": "markdown",
      "metadata": {
        "id": "Q9V03FdBIMnI"
      },
      "source": [
        "- Sau khi tìm hiểu các thuộc tính của dữ liệu, ta thấy rằng cột `runtime` và `runtimeSeconds` đều có ý nghĩa là độ dài của bộ phim, do vậy để tránh việc dư thừa, ta tiến hành xóa cột `runtime` và giữ lại `runtimeSeconds`\n",
        "- Ngoài ra, các cột có kiểu dữ liệu dict ban đầu (`rating` và `award`), sau khi đã tách cột cũng sẽ được xóa khỏi dataframe"
      ]
    },
    {
      "cell_type": "code",
      "execution_count": 11,
      "metadata": {
        "colab": {
          "base_uri": "https://localhost:8080/"
        },
        "id": "pbaeGAYxIMnJ",
        "outputId": "3cbfa246-2fe2-451a-83db-07638bfaa7fc"
      },
      "outputs": [
        {
          "data": {
            "text/plain": [
              "Index(['movie_id', 'title', 'introduction', 'runtimeSeconds', 'genre',\n",
              "       'releaseDate', 'releaseLocation', 'actors', 'directors', 'totalRatings',\n",
              "       'ratingStar', 'totalAwards', 'totalNominations'],\n",
              "      dtype='object')"
            ]
          },
          "execution_count": 11,
          "metadata": {},
          "output_type": "execute_result"
        }
      ],
      "source": [
        "raw_df = raw_df.drop(columns = ['runtime', 'rating', 'award'])\n",
        "raw_df.columns"
      ]
    },
    {
      "cell_type": "markdown",
      "metadata": {
        "id": "PQlKyrEfIMnL"
      },
      "source": [
        "#### 9. Mỗi cột hiện có kiểu dữ liệu gì? Có cột nào có kiểu dữ liệu không phù hợp để xử lý tiếp không?"
      ]
    },
    {
      "cell_type": "code",
      "execution_count": 12,
      "metadata": {
        "colab": {
          "base_uri": "https://localhost:8080/"
        },
        "id": "OmWP9SsXIMnL",
        "outputId": "0905a97c-0c2c-4cc0-c678-b97477a5da50"
      },
      "outputs": [
        {
          "data": {
            "text/plain": [
              "movie_id             object\n",
              "title                object\n",
              "introduction         object\n",
              "runtimeSeconds        int64\n",
              "genre                object\n",
              "releaseDate          object\n",
              "releaseLocation      object\n",
              "actors               object\n",
              "directors            object\n",
              "totalRatings        float64\n",
              "ratingStar          float64\n",
              "totalAwards           int64\n",
              "totalNominations      int64\n",
              "dtype: object"
            ]
          },
          "execution_count": 12,
          "metadata": {},
          "output_type": "execute_result"
        }
      ],
      "source": [
        "raw_df.dtypes"
      ]
    },
    {
      "cell_type": "markdown",
      "metadata": {},
      "source": [
        "Ta thấy rằng nên đưa cột `releaseDate` về dạng datetime để tiếp tục khám phá thêm ở cột này."
      ]
    },
    {
      "cell_type": "code",
      "execution_count": 13,
      "metadata": {
        "id": "8Kq76r7nIMnM"
      },
      "outputs": [],
      "source": [
        "raw_df['releaseDate'] = pd.to_datetime(raw_df['releaseDate'])"
      ]
    },
    {
      "cell_type": "markdown",
      "metadata": {},
      "source": [
        "Kiểm tra lại"
      ]
    },
    {
      "cell_type": "code",
      "execution_count": 14,
      "metadata": {
        "colab": {
          "base_uri": "https://localhost:8080/"
        },
        "id": "XxxxysWNIMnM",
        "outputId": "c485b29f-8ad3-420c-e2fb-d33fb99e854a"
      },
      "outputs": [
        {
          "data": {
            "text/plain": [
              "movie_id                    object\n",
              "title                       object\n",
              "introduction                object\n",
              "runtimeSeconds               int64\n",
              "genre                       object\n",
              "releaseDate         datetime64[ns]\n",
              "releaseLocation             object\n",
              "actors                      object\n",
              "directors                   object\n",
              "totalRatings               float64\n",
              "ratingStar                 float64\n",
              "totalAwards                  int64\n",
              "totalNominations             int64\n",
              "dtype: object"
            ]
          },
          "execution_count": 14,
          "metadata": {},
          "output_type": "execute_result"
        }
      ],
      "source": [
        "raw_df.dtypes"
      ]
    },
    {
      "cell_type": "markdown",
      "metadata": {
        "id": "m5451-fXIMnM"
      },
      "source": [
        "#### 10. Xem xét sự phân bố giá trị của các cột dữ liệu dạng số"
      ]
    },
    {
      "cell_type": "code",
      "execution_count": 15,
      "metadata": {
        "colab": {
          "base_uri": "https://localhost:8080/"
        },
        "id": "MIEihOBUIMnN",
        "outputId": "ba158dc3-ccd5-4098-ad0e-9e5753d3be48"
      },
      "outputs": [
        {
          "data": {
            "text/plain": [
              "Index(['runtimeSeconds', 'releaseDate', 'totalRatings', 'ratingStar',\n",
              "       'totalAwards', 'totalNominations'],\n",
              "      dtype='object')"
            ]
          },
          "execution_count": 15,
          "metadata": {},
          "output_type": "execute_result"
        }
      ],
      "source": [
        "numeric_df = raw_df.select_dtypes(exclude = 'object')\n",
        "numeric_df.columns"
      ]
    },
    {
      "cell_type": "markdown",
      "metadata": {},
      "source": [
        "Các cột dữ liệu dạng số là: runtimeSeconds, releaseDate, totalRatings, ratingStar, totalAwards, totalNominations\n",
        "\n",
        "Thực hiện thống kê trên các cột này và lưu vào một dataframe với các dòng đại diện cho các giá trị:\n",
        "- Tỉ lệ % (từ 0 đến 100) các giá trị thiếu (missing_ratio).\n",
        "- Giá trị min (min).\n",
        "- Giá trị lower quartile (phân vị 25) (lower_quartile).\n",
        "- Giá trị median (phân vị 50) (median).\n",
        "- Giá trị upper quartile (phân vị 75) (upper_quartile).\n",
        "- Giá trị max (max)."
      ]
    },
    {
      "cell_type": "code",
      "execution_count": 16,
      "metadata": {
        "colab": {
          "base_uri": "https://localhost:8080/",
          "height": 237
        },
        "id": "lREEmlrYIMnN",
        "outputId": "4aa2f732-e22c-4f46-d5c8-89cb4d987ea6"
      },
      "outputs": [
        {
          "data": {
            "text/html": [
              "<div>\n",
              "<style scoped>\n",
              "    .dataframe tbody tr th:only-of-type {\n",
              "        vertical-align: middle;\n",
              "    }\n",
              "\n",
              "    .dataframe tbody tr th {\n",
              "        vertical-align: top;\n",
              "    }\n",
              "\n",
              "    .dataframe thead th {\n",
              "        text-align: right;\n",
              "    }\n",
              "</style>\n",
              "<table border=\"1\" class=\"dataframe\">\n",
              "  <thead>\n",
              "    <tr style=\"text-align: right;\">\n",
              "      <th></th>\n",
              "      <th>runtimeSeconds</th>\n",
              "      <th>releaseDate</th>\n",
              "      <th>totalRatings</th>\n",
              "      <th>ratingStar</th>\n",
              "      <th>totalAwards</th>\n",
              "      <th>totalNominations</th>\n",
              "    </tr>\n",
              "  </thead>\n",
              "  <tbody>\n",
              "    <tr>\n",
              "      <th>missing_ratio</th>\n",
              "      <td>0.0</td>\n",
              "      <td>0.0</td>\n",
              "      <td>0.0</td>\n",
              "      <td>0.0</td>\n",
              "      <td>0.0</td>\n",
              "      <td>0.0</td>\n",
              "    </tr>\n",
              "    <tr>\n",
              "      <th>min</th>\n",
              "      <td>3060.0</td>\n",
              "      <td>1921-02-06 00:00:00</td>\n",
              "      <td>120.0</td>\n",
              "      <td>4.1</td>\n",
              "      <td>0.0</td>\n",
              "      <td>0.0</td>\n",
              "    </tr>\n",
              "    <tr>\n",
              "      <th>lower_quartile</th>\n",
              "      <td>5760.0</td>\n",
              "      <td>1959-03-19 00:00:00</td>\n",
              "      <td>9276.0</td>\n",
              "      <td>6.7</td>\n",
              "      <td>0.0</td>\n",
              "      <td>1.0</td>\n",
              "    </tr>\n",
              "    <tr>\n",
              "      <th>median</th>\n",
              "      <td>6780.0</td>\n",
              "      <td>1986-06-27 00:00:00</td>\n",
              "      <td>164132.0</td>\n",
              "      <td>8.0</td>\n",
              "      <td>5.0</td>\n",
              "      <td>7.0</td>\n",
              "    </tr>\n",
              "    <tr>\n",
              "      <th>upper_quartile</th>\n",
              "      <td>7920.0</td>\n",
              "      <td>2005-06-17 00:00:00</td>\n",
              "      <td>590544.0</td>\n",
              "      <td>8.2</td>\n",
              "      <td>24.0</td>\n",
              "      <td>28.0</td>\n",
              "    </tr>\n",
              "    <tr>\n",
              "      <th>max</th>\n",
              "      <td>14280.0</td>\n",
              "      <td>2023-07-21 00:00:00</td>\n",
              "      <td>2875039.0</td>\n",
              "      <td>9.3</td>\n",
              "      <td>342.0</td>\n",
              "      <td>357.0</td>\n",
              "    </tr>\n",
              "  </tbody>\n",
              "</table>\n",
              "</div>"
            ],
            "text/plain": [
              "                runtimeSeconds          releaseDate  totalRatings  ratingStar  \\\n",
              "missing_ratio              0.0                  0.0           0.0         0.0   \n",
              "min                     3060.0  1921-02-06 00:00:00         120.0         4.1   \n",
              "lower_quartile          5760.0  1959-03-19 00:00:00        9276.0         6.7   \n",
              "median                  6780.0  1986-06-27 00:00:00      164132.0         8.0   \n",
              "upper_quartile          7920.0  2005-06-17 00:00:00      590544.0         8.2   \n",
              "max                    14280.0  2023-07-21 00:00:00     2875039.0         9.3   \n",
              "\n",
              "                totalAwards  totalNominations  \n",
              "missing_ratio           0.0               0.0  \n",
              "min                     0.0               0.0  \n",
              "lower_quartile          0.0               1.0  \n",
              "median                  5.0               7.0  \n",
              "upper_quartile         24.0              28.0  \n",
              "max                   342.0             357.0  "
            ]
          },
          "execution_count": 16,
          "metadata": {},
          "output_type": "execute_result"
        }
      ],
      "source": [
        "def missing_ratio(x):\n",
        "    res = x.isnull().sum()* 100.0 / len(x)\n",
        "    return res\n",
        "\n",
        "def lower_quartile(x):\n",
        "    return x.quantile(0.25)\n",
        "\n",
        "def median(x):\n",
        "    return x.quantile(0.5)\n",
        "\n",
        "def upper_quartile(x):\n",
        "    return x.quantile(0.75)\n",
        "\n",
        "numeric_df = numeric_df.agg([missing_ratio, \"min\", lower_quartile, median, upper_quartile, \"max\"]).round(1)\n",
        "numeric_df"
      ]
    },
    {
      "cell_type": "markdown",
      "metadata": {},
      "source": [
        "Các cột có kiểu dữ liệu dạng numeric không có giá trị thiếu, do những giá trị thuộc tính này là những giá trị cần thiết, thông dụng và dễ có được của một bộ phim"
      ]
    },
    {
      "cell_type": "markdown",
      "metadata": {
        "id": "XLD_IJfrIMnO"
      },
      "source": [
        "#### 11. Xem xét sự phân bố giá trị của các cột dữ liệu không phải dạng số"
      ]
    },
    {
      "cell_type": "code",
      "execution_count": 17,
      "metadata": {
        "colab": {
          "base_uri": "https://localhost:8080/"
        },
        "id": "LHqQwMqBIMnO",
        "outputId": "d124a57b-6e91-40bb-d99b-93221fd1f608"
      },
      "outputs": [
        {
          "data": {
            "text/plain": [
              "Index(['movie_id', 'title', 'introduction', 'genre', 'releaseLocation',\n",
              "       'actors', 'directors'],\n",
              "      dtype='object')"
            ]
          },
          "execution_count": 17,
          "metadata": {},
          "output_type": "execute_result"
        }
      ],
      "source": [
        "category_df = raw_df.select_dtypes(include = 'object')\n",
        "category_df.columns"
      ]
    },
    {
      "cell_type": "markdown",
      "metadata": {},
      "source": [
        "Các cột dữ liệu không phải dạng số là: movie_id, title, introduction, genre, releaseLocation, actors, directors\n",
        "\n",
        "Thực hiện thống kê và lưu vào một dataframe với các dòng có giá trị mang ý nghĩa:\n",
        "- Tỉ lệ % (từ 0 đến 100) các giá trị thiếu (missing_ratio).\n",
        "- Số lượng các giá trị khác nhau (không xét giá trị thiếu) (num_values).\n",
        "- Tỉ lệ % (từ 0 đến 100) của mỗi giá trị được sort theo tỉ lệ % giảm dần (tỉ lệ là tỉ lệ so với số lượng các giá trị không thiếu): dùng dictionary để lưu, key là giá trị, value là tỉ lệ % (value_ratios)"
      ]
    },
    {
      "cell_type": "code",
      "execution_count": 18,
      "metadata": {
        "colab": {
          "base_uri": "https://localhost:8080/",
          "height": 230
        },
        "id": "M1R9IjwcIMnO",
        "outputId": "dad72a71-942c-43c1-93b6-3f06ea8e5116"
      },
      "outputs": [
        {
          "data": {
            "text/html": [
              "<div>\n",
              "<style scoped>\n",
              "    .dataframe tbody tr th:only-of-type {\n",
              "        vertical-align: middle;\n",
              "    }\n",
              "\n",
              "    .dataframe tbody tr th {\n",
              "        vertical-align: top;\n",
              "    }\n",
              "\n",
              "    .dataframe thead th {\n",
              "        text-align: right;\n",
              "    }\n",
              "</style>\n",
              "<table border=\"1\" class=\"dataframe\">\n",
              "  <thead>\n",
              "    <tr style=\"text-align: right;\">\n",
              "      <th></th>\n",
              "      <th>movie_id</th>\n",
              "      <th>title</th>\n",
              "      <th>introduction</th>\n",
              "      <th>genre</th>\n",
              "      <th>releaseLocation</th>\n",
              "      <th>actors</th>\n",
              "      <th>directors</th>\n",
              "    </tr>\n",
              "  </thead>\n",
              "  <tbody>\n",
              "    <tr>\n",
              "      <th>missing_ratio</th>\n",
              "      <td>0.0</td>\n",
              "      <td>0.0</td>\n",
              "      <td>0.0</td>\n",
              "      <td>0.0</td>\n",
              "      <td>0.0</td>\n",
              "      <td>0.0</td>\n",
              "      <td>0.0</td>\n",
              "    </tr>\n",
              "    <tr>\n",
              "      <th>num_values</th>\n",
              "      <td>489</td>\n",
              "      <td>487</td>\n",
              "      <td>489</td>\n",
              "      <td>228</td>\n",
              "      <td>24</td>\n",
              "      <td>486</td>\n",
              "      <td>357</td>\n",
              "    </tr>\n",
              "    <tr>\n",
              "      <th>value_ratios</th>\n",
              "      <td>{'tt0012349': 0.204, 'tt0180093': 0.204, 'tt01...</td>\n",
              "      <td>{'The Kid': 0.204, 'Lock, Stock and Two Smokin...</td>\n",
              "      <td>{'The Tramp cares for an abandoned child, but ...</td>\n",
              "      <td>{'['Action', 'Horror', 'Sci-Fi']': 0.204, '['A...</td>\n",
              "      <td>{'Portugal': 0.204, 'Finland': 0.204, 'United ...</td>\n",
              "      <td>{'['Charles Chaplin', 'Edna Purviance', 'Jacki...</td>\n",
              "      <td>{'['Alejandro G. Iñárritu']': 0.204, '['Floria...</td>\n",
              "    </tr>\n",
              "  </tbody>\n",
              "</table>\n",
              "</div>"
            ],
            "text/plain": [
              "                                                        movie_id  \\\n",
              "missing_ratio                                                0.0   \n",
              "num_values                                                   489   \n",
              "value_ratios   {'tt0012349': 0.204, 'tt0180093': 0.204, 'tt01...   \n",
              "\n",
              "                                                           title  \\\n",
              "missing_ratio                                                0.0   \n",
              "num_values                                                   487   \n",
              "value_ratios   {'The Kid': 0.204, 'Lock, Stock and Two Smokin...   \n",
              "\n",
              "                                                    introduction  \\\n",
              "missing_ratio                                                0.0   \n",
              "num_values                                                   489   \n",
              "value_ratios   {'The Tramp cares for an abandoned child, but ...   \n",
              "\n",
              "                                                           genre  \\\n",
              "missing_ratio                                                0.0   \n",
              "num_values                                                   228   \n",
              "value_ratios   {'['Action', 'Horror', 'Sci-Fi']': 0.204, '['A...   \n",
              "\n",
              "                                                 releaseLocation  \\\n",
              "missing_ratio                                                0.0   \n",
              "num_values                                                    24   \n",
              "value_ratios   {'Portugal': 0.204, 'Finland': 0.204, 'United ...   \n",
              "\n",
              "                                                          actors  \\\n",
              "missing_ratio                                                0.0   \n",
              "num_values                                                   486   \n",
              "value_ratios   {'['Charles Chaplin', 'Edna Purviance', 'Jacki...   \n",
              "\n",
              "                                                       directors  \n",
              "missing_ratio                                                0.0  \n",
              "num_values                                                   357  \n",
              "value_ratios   {'['Alejandro G. Iñárritu']': 0.204, '['Floria...  "
            ]
          },
          "execution_count": 18,
          "metadata": {},
          "output_type": "execute_result"
        }
      ],
      "source": [
        "#pd.set_option('display.max_columns', None)\n",
        "#pd.set_option('display.max_rows', None)\n",
        "\n",
        "def missing_ratio(x):\n",
        "    res = x.isnull().sum()* 100.0 / len(x)\n",
        "    return res\n",
        "\n",
        "def num_values(x):\n",
        "    return x.dropna().nunique()\n",
        "\n",
        "def value_ratios(x):\n",
        "    d = {}\n",
        "    value_cnt = x.value_counts()\n",
        "    value_list = list(value_cnt.keys())\n",
        "    n = x.dropna().count()\n",
        "    for val in value_list:\n",
        "        d[val] = round(value_cnt[val] / n * 100.0, 3)\n",
        "        d = dict(sorted(d.items(), key=lambda item: item[1]))\n",
        "    return d\n",
        "\n",
        "category_df = category_df.agg([missing_ratio, num_values, value_ratios])\n",
        "category_df"
      ]
    },
    {
      "cell_type": "markdown",
      "metadata": {},
      "source": [
        "Các cột có kiểu dữ liệu dạng category không có giá trị thiếu, do những giá trị thuộc tính này là những giá trị cần thiết, thông dụng và dễ có được của một bộ phim"
      ]
    },
    {
      "cell_type": "markdown",
      "metadata": {
        "id": "aj_wRxjnLAaw"
      },
      "source": [
        "#### 12. Lưu dữ liệu có được vào file .csv để phục vụ cho các phần sau của đồ án"
      ]
    },
    {
      "cell_type": "code",
      "execution_count": 19,
      "metadata": {
        "id": "xqgtY2aHK_ah"
      },
      "outputs": [],
      "source": [
        "raw_df.to_csv('movies_info_clean.csv', index = False)"
      ]
    }
  ],
  "metadata": {
    "colab": {
      "provenance": []
    },
    "kernelspec": {
      "display_name": "Python 3",
      "language": "python",
      "name": "python3"
    },
    "language_info": {
      "codemirror_mode": {
        "name": "ipython",
        "version": 3
      },
      "file_extension": ".py",
      "mimetype": "text/x-python",
      "name": "python",
      "nbconvert_exporter": "python",
      "pygments_lexer": "ipython3",
      "version": "3.10.7"
    }
  },
  "nbformat": 4,
  "nbformat_minor": 0
}
