{
 "cells": [
  {
   "cell_type": "markdown",
   "metadata": {},
   "source": [
    "1. Import thư viện"
   ]
  },
  {
   "cell_type": "code",
   "execution_count": 1,
   "metadata": {},
   "outputs": [],
   "source": [
    "import json\n",
    "import pandas as pd\n",
    "import os"
   ]
  },
  {
   "cell_type": "markdown",
   "metadata": {},
   "source": [
    "2. Đọc data & lưu dưới dạng dataframe"
   ]
  },
  {
   "cell_type": "code",
   "execution_count": 2,
   "metadata": {},
   "outputs": [],
   "source": [
    "movies_info = {\n",
    "    \"movie_id\": [],\n",
    "    \"title\": [], \n",
    "    \"introduction\": [], \n",
    "    \"runtime\": [], \n",
    "    \"runtimeSeconds\": [], \n",
    "    \"rating\": [], \n",
    "    \"award\": [], \n",
    "    \"genre\": [], \n",
    "    \"releaseDate\": [], \n",
    "    \"releaseLocation\": [], \n",
    "    \"actors\": [], \n",
    "    \"directors\": []\n",
    "}"
   ]
  },
  {
   "cell_type": "code",
   "execution_count": 8,
   "metadata": {},
   "outputs": [
    {
     "data": {
      "text/html": [
       "<div>\n",
       "<style scoped>\n",
       "    .dataframe tbody tr th:only-of-type {\n",
       "        vertical-align: middle;\n",
       "    }\n",
       "\n",
       "    .dataframe tbody tr th {\n",
       "        vertical-align: top;\n",
       "    }\n",
       "\n",
       "    .dataframe thead th {\n",
       "        text-align: right;\n",
       "    }\n",
       "</style>\n",
       "<table border=\"1\" class=\"dataframe\">\n",
       "  <thead>\n",
       "    <tr style=\"text-align: right;\">\n",
       "      <th></th>\n",
       "      <th>movie_id</th>\n",
       "      <th>title</th>\n",
       "      <th>introduction</th>\n",
       "      <th>runtime</th>\n",
       "      <th>runtimeSeconds</th>\n",
       "      <th>rating</th>\n",
       "      <th>award</th>\n",
       "      <th>genre</th>\n",
       "      <th>releaseDate</th>\n",
       "      <th>releaseLocation</th>\n",
       "      <th>actors</th>\n",
       "      <th>directors</th>\n",
       "    </tr>\n",
       "  </thead>\n",
       "  <tbody>\n",
       "    <tr>\n",
       "      <th>0</th>\n",
       "      <td>tt0012349</td>\n",
       "      <td>The Kid</td>\n",
       "      <td>The Tramp cares for an abandoned child, but ev...</td>\n",
       "      <td>1h 8m</td>\n",
       "      <td>4080</td>\n",
       "      <td>{'count': 134289, 'star': 8.2}</td>\n",
       "      <td>{'wins': 2, 'nominations': 0}</td>\n",
       "      <td>[Comedy, Drama, Family]</td>\n",
       "      <td>1921-02-06</td>\n",
       "      <td>United States</td>\n",
       "      <td>[Charles Chaplin, Edna Purviance, Jackie Coogan]</td>\n",
       "      <td>[Charles Chaplin]</td>\n",
       "    </tr>\n",
       "    <tr>\n",
       "      <th>1</th>\n",
       "      <td>tt0015864</td>\n",
       "      <td>The Gold Rush</td>\n",
       "      <td>A prospector goes to the Klondike during the 1...</td>\n",
       "      <td>1h 35m</td>\n",
       "      <td>5700</td>\n",
       "      <td>{'count': 118269, 'star': 8.1}</td>\n",
       "      <td>{'wins': 5, 'nominations': 3}</td>\n",
       "      <td>[Adventure, Comedy, Drama, Romance, Western]</td>\n",
       "      <td>1925-08-16</td>\n",
       "      <td>United States</td>\n",
       "      <td>[Charles Chaplin, Mack Swain, Tom Murray]</td>\n",
       "      <td>[Charles Chaplin]</td>\n",
       "    </tr>\n",
       "    <tr>\n",
       "      <th>2</th>\n",
       "      <td>tt0017136</td>\n",
       "      <td>Metropolis</td>\n",
       "      <td>In a futuristic city sharply divided between t...</td>\n",
       "      <td>2h 33m</td>\n",
       "      <td>9180</td>\n",
       "      <td>{'count': 184863, 'star': 8.3}</td>\n",
       "      <td>{'wins': 6, 'nominations': 6}</td>\n",
       "      <td>[Drama, Sci-Fi]</td>\n",
       "      <td>1927-03-13</td>\n",
       "      <td>United States</td>\n",
       "      <td>[Brigitte Helm, Alfred Abel, Gustav Fröhlich]</td>\n",
       "      <td>[Fritz Lang]</td>\n",
       "    </tr>\n",
       "    <tr>\n",
       "      <th>3</th>\n",
       "      <td>tt0017925</td>\n",
       "      <td>The General</td>\n",
       "      <td>After being rejected by the Confederate milita...</td>\n",
       "      <td>1h 18m</td>\n",
       "      <td>4680</td>\n",
       "      <td>{'count': 97815, 'star': 8.1}</td>\n",
       "      <td>{'wins': 2, 'nominations': 1}</td>\n",
       "      <td>[Action, Adventure, Comedy, Drama, War]</td>\n",
       "      <td>1927-01-02</td>\n",
       "      <td>United States</td>\n",
       "      <td>[Buster Keaton, Marion Mack, Glen Cavender]</td>\n",
       "      <td>[Clyde Bruckman, Buster Keaton]</td>\n",
       "    </tr>\n",
       "    <tr>\n",
       "      <th>4</th>\n",
       "      <td>tt0019254</td>\n",
       "      <td>The Passion of Joan of Arc</td>\n",
       "      <td>In 1431, Jeanne d'Arc is placed on trial on ch...</td>\n",
       "      <td>1h 54m</td>\n",
       "      <td>6840</td>\n",
       "      <td>{'count': 60378, 'star': 8.1}</td>\n",
       "      <td>{'wins': 4, 'nominations': 1}</td>\n",
       "      <td>[Biography, Drama, History]</td>\n",
       "      <td>1928-10-25</td>\n",
       "      <td>France</td>\n",
       "      <td>[Maria Falconetti, Eugene Silvain, André Berley]</td>\n",
       "      <td>[Carl Theodor Dreyer]</td>\n",
       "    </tr>\n",
       "  </tbody>\n",
       "</table>\n",
       "</div>"
      ],
      "text/plain": [
       "    movie_id                       title  \\\n",
       "0  tt0012349                     The Kid   \n",
       "1  tt0015864               The Gold Rush   \n",
       "2  tt0017136                  Metropolis   \n",
       "3  tt0017925                 The General   \n",
       "4  tt0019254  The Passion of Joan of Arc   \n",
       "\n",
       "                                        introduction runtime  runtimeSeconds  \\\n",
       "0  The Tramp cares for an abandoned child, but ev...   1h 8m            4080   \n",
       "1  A prospector goes to the Klondike during the 1...  1h 35m            5700   \n",
       "2  In a futuristic city sharply divided between t...  2h 33m            9180   \n",
       "3  After being rejected by the Confederate milita...  1h 18m            4680   \n",
       "4  In 1431, Jeanne d'Arc is placed on trial on ch...  1h 54m            6840   \n",
       "\n",
       "                           rating                          award  \\\n",
       "0  {'count': 134289, 'star': 8.2}  {'wins': 2, 'nominations': 0}   \n",
       "1  {'count': 118269, 'star': 8.1}  {'wins': 5, 'nominations': 3}   \n",
       "2  {'count': 184863, 'star': 8.3}  {'wins': 6, 'nominations': 6}   \n",
       "3   {'count': 97815, 'star': 8.1}  {'wins': 2, 'nominations': 1}   \n",
       "4   {'count': 60378, 'star': 8.1}  {'wins': 4, 'nominations': 1}   \n",
       "\n",
       "                                          genre releaseDate releaseLocation  \\\n",
       "0                       [Comedy, Drama, Family]  1921-02-06   United States   \n",
       "1  [Adventure, Comedy, Drama, Romance, Western]  1925-08-16   United States   \n",
       "2                               [Drama, Sci-Fi]  1927-03-13   United States   \n",
       "3       [Action, Adventure, Comedy, Drama, War]  1927-01-02   United States   \n",
       "4                   [Biography, Drama, History]  1928-10-25          France   \n",
       "\n",
       "                                             actors  \\\n",
       "0  [Charles Chaplin, Edna Purviance, Jackie Coogan]   \n",
       "1         [Charles Chaplin, Mack Swain, Tom Murray]   \n",
       "2     [Brigitte Helm, Alfred Abel, Gustav Fröhlich]   \n",
       "3       [Buster Keaton, Marion Mack, Glen Cavender]   \n",
       "4  [Maria Falconetti, Eugene Silvain, André Berley]   \n",
       "\n",
       "                         directors  \n",
       "0                [Charles Chaplin]  \n",
       "1                [Charles Chaplin]  \n",
       "2                     [Fritz Lang]  \n",
       "3  [Clyde Bruckman, Buster Keaton]  \n",
       "4            [Carl Theodor Dreyer]  "
      ]
     },
     "execution_count": 8,
     "metadata": {},
     "output_type": "execute_result"
    }
   ],
   "source": [
    "directory = 'data/movies_inf'\n",
    "for filename in os.listdir(directory):\n",
    "    if filename.endswith('.json'):\n",
    "        filepath = os.path.join(directory, filename)\n",
    "        with open(filepath, 'r') as file:\n",
    "            data_json = json.load(file)\n",
    "        \n",
    "        for key in movies_info.keys():\n",
    "            if key in data_json:\n",
    "                movies_info[key].append(data_json[key])\n",
    "\n",
    "\n",
    "raw_df = pd.DataFrame(movies_info)\n",
    "raw_df.head(5)"
   ]
  },
  {
   "cell_type": "code",
   "execution_count": 9,
   "metadata": {},
   "outputs": [],
   "source": [
    "raw_df.to_csv('movie_info_raw.csv', index = False)"
   ]
  },
  {
   "cell_type": "markdown",
   "metadata": {},
   "source": [
    "3. Tính số dòng và cột"
   ]
  },
  {
   "cell_type": "code",
   "execution_count": 10,
   "metadata": {},
   "outputs": [
    {
     "name": "stdout",
     "output_type": "stream",
     "text": [
      "Số dòng: 978\n",
      "Số cột: 12\n"
     ]
    }
   ],
   "source": [
    "#Dòng & cột\n",
    "n_rows, n_cols = raw_df.shape\n",
    "print(f'Số dòng: {n_rows}\\nSố cột: {n_cols}')"
   ]
  },
  {
   "cell_type": "markdown",
   "metadata": {},
   "source": [
    "4. Mỗi dòng có ý nghĩa gì? Có vấn đề các dòng có ý nghĩa khác nhau không? "
   ]
  },
  {
   "cell_type": "markdown",
   "metadata": {},
   "source": [
    "Mỗi dòng trong tập dữ liệu tương ứng với một bản ghi các thông tin về một bộ phim gồm các thuộc tính như: tên phim, giới thiệu sơ lược, độ dài phim, thể loại, diễn viên, đạo diễn,...\n",
    "Và không có vấn đề các dòng có ý nghĩa khác nhau."
   ]
  },
  {
   "cell_type": "markdown",
   "metadata": {},
   "source": [
    "5. Mỗi cột có ý nghĩa gì?"
   ]
  },
  {
   "cell_type": "markdown",
   "metadata": {},
   "source": [
    "Mỗi cột có ý nghĩa:\n",
    "- movie_id: mã phim\n",
    "- title: tên phim\n",
    "- introduction: giới thiệu ngắn gọn nội dung phim\n",
    "- runtime: độ dài phim tính theo giờ và phút\n",
    "- runtimeSeconds: độ dài phim tính theo giây\n",
    "- rating: đánh giá của người xem về phim, bao gồm số lượt đánh giá và số sao đánh giá trung bình\n",
    "- award: các giải thưởng và đề cử mà bộ phim có được\n",
    "- genre: thể loại phim\n",
    "- releaseDate: ngày phát hành\n",
    "- releaseLocation: nơi phát hành phim\n",
    "- actors: diễn viên trong phim\n",
    "- directors: đạo diễn của bộ phim"
   ]
  },
  {
   "cell_type": "markdown",
   "metadata": {},
   "source": [
    "6. Loại bỏ một số cột không cần thiết"
   ]
  },
  {
   "cell_type": "markdown",
   "metadata": {},
   "source": [
    "Sau khi tìm hiểu các thuộc tính của dữ liệu, ta thấy rằng cột `runtime` và `runtimeSeconds` đều có ý nghĩa là độ dài của bộ phim, do vậy để tránh việc dư thừa, ta tiến hành xóa cột `runtime` và giữ lại `runtimeSeconds`"
   ]
  },
  {
   "cell_type": "code",
   "execution_count": 23,
   "metadata": {},
   "outputs": [
    {
     "data": {
      "text/plain": [
       "Index(['movie_id', 'title', 'introduction', 'runtimeSeconds', 'rating',\n",
       "       'award', 'genre', 'releaseDate', 'releaseLocation', 'actors',\n",
       "       'directors'],\n",
       "      dtype='object')"
      ]
     },
     "execution_count": 23,
     "metadata": {},
     "output_type": "execute_result"
    }
   ],
   "source": [
    "raw_df = raw_df.drop(columns = ['runtime'])\n",
    "raw_df.columns"
   ]
  }
 ],
 "metadata": {
  "kernelspec": {
   "display_name": "Python 3",
   "language": "python",
   "name": "python3"
  },
  "language_info": {
   "codemirror_mode": {
    "name": "ipython",
    "version": 3
   },
   "file_extension": ".py",
   "mimetype": "text/x-python",
   "name": "python",
   "nbconvert_exporter": "python",
   "pygments_lexer": "ipython3",
   "version": "3.10.7"
  }
 },
 "nbformat": 4,
 "nbformat_minor": 2
}
